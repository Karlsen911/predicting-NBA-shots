{
 "cells": [
  {
   "cell_type": "markdown",
   "id": "eae793b8",
   "metadata": {},
   "source": [
    "# Introduction to python (Continued)\n"
   ]
  },
  {
   "cell_type": "markdown",
   "id": "c12298ce",
   "metadata": {},
   "source": [
    "## Python User Input\n"
   ]
  },
  {
   "cell_type": "markdown",
   "id": "c3b366d1",
   "metadata": {},
   "source": [
    "Python allows for user input.\n",
    "\n",
    "That means we are able to ask the user for input.\n",
    "\n",
    "Python 3.6 uses the input() method."
   ]
  },
  {
   "cell_type": "code",
   "execution_count": 1,
   "id": "fac6060e",
   "metadata": {
    "ExecuteTime": {
     "end_time": "2022-11-24T08:14:32.819329Z",
     "start_time": "2022-11-24T08:14:32.805696Z"
    }
   },
   "outputs": [],
   "source": [
    "from IPython.core.interactiveshell import InteractiveShell\n",
    "InteractiveShell.ast_node_interactivity = \"all\""
   ]
  },
  {
   "cell_type": "code",
   "execution_count": null,
   "id": "1da6706e",
   "metadata": {
    "ExecuteTime": {
     "start_time": "2022-11-23T13:48:29.681Z"
    },
    "scrolled": true
   },
   "outputs": [],
   "source": [
    "username = input(\"Enter username:\")\n",
    "print(\"Username is: \" + username)"
   ]
  },
  {
   "cell_type": "code",
   "execution_count": 4,
   "id": "ef97ea24",
   "metadata": {
    "ExecuteTime": {
     "end_time": "2022-10-26T12:47:01.023171Z",
     "start_time": "2022-10-26T12:47:01.016179Z"
    },
    "scrolled": true
   },
   "outputs": [
    {
     "data": {
      "text/plain": [
       "'Kristina'"
      ]
     },
     "execution_count": 4,
     "metadata": {},
     "output_type": "execute_result"
    }
   ],
   "source": [
    "username"
   ]
  },
  {
   "cell_type": "markdown",
   "id": "42a2fe20",
   "metadata": {
    "ExecuteTime": {
     "end_time": "2022-10-26T12:55:58.252966Z",
     "start_time": "2022-10-26T12:55:58.236438Z"
    }
   },
   "source": [
    "<div class=\"alert alert-success\">\n",
    "\n",
    "**Exercise 1**\n",
    "    \n",
    "<ol>\n",
    "  <li>Create inputs where you first ask for name, then for surname and last, for address.</li>\n",
    "  <li>Print in format 'Person: name, surname, address' </li>\n",
    "\n",
    "</ol>\n",
    "\n",
    "</div>"
   ]
  },
  {
   "cell_type": "code",
   "execution_count": 1,
   "id": "f557ef18",
   "metadata": {
    "ExecuteTime": {
     "end_time": "2022-11-23T14:03:06.023254Z",
     "start_time": "2022-11-23T14:02:55.658662Z"
    }
   },
   "outputs": [
    {
     "name": "stdout",
     "output_type": "stream",
     "text": [
      "Enter username:kika\n",
      "Enter surname:grlic\n",
      "Enter address:bla bla\n"
     ]
    }
   ],
   "source": [
    "#1\n",
    "username = input(\"Enter username:\")\n",
    "surname = input(\"Enter surname:\")\n",
    "address = input(\"Enter address:\")\n",
    "print(\"Person:\" , username + ',' ,surname +  ',' ,address )\n",
    "\n"
   ]
  },
  {
   "cell_type": "markdown",
   "id": "e30c62f0",
   "metadata": {},
   "source": [
    "## Python String Formatting"
   ]
  },
  {
   "cell_type": "code",
   "execution_count": 6,
   "id": "f74939dd",
   "metadata": {
    "ExecuteTime": {
     "end_time": "2022-11-23T14:04:39.364268Z",
     "start_time": "2022-11-23T14:04:39.348642Z"
    }
   },
   "outputs": [
    {
     "name": "stdout",
     "output_type": "stream",
     "text": [
      "3 3 bok ja se \n"
     ]
    }
   ],
   "source": [
    "# printing numbers, separate with ','\n",
    "print(1+2,3, 'bok '+ 'ja se ')"
   ]
  },
  {
   "cell_type": "code",
   "execution_count": 9,
   "id": "15108397",
   "metadata": {
    "ExecuteTime": {
     "end_time": "2022-10-26T13:16:35.349975Z",
     "start_time": "2022-10-26T13:16:35.337842Z"
    },
    "scrolled": false
   },
   "outputs": [
    {
     "name": "stdout",
     "output_type": "stream",
     "text": [
      "[1, 2, 3]\n"
     ]
    }
   ],
   "source": [
    "print([1,2,3])"
   ]
  },
  {
   "cell_type": "markdown",
   "id": "4ecece3d",
   "metadata": {
    "ExecuteTime": {
     "end_time": "2022-10-26T14:11:07.388026Z",
     "start_time": "2022-10-26T14:11:07.375678Z"
    }
   },
   "source": [
    "Concating strings inside of print:\n",
    "\n",
    " * with + (usual string concating operation)\n",
    " * with coma (between fist and second object will be space caracter) - **can include numbers also**\n",
    " * **format() method**\n",
    " * f\" strings {variables} strings\""
   ]
  },
  {
   "cell_type": "code",
   "execution_count": 70,
   "id": "e6a55ba2",
   "metadata": {
    "ExecuteTime": {
     "end_time": "2022-10-26T15:42:55.759401Z",
     "start_time": "2022-10-26T15:42:55.745358Z"
    }
   },
   "outputs": [],
   "source": [
    "a=3"
   ]
  },
  {
   "cell_type": "code",
   "execution_count": 77,
   "id": "c3eec26b",
   "metadata": {
    "ExecuteTime": {
     "end_time": "2022-10-26T15:46:10.403128Z",
     "start_time": "2022-10-26T15:46:10.377431Z"
    },
    "scrolled": false
   },
   "outputs": [
    {
     "name": "stdout",
     "output_type": "stream",
     "text": [
      "Just printinggibberish. 2\n",
      "Just printing gibberish. 3\n",
      "Just printing gibberish. 3\n",
      "Just printing gibberish. 3\n"
     ]
    }
   ],
   "source": [
    "# You can combine strings with +, but you can also inside of print with ',' \n",
    "print('Just printing' + 'gibberish.' ,3 )\n",
    "print('Just printing ' + 'gibberish.', 3 )\n",
    "\n",
    "print('Just printing', 'gibberish.', 3 )\n",
    "print(f'Just printing gibberish. {3}' )"
   ]
  },
  {
   "cell_type": "code",
   "execution_count": 73,
   "id": "0e0a1dc5",
   "metadata": {
    "ExecuteTime": {
     "end_time": "2022-10-26T15:43:29.291414Z",
     "start_time": "2022-10-26T15:43:29.277797Z"
    }
   },
   "outputs": [
    {
     "name": "stdout",
     "output_type": "stream",
     "text": [
      "Name: Ivana, surname: Horvat, age: 3\n"
     ]
    }
   ],
   "source": [
    "print('Name: {}, surname: {}, age: {}'.format('Ivana', 'Horvat', 3))"
   ]
  },
  {
   "cell_type": "code",
   "execution_count": null,
   "id": "a7ea6418",
   "metadata": {},
   "outputs": [],
   "source": []
  },
  {
   "cell_type": "markdown",
   "id": "400ae62e",
   "metadata": {},
   "source": [
    "## Try, except"
   ]
  },
  {
   "cell_type": "markdown",
   "id": "b0897606",
   "metadata": {},
   "source": [
    "The try block lets you test a block of code for errors.\n",
    "\n",
    "The except block lets you handle the error.\n",
    "\n",
    "The else block lets you execute code when there is no error.\n",
    "\n",
    "The finally block lets you execute code, regardless of the result of the try- and except blocks."
   ]
  },
  {
   "cell_type": "code",
   "execution_count": 9,
   "id": "6c164fe3",
   "metadata": {
    "ExecuteTime": {
     "end_time": "2022-11-23T14:08:50.358201Z",
     "start_time": "2022-11-23T14:08:50.344583Z"
    }
   },
   "outputs": [
    {
     "name": "stdout",
     "output_type": "stream",
     "text": [
      "An exception occurred\n"
     ]
    }
   ],
   "source": [
    "try:\n",
    "  print(x)\n",
    "except:\n",
    "  print(\"An exception occurred\")"
   ]
  },
  {
   "cell_type": "markdown",
   "id": "53818e12",
   "metadata": {
    "ExecuteTime": {
     "end_time": "2022-10-26T14:23:35.219334Z",
     "start_time": "2022-10-26T14:23:35.211213Z"
    }
   },
   "source": [
    "You can define error (often built-in exceptions, more: https://docs.python.org/3/library/exceptions.html) and have more exept stages"
   ]
  },
  {
   "cell_type": "code",
   "execution_count": 13,
   "id": "58e8968b",
   "metadata": {
    "ExecuteTime": {
     "end_time": "2022-11-23T14:11:15.327267Z",
     "start_time": "2022-11-23T14:11:15.314367Z"
    }
   },
   "outputs": [
    {
     "name": "stdout",
     "output_type": "stream",
     "text": [
      "Variable x is not defined\n",
      "The 'try except' is finished\n"
     ]
    },
    {
     "data": {
      "text/plain": [
       "5"
      ]
     },
     "execution_count": 13,
     "metadata": {},
     "output_type": "execute_result"
    }
   ],
   "source": [
    "x=5\n",
    "try:\n",
    "  x=y+1\n",
    "except NameError:\n",
    "  print(\"Variable x is not defined\")\n",
    "except:\n",
    "  print(\"Something else went wrong\")\n",
    "finally:\n",
    "  print(\"The 'try except' is finished\")\n",
    "x"
   ]
  },
  {
   "cell_type": "code",
   "execution_count": null,
   "id": "c4561541",
   "metadata": {},
   "outputs": [],
   "source": []
  },
  {
   "cell_type": "markdown",
   "id": "23cd95e6",
   "metadata": {
    "ExecuteTime": {
     "end_time": "2022-10-26T15:15:41.367892Z",
     "start_time": "2022-10-26T15:15:41.352891Z"
    }
   },
   "source": [
    "<div class=\"alert alert-success\">\n",
    "\n",
    "**Exercise 2**\n",
    "    \n",
    "<ol>\n",
    "Client is increasing a price because of inflation for 3%. Prices = [ 23.45, 31.33, '29.1', 44.3]. Your goal is to create new list NewPrice with correct prices.\n",
    "   \n",
    "* In **try** stage: Calculate a new price \n",
    "* In first **except** stage: Catch TypeErrors (except TypeError), print ' {} is not a number. ' using format() module, make sure price is in a numerical form and calculate new price\n",
    "* In second **except** stage: Catch any other exeptions, print 'Something else went wrong with a price {}.' using format() module,\n",
    "* In **finally** stage: Round new price on 2 decimal positions (round(number,2)) and add new price to the list NewPrice.\n",
    "\n",
    "</div>"
   ]
  },
  {
   "cell_type": "code",
   "execution_count": 9,
   "id": "98d9be9e",
   "metadata": {
    "ExecuteTime": {
     "end_time": "2022-10-28T11:15:12.724307Z",
     "start_time": "2022-10-28T11:15:12.713227Z"
    }
   },
   "outputs": [
    {
     "name": "stdout",
     "output_type": "stream",
     "text": [
      "29.1 is not a number.\n",
      "[24.15, 32.27, 29.97, 45.63]\n"
     ]
    }
   ],
   "source": [
    "# code here\n",
    "Prices = [ 23.45, 31.33, '29.1', 44.3]\n",
    "NewPrice=[]\n",
    "for a in Prices:\n",
    "    try:\n",
    "        a_new=a*1.03\n",
    "    except TypeError:\n",
    "        print('{} is not a number.'.format(a))\n",
    "        a_new=float(a)*1.03\n",
    "    except:\n",
    "        print('Something else went wrong with a price {}'.format(a))\n",
    "    finally:\n",
    "        NewPrice.append(round(a_new,2))\n",
    "print(NewPrice)"
   ]
  },
  {
   "cell_type": "markdown",
   "id": "8b737ce5",
   "metadata": {
    "ExecuteTime": {
     "end_time": "2022-10-26T15:24:34.518481Z",
     "start_time": "2022-10-26T15:24:34.504227Z"
    }
   },
   "source": [
    "## File handling"
   ]
  },
  {
   "cell_type": "markdown",
   "id": "c1da1c37",
   "metadata": {},
   "source": [
    "File handling is an important part of any web application.\n",
    "\n",
    "Python has several functions for creating, reading, updating, and deleting files.\n",
    "\n",
    "The key function for working with files in Python is the open() function.\n",
    "\n",
    "The open() function takes two parameters; filename, and mode.\n",
    "\n",
    "There are four different methods (modes) for opening a file:\n",
    "* \"r\" - Read - Default value. Opens a file for reading, error if the file does not exist\n",
    "\n",
    "* \"a\" - Append - Opens a file for appending, creates the file if it does not exist\n",
    "\n",
    "* \"w\" - Write - Opens a file for writing, creates the file if it does not exist\n",
    "\n",
    "* \"x\" - Create - Creates the specified file, returns an error if the file exists"
   ]
  },
  {
   "cell_type": "code",
   "execution_count": 15,
   "id": "363dd8d9",
   "metadata": {
    "ExecuteTime": {
     "end_time": "2022-11-23T14:27:40.678469Z",
     "start_time": "2022-11-23T14:27:40.150582Z"
    }
   },
   "outputs": [
    {
     "ename": "FileExistsError",
     "evalue": "[Errno 17] File exists: 'myfile.txt'",
     "output_type": "error",
     "traceback": [
      "\u001b[1;31m---------------------------------------------------------------------------\u001b[0m",
      "\u001b[1;31mFileExistsError\u001b[0m                           Traceback (most recent call last)",
      "Input \u001b[1;32mIn [15]\u001b[0m, in \u001b[0;36m<cell line: 1>\u001b[1;34m()\u001b[0m\n\u001b[1;32m----> 1\u001b[0m f \u001b[38;5;241m=\u001b[39m \u001b[38;5;28;43mopen\u001b[39;49m\u001b[43m(\u001b[49m\u001b[38;5;124;43m\"\u001b[39;49m\u001b[38;5;124;43mmyfile.txt\u001b[39;49m\u001b[38;5;124;43m\"\u001b[39;49m\u001b[43m,\u001b[49m\u001b[43m \u001b[49m\u001b[38;5;124;43m\"\u001b[39;49m\u001b[38;5;124;43mx\u001b[39;49m\u001b[38;5;124;43m\"\u001b[39;49m\u001b[43m)\u001b[49m\n\u001b[0;32m      2\u001b[0m f\u001b[38;5;241m.\u001b[39mwrite(\u001b[38;5;124m\"\u001b[39m\u001b[38;5;124mNow the file has some content!\u001b[39m\u001b[38;5;124m\"\u001b[39m)\n\u001b[0;32m      3\u001b[0m f\u001b[38;5;241m.\u001b[39mclose()\n",
      "\u001b[1;31mFileExistsError\u001b[0m: [Errno 17] File exists: 'myfile.txt'"
     ]
    }
   ],
   "source": [
    "f = open(\"myfile.txt\", \"x\")\n",
    "f.write(\"Now the file has some content!\")\n",
    "f.close()"
   ]
  },
  {
   "cell_type": "code",
   "execution_count": null,
   "id": "c76fdcd2",
   "metadata": {},
   "outputs": [],
   "source": []
  },
  {
   "cell_type": "code",
   "execution_count": 16,
   "id": "1b07169f",
   "metadata": {
    "ExecuteTime": {
     "end_time": "2022-11-23T14:32:48.300895Z",
     "start_time": "2022-11-23T14:32:48.288910Z"
    }
   },
   "outputs": [
    {
     "name": "stdout",
     "output_type": "stream",
     "text": [
      "Now the file has some content!\n"
     ]
    }
   ],
   "source": [
    "f = open(\"myfile.txt\", \"r\")\n",
    "print(f.read())\n",
    "f.close()"
   ]
  },
  {
   "cell_type": "code",
   "execution_count": 17,
   "id": "c33af069",
   "metadata": {
    "ExecuteTime": {
     "end_time": "2022-11-23T14:32:56.778745Z",
     "start_time": "2022-11-23T14:32:56.766103Z"
    }
   },
   "outputs": [],
   "source": [
    "import os\n",
    "os.remove(\"myfile.txt\")"
   ]
  },
  {
   "cell_type": "markdown",
   "id": "ee118c9d",
   "metadata": {},
   "source": [
    "<div class=\"alert alert-success\">\n",
    "\n",
    "**Exercise 2**\n",
    "    \n",
    "<ol>\n",
    "<li>Follow this instructions: \n",
    "    \n",
    "* Create an empty file. (Take a look in folder and see if file exists.)\n",
    "* Write a sentence by your choice in a file.\n",
    "* Read this sentence and save it in argument a.\n",
    "* Delete a file.\n",
    "\n",
    "</div>"
   ]
  },
  {
   "cell_type": "code",
   "execution_count": 24,
   "id": "a3244729",
   "metadata": {
    "ExecuteTime": {
     "end_time": "2022-10-28T11:24:32.768767Z",
     "start_time": "2022-10-28T11:24:32.758959Z"
    }
   },
   "outputs": [
    {
     "name": "stdout",
     "output_type": "stream",
     "text": [
      "Bla and bla\n"
     ]
    }
   ],
   "source": [
    "# solutioooon\n",
    "f = open(\"myfile.txt\", \"x\")\n",
    "f.write(\"Bla and bla\")\n",
    "f = open(\"myfile.txt\", \"r\")\n",
    "a=f.read()\n",
    "print(a)\n",
    "f.close()\n",
    "os.remove(\"myfile.txt\")"
   ]
  },
  {
   "cell_type": "markdown",
   "id": "21dd79e5",
   "metadata": {
    "ExecuteTime": {
     "end_time": "2022-10-26T15:30:26.260050Z",
     "start_time": "2022-10-26T15:30:26.257051Z"
    }
   },
   "source": [
    "## Class"
   ]
  },
  {
   "cell_type": "markdown",
   "id": "a0a880ff",
   "metadata": {},
   "source": [
    "Python is an object oriented programming language.\n",
    "\n",
    "Almost everything in Python is an object, with its properties and methods.\n",
    "\n",
    "A Class is like an object constructor, or a \"blueprint\" for creating objects."
   ]
  },
  {
   "cell_type": "code",
   "execution_count": 18,
   "id": "9036659c",
   "metadata": {
    "ExecuteTime": {
     "end_time": "2022-11-23T14:41:26.523690Z",
     "start_time": "2022-11-23T14:41:26.504506Z"
    }
   },
   "outputs": [],
   "source": [
    "class PDV:\n",
    "  value = 0.25"
   ]
  },
  {
   "cell_type": "code",
   "execution_count": 19,
   "id": "762c1446",
   "metadata": {
    "ExecuteTime": {
     "end_time": "2022-11-23T14:41:32.277121Z",
     "start_time": "2022-11-23T14:41:32.257902Z"
    }
   },
   "outputs": [],
   "source": [
    "pdv_ratio = PDV()\n"
   ]
  },
  {
   "cell_type": "code",
   "execution_count": 20,
   "id": "cd5846bf",
   "metadata": {
    "ExecuteTime": {
     "end_time": "2022-11-23T14:41:38.473775Z",
     "start_time": "2022-11-23T14:41:38.463969Z"
    }
   },
   "outputs": [
    {
     "data": {
      "text/plain": [
       "0.25"
      ]
     },
     "execution_count": 20,
     "metadata": {},
     "output_type": "execute_result"
    }
   ],
   "source": [
    "pdv_ratio.value"
   ]
  },
  {
   "cell_type": "code",
   "execution_count": 3,
   "id": "9cef0cdd",
   "metadata": {
    "ExecuteTime": {
     "end_time": "2022-11-23T08:47:59.877528Z",
     "start_time": "2022-11-23T08:47:59.853379Z"
    }
   },
   "outputs": [
    {
     "name": "stdout",
     "output_type": "stream",
     "text": [
      "0.25\n"
     ]
    }
   ],
   "source": [
    "pdv_ratio = PDV()\n",
    "print(pdv_ratio.value)"
   ]
  },
  {
   "cell_type": "markdown",
   "id": "91ebfed8",
   "metadata": {
    "ExecuteTime": {
     "end_time": "2022-10-26T15:35:34.621854Z",
     "start_time": "2022-10-26T15:35:34.604046Z"
    }
   },
   "source": [
    "### The __init__() Function"
   ]
  },
  {
   "cell_type": "markdown",
   "id": "243c8859",
   "metadata": {},
   "source": [
    "All classes have a function called __init__(), which is always executed when the class is being initiated.\n",
    "\n",
    "Use the __init__() function to assign values to object properties."
   ]
  },
  {
   "cell_type": "code",
   "execution_count": 22,
   "id": "d9529c7b",
   "metadata": {
    "ExecuteTime": {
     "end_time": "2022-11-23T14:43:18.209688Z",
     "start_time": "2022-11-23T14:43:18.195890Z"
    }
   },
   "outputs": [
    {
     "name": "stdout",
     "output_type": "stream",
     "text": [
      "John\n",
      "36\n"
     ]
    }
   ],
   "source": [
    "class Person:\n",
    "  def __init__(ana, name, age):\n",
    "    ana.name = name\n",
    "    ana.age = age\n",
    "\n",
    "p1 = Person(\"John\", 36)\n",
    "\n",
    "print(p1.name)\n",
    "print(p1.age)\n"
   ]
  },
  {
   "cell_type": "markdown",
   "id": "624b9a15",
   "metadata": {},
   "source": [
    "###  The __str__() Function\n"
   ]
  },
  {
   "cell_type": "markdown",
   "id": "697b52ff",
   "metadata": {},
   "source": [
    "The __str__() function controls what should be returned when the class object is represented as a string.\n",
    "\n",
    "If the __str__() function is not set, the string representation of the object is returned:"
   ]
  },
  {
   "cell_type": "code",
   "execution_count": 116,
   "id": "f6786bc0",
   "metadata": {
    "ExecuteTime": {
     "end_time": "2022-10-27T07:49:47.092319Z",
     "start_time": "2022-10-27T07:49:47.079583Z"
    }
   },
   "outputs": [
    {
     "name": "stdout",
     "output_type": "stream",
     "text": [
      "<__main__.Person object at 0x000001298604E2B0>\n"
     ]
    }
   ],
   "source": [
    "print(p1)"
   ]
  },
  {
   "cell_type": "markdown",
   "id": "cae01f14",
   "metadata": {},
   "source": [
    "The string representation of an object WITH the __str__() function:\n",
    "\n"
   ]
  },
  {
   "cell_type": "code",
   "execution_count": 23,
   "id": "de048eb6",
   "metadata": {
    "ExecuteTime": {
     "end_time": "2022-11-23T14:44:29.306177Z",
     "start_time": "2022-11-23T14:44:29.299490Z"
    }
   },
   "outputs": [
    {
     "name": "stdout",
     "output_type": "stream",
     "text": [
      "John(36)\n"
     ]
    }
   ],
   "source": [
    "class Person:\n",
    "  def __init__(self, name, age):\n",
    "    self.name = name\n",
    "    self.age = age\n",
    "\n",
    "  def __str__(self):\n",
    "    return f\"{self.name}({self.age})\"\n",
    "\n",
    "p1 = Person(\"John\", 36)\n",
    "\n",
    "print(p1)"
   ]
  },
  {
   "cell_type": "code",
   "execution_count": 125,
   "id": "998facea",
   "metadata": {
    "ExecuteTime": {
     "end_time": "2022-10-27T07:52:06.709007Z",
     "start_time": "2022-10-27T07:52:06.698005Z"
    }
   },
   "outputs": [
    {
     "name": "stdout",
     "output_type": "stream",
     "text": [
      "John(36)\n"
     ]
    }
   ],
   "source": [
    "p1 = Person(\"John\", 36)\n",
    "print(p1)"
   ]
  },
  {
   "cell_type": "markdown",
   "id": "de97a8be",
   "metadata": {},
   "source": [
    "### Methods (functions inside of class)"
   ]
  },
  {
   "cell_type": "markdown",
   "id": "dd381f9a",
   "metadata": {},
   "source": [
    "Objects can also contain methods. Methods in objects are functions that belong to the object.\n",
    "\n"
   ]
  },
  {
   "cell_type": "code",
   "execution_count": 24,
   "id": "6f79d1a0",
   "metadata": {
    "ExecuteTime": {
     "end_time": "2022-11-23T14:46:33.391937Z",
     "start_time": "2022-11-23T14:46:33.381916Z"
    }
   },
   "outputs": [
    {
     "name": "stdout",
     "output_type": "stream",
     "text": [
      "Hello my name is John\n"
     ]
    }
   ],
   "source": [
    "class Person:\n",
    "  def __init__(self, name, age):\n",
    "    self.name = name\n",
    "    self.age = age\n",
    "\n",
    "  def myfunc(self):\n",
    "    print(\"Hello my name is \" + self.name)\n",
    "\n",
    "p1 = Person(\"John\", 36)\n",
    "p1.myfunc()"
   ]
  },
  {
   "cell_type": "code",
   "execution_count": null,
   "id": "0ab2b314",
   "metadata": {},
   "outputs": [],
   "source": [
    "p1."
   ]
  },
  {
   "cell_type": "markdown",
   "id": "b67a0186",
   "metadata": {},
   "source": [
    "### The Self Parameter\n"
   ]
  },
  {
   "cell_type": "markdown",
   "id": "3353b45e",
   "metadata": {},
   "source": [
    "The self parameter is a reference to the current instance of the class, and is used to access variables that belongs to the class.\n",
    "\n",
    "It does not have to be named 'self', you can call it whatever you like, but it has to be the first parameter of any function in the class"
   ]
  },
  {
   "cell_type": "code",
   "execution_count": 25,
   "id": "3d4e4da0",
   "metadata": {
    "ExecuteTime": {
     "end_time": "2022-11-23T14:47:48.335308Z",
     "start_time": "2022-11-23T14:47:48.317218Z"
    }
   },
   "outputs": [
    {
     "name": "stdout",
     "output_type": "stream",
     "text": [
      "Hello my name is John\n"
     ]
    }
   ],
   "source": [
    "class Person:\n",
    "  def __init__(mysillyobject, name, age):\n",
    "    mysillyobject.name = name\n",
    "    mysillyobject.age = age\n",
    "\n",
    "  def myfunc(abc):\n",
    "    print(\"Hello my name is \" + abc.name)\n",
    "\n",
    "p1 = Person(\"John\", 36)\n",
    "p1.myfunc()"
   ]
  },
  {
   "cell_type": "code",
   "execution_count": 26,
   "id": "77209358",
   "metadata": {
    "ExecuteTime": {
     "end_time": "2022-11-23T14:47:54.020460Z",
     "start_time": "2022-11-23T14:47:54.001033Z"
    },
    "scrolled": true
   },
   "outputs": [
    {
     "name": "stdout",
     "output_type": "stream",
     "text": [
      "<__main__.Person object at 0x0000025715E0AAC0>\n"
     ]
    }
   ],
   "source": [
    "print(p1)"
   ]
  },
  {
   "cell_type": "code",
   "execution_count": 29,
   "id": "ce39c998",
   "metadata": {
    "ExecuteTime": {
     "end_time": "2022-11-23T14:48:55.661774Z",
     "start_time": "2022-11-23T14:48:55.646797Z"
    }
   },
   "outputs": [
    {
     "data": {
      "text/plain": [
       "38"
      ]
     },
     "execution_count": 29,
     "metadata": {},
     "output_type": "execute_result"
    }
   ],
   "source": [
    "p1.age"
   ]
  },
  {
   "cell_type": "markdown",
   "id": "c654b483",
   "metadata": {},
   "source": [
    "### Modify Object Properties\n"
   ]
  },
  {
   "cell_type": "code",
   "execution_count": 28,
   "id": "4242851c",
   "metadata": {
    "ExecuteTime": {
     "end_time": "2022-11-23T14:48:52.182973Z",
     "start_time": "2022-11-23T14:48:52.165244Z"
    }
   },
   "outputs": [],
   "source": [
    "p1.age=38"
   ]
  },
  {
   "cell_type": "markdown",
   "id": "26644629",
   "metadata": {},
   "source": [
    "### Delete Object Properties\n"
   ]
  },
  {
   "cell_type": "code",
   "execution_count": 30,
   "id": "af34ca64",
   "metadata": {
    "ExecuteTime": {
     "end_time": "2022-11-23T14:49:01.334218Z",
     "start_time": "2022-11-23T14:49:01.325014Z"
    }
   },
   "outputs": [],
   "source": [
    "del p1"
   ]
  },
  {
   "cell_type": "markdown",
   "id": "cc79351d",
   "metadata": {
    "ExecuteTime": {
     "end_time": "2022-10-27T08:12:09.643998Z",
     "start_time": "2022-10-27T08:12:09.630999Z"
    }
   },
   "source": [
    "<div class=\"alert alert-success\">\n",
    "\n",
    "**Exercise 3**\n",
    "    \n",
    "<ol>\n",
    "<li>The goal is to create a class cat/dog (which every you prefere more) with its properties.\n",
    "    \n",
    "* Create a class\n",
    "* Add name, age, weight and 2 more properties related with class of your choice\n",
    "* Add a function that prints properties of a class when you call a function in form: 'Name of a cat: {name}, age: {age},...property:{property_value}'\n",
    "* Add a function that calcuate age of a cat/dog in cats/dogs years, call that property dog_yr_age/cat_yr_age\n",
    "* Create one object (dog or a cat) \n",
    "* After 1 year, your object changes its age, so please change age, and {object}_yr_age properties\n",
    "* Delete an object\n",
    "</div>"
   ]
  },
  {
   "cell_type": "code",
   "execution_count": 20,
   "id": "8ead5276",
   "metadata": {
    "ExecuteTime": {
     "end_time": "2022-11-24T08:15:10.259892Z",
     "start_time": "2022-11-24T08:15:10.238901Z"
    }
   },
   "outputs": [],
   "source": [
    "#answer\n",
    "class Cat:\n",
    "    def __init__(self,name,age,weight,height,owner):\n",
    "        self.name=name\n",
    "        self.age=age\n",
    "        self.weight=weight\n",
    "        self.height=height\n",
    "        self.owner=owner\n",
    "    def __str__(self):\n",
    "        return f\"Name of a cat:{self.name} {self.age}, weight: {self.weight}\" \n",
    "    \n",
    "    def cacl_cat_yr_age(self):\n",
    "        if self.age==1:\n",
    "            self.cat_yr_age=15\n",
    "        else:\n",
    "            self.cat_yr_age=25 + (self.age-2)*4\n",
    "        return self.cat_yr_age   \n"
   ]
  },
  {
   "cell_type": "code",
   "execution_count": 21,
   "id": "c6613bdb",
   "metadata": {
    "ExecuteTime": {
     "end_time": "2022-11-24T08:15:13.151815Z",
     "start_time": "2022-11-24T08:15:13.138817Z"
    }
   },
   "outputs": [
    {
     "data": {
      "text/plain": [
       "49"
      ]
     },
     "execution_count": 21,
     "metadata": {},
     "output_type": "execute_result"
    }
   ],
   "source": [
    "cat=Cat('Fleki', 8, 7,20,'ja')\n",
    "cat.cacl_cat_yr_age()"
   ]
  },
  {
   "cell_type": "code",
   "execution_count": 17,
   "id": "60bf7f3b",
   "metadata": {
    "ExecuteTime": {
     "end_time": "2022-11-24T08:14:07.879351Z",
     "start_time": "2022-11-24T08:14:07.858138Z"
    }
   },
   "outputs": [
    {
     "data": {
      "text/plain": [
       "53"
      ]
     },
     "execution_count": 17,
     "metadata": {},
     "output_type": "execute_result"
    }
   ],
   "source": [
    "cat.age=9\n",
    "cat.cacl_cat_yr_age()\n",
    "cat.cat_yr_age"
   ]
  },
  {
   "cell_type": "markdown",
   "id": "9bcee984",
   "metadata": {},
   "source": [
    "## Modules"
   ]
  },
  {
   "cell_type": "markdown",
   "id": "0f47af3a",
   "metadata": {},
   "source": [
    "Consider a module to be the same as a code library.\n",
    "\n",
    "A file containing a set of functions you want to include in your application.\n",
    "\n",
    "To create a module just save the code you want in a file with the file extension .py\n",
    "\n",
    "Use import statement to call the module.\n",
    "\n"
   ]
  },
  {
   "cell_type": "code",
   "execution_count": null,
   "id": "f3ed8fe2",
   "metadata": {
    "ExecuteTime": {
     "end_time": "2022-10-27T08:23:04.829664Z",
     "start_time": "2022-10-27T08:23:04.810914Z"
    }
   },
   "outputs": [],
   "source": [
    "# Save this code in a file named mymodule.py\n",
    "\n",
    "def func(x):\n",
    "  print(x)"
   ]
  },
  {
   "cell_type": "code",
   "execution_count": 23,
   "id": "8a414cdf",
   "metadata": {
    "ExecuteTime": {
     "end_time": "2022-11-24T08:17:06.084108Z",
     "start_time": "2022-11-24T08:17:06.078943Z"
    }
   },
   "outputs": [],
   "source": [
    "import mymodule\n"
   ]
  },
  {
   "cell_type": "code",
   "execution_count": null,
   "id": "26ae8e8a",
   "metadata": {},
   "outputs": [],
   "source": [
    "mymodule.func"
   ]
  },
  {
   "cell_type": "code",
   "execution_count": 24,
   "id": "b336f641",
   "metadata": {
    "ExecuteTime": {
     "end_time": "2022-11-24T08:17:23.934858Z",
     "start_time": "2022-11-24T08:17:23.926699Z"
    }
   },
   "outputs": [
    {
     "name": "stdout",
     "output_type": "stream",
     "text": [
      "Held\n"
     ]
    }
   ],
   "source": [
    "\n",
    "mymodule.func(\"Held\")"
   ]
  },
  {
   "cell_type": "markdown",
   "id": "96716ad5",
   "metadata": {
    "ExecuteTime": {
     "end_time": "2022-10-27T08:35:19.281555Z",
     "start_time": "2022-10-27T08:35:19.273451Z"
    }
   },
   "source": [
    "<div class=\"alert alert-success\">\n",
    "\n",
    "**Exercise 4**\n",
    "    \n",
    "<ol> \n",
    "<li>Create a module that calculates  N! Calucate 20! (To calculate factorial use math.factorial(n) from math library)\n",
    "    Instructions:\n",
    "    \n",
    "* Create a py file names factorial.py\n",
    "* Create a function inside of factorial.py that calcuates N! where N is parameter(input in a function)\n",
    "* Import as a library\n",
    "* Calcuate a 20!\n",
    "</div>"
   ]
  },
  {
   "cell_type": "code",
   "execution_count": 37,
   "id": "914f07ff",
   "metadata": {
    "ExecuteTime": {
     "end_time": "2022-10-28T12:21:54.628877Z",
     "start_time": "2022-10-28T12:21:54.609639Z"
    }
   },
   "outputs": [
    {
     "data": {
      "text/plain": [
       "2432902008176640000"
      ]
     },
     "execution_count": 37,
     "metadata": {},
     "output_type": "execute_result"
    }
   ],
   "source": [
    "# create txt file, write down code,a name it with an extention .py\n",
    "import factorial\n",
    "factorial.factorial(20)"
   ]
  },
  {
   "cell_type": "markdown",
   "id": "24750525",
   "metadata": {
    "ExecuteTime": {
     "end_time": "2022-10-27T10:09:19.416689Z",
     "start_time": "2022-10-27T10:09:19.400776Z"
    }
   },
   "source": [
    "## Libraries"
   ]
  },
  {
   "cell_type": "markdown",
   "id": "d170c03d",
   "metadata": {
    "ExecuteTime": {
     "end_time": "2022-10-27T10:12:24.140071Z",
     "start_time": "2022-10-27T10:12:24.121180Z"
    }
   },
   "source": [
    "Python Libraries are a set of useful functions that eliminate the need for writing codes from scratch. Mostly used python libraries are: numpy, pandas, mathplotlib, scipy"
   ]
  },
  {
   "cell_type": "markdown",
   "id": "5c03d7c5",
   "metadata": {
    "ExecuteTime": {
     "end_time": "2022-10-27T10:22:36.642497Z",
     "start_time": "2022-10-27T10:22:36.633396Z"
    }
   },
   "source": [
    "### Pip "
   ]
  },
  {
   "cell_type": "markdown",
   "id": "fa45604e",
   "metadata": {},
   "source": [
    "Some libraries are basic in python and you get them by default, while others you need to install. For installation we use pip module. PIP is a package manager for Python packages.\n",
    "```python\n",
    "pip install/uninstall package\n",
    "```\n",
    "\n",
    "If you need to use specific package, you have to import it first:\n",
    "\n",
    "```python\n",
    "import package \n",
    "```\n",
    "\n",
    "and then call functions inside of package with package.name_of_function\n",
    "\n",
    "Because of constant usage, it is often that you gave shorter name to your package with:\n",
    "\n",
    "```python\n",
    "import package as pk\n",
    "```"
   ]
  },
  {
   "cell_type": "code",
   "execution_count": 138,
   "id": "c7dacc4d",
   "metadata": {
    "ExecuteTime": {
     "end_time": "2022-10-27T10:26:01.148894Z",
     "start_time": "2022-10-27T10:25:56.718740Z"
    },
    "scrolled": true
   },
   "outputs": [
    {
     "name": "stdout",
     "output_type": "stream",
     "text": [
      "Requirement already satisfied: scipy in c:\\users\\kristina\\anaconda3\\lib\\site-packages (1.7.3)\n",
      "Requirement already satisfied: numpy<1.23.0,>=1.16.5 in c:\\users\\kristina\\anaconda3\\lib\\site-packages (from scipy) (1.21.5)\n",
      "Note: you may need to restart the kernel to use updated packages.\n"
     ]
    }
   ],
   "source": [
    "pip install scipy"
   ]
  },
  {
   "cell_type": "code",
   "execution_count": null,
   "id": "1fd7fbe8",
   "metadata": {},
   "outputs": [],
   "source": []
  },
  {
   "cell_type": "markdown",
   "id": "3d6fe273",
   "metadata": {},
   "source": [
    "### Numpy"
   ]
  },
  {
   "cell_type": "markdown",
   "id": "5b54bebe",
   "metadata": {},
   "source": [
    "NumPy is a Python library.\n",
    "\n",
    "NumPy is used for working with arrays. Data type in a array is the same.\n",
    "\n",
    "\n",
    "NumPy is short for \"Numerical Python\".\n",
    "\n",
    "NumPy offers comprehensive mathematical functions, random number generators, linear algebra routines, and more."
   ]
  },
  {
   "cell_type": "code",
   "execution_count": 2,
   "id": "4b2844f4",
   "metadata": {
    "ExecuteTime": {
     "end_time": "2022-11-24T08:31:05.224353Z",
     "start_time": "2022-11-24T08:31:05.215270Z"
    }
   },
   "outputs": [],
   "source": [
    "import numpy as np"
   ]
  },
  {
   "cell_type": "code",
   "execution_count": 26,
   "id": "a9061872",
   "metadata": {
    "ExecuteTime": {
     "end_time": "2022-11-24T08:31:16.092709Z",
     "start_time": "2022-11-24T08:31:16.062820Z"
    }
   },
   "outputs": [
    {
     "data": {
      "text/plain": [
       "array([1, 2, 3, 4, 5])"
      ]
     },
     "execution_count": 26,
     "metadata": {},
     "output_type": "execute_result"
    }
   ],
   "source": [
    "np.array([1,2,3,4,5])"
   ]
  },
  {
   "cell_type": "code",
   "execution_count": 27,
   "id": "c6612687",
   "metadata": {
    "ExecuteTime": {
     "end_time": "2022-11-24T08:31:24.194606Z",
     "start_time": "2022-11-24T08:31:24.182604Z"
    }
   },
   "outputs": [
    {
     "data": {
      "text/plain": [
       "array(['20', '40', 'hello', 'world'], dtype='<U11')"
      ]
     },
     "execution_count": 27,
     "metadata": {},
     "output_type": "execute_result"
    }
   ],
   "source": [
    "np.array([20, 40, 'hello', 'world'])\n"
   ]
  },
  {
   "cell_type": "markdown",
   "id": "885d4d91",
   "metadata": {},
   "source": [
    "An array in Python is generally used to store a list of similar items. One real-life use-case of a display can be to store the stock prices of a particular stock for a range of days. The closing price of the stock remains intact for a specific stock and day. This means that storing such details in an immutable data structure such as an array makes much more sense.\n",
    "\n",
    "In fact, NumPy arrays are generally used to store data from large datasets in data science and machine learning. Each NumPy array corresponds to a feature in a dataset."
   ]
  },
  {
   "cell_type": "code",
   "execution_count": 28,
   "id": "5c881fea",
   "metadata": {
    "ExecuteTime": {
     "end_time": "2022-11-24T08:31:59.756410Z",
     "start_time": "2022-11-24T08:31:59.744425Z"
    }
   },
   "outputs": [],
   "source": [
    " myList = np.array([20, 40, 'hello', 'world'])"
   ]
  },
  {
   "cell_type": "code",
   "execution_count": 30,
   "id": "6a0b641a",
   "metadata": {
    "ExecuteTime": {
     "end_time": "2022-11-24T08:32:20.037842Z",
     "start_time": "2022-11-24T08:32:20.028847Z"
    }
   },
   "outputs": [],
   "source": [
    "myList[2]=3"
   ]
  },
  {
   "cell_type": "code",
   "execution_count": 31,
   "id": "a0a65de3",
   "metadata": {
    "ExecuteTime": {
     "end_time": "2022-11-24T08:32:21.151165Z",
     "start_time": "2022-11-24T08:32:21.134164Z"
    }
   },
   "outputs": [
    {
     "data": {
      "text/plain": [
       "array(['20', '40', '3', 'world'], dtype='<U11')"
      ]
     },
     "execution_count": 31,
     "metadata": {},
     "output_type": "execute_result"
    }
   ],
   "source": [
    "myList"
   ]
  },
  {
   "cell_type": "code",
   "execution_count": 150,
   "id": "b9a1217b",
   "metadata": {
    "ExecuteTime": {
     "end_time": "2022-10-27T10:42:15.695307Z",
     "start_time": "2022-10-27T10:42:15.678243Z"
    },
    "scrolled": true
   },
   "outputs": [
    {
     "data": {
      "text/plain": [
       "['20', '3', '40', 'world']"
      ]
     },
     "execution_count": 150,
     "metadata": {},
     "output_type": "execute_result"
    }
   ],
   "source": [
    "sorted(myList)"
   ]
  },
  {
   "cell_type": "code",
   "execution_count": 32,
   "id": "885b6f4e",
   "metadata": {
    "ExecuteTime": {
     "end_time": "2022-11-24T08:32:45.625803Z",
     "start_time": "2022-11-24T08:32:45.612297Z"
    }
   },
   "outputs": [],
   "source": [
    "#time is to calculate duration of code\n",
    "import time"
   ]
  },
  {
   "cell_type": "markdown",
   "id": "54ba8aaf",
   "metadata": {},
   "source": [
    "**Differences between list and array**"
   ]
  },
  {
   "cell_type": "markdown",
   "id": "f0f65144",
   "metadata": {},
   "source": [
    "**1. Duration**"
   ]
  },
  {
   "cell_type": "code",
   "execution_count": 37,
   "id": "85032d93",
   "metadata": {
    "ExecuteTime": {
     "end_time": "2022-11-24T08:35:23.028996Z",
     "start_time": "2022-11-24T08:35:23.023997Z"
    }
   },
   "outputs": [
    {
     "name": "stdout",
     "output_type": "stream",
     "text": [
      "Duration: 0.00099945068359375, result: 4999950000\n"
     ]
    }
   ],
   "source": [
    "start=time.time()\n",
    "rez=np.sum(np.arange(100000, dtype=np.int64))\n",
    "end=time.time() - start\n",
    "print(f'Duration: {end}, result: {rez}')"
   ]
  },
  {
   "cell_type": "code",
   "execution_count": 38,
   "id": "8aa07762",
   "metadata": {
    "ExecuteTime": {
     "end_time": "2022-11-24T08:35:23.913391Z",
     "start_time": "2022-11-24T08:35:23.891163Z"
    }
   },
   "outputs": [
    {
     "name": "stdout",
     "output_type": "stream",
     "text": [
      "Duration: 0.008231878280639648, result: 4999950000\n"
     ]
    }
   ],
   "source": [
    "start=time.time()\n",
    "a=sum(list(range(1,100000)))\n",
    "end=time.time() - start\n",
    "print(f'Duration: {end}, result: {rez}')"
   ]
  },
  {
   "cell_type": "markdown",
   "id": "700b50af",
   "metadata": {
    "ExecuteTime": {
     "end_time": "2022-10-27T10:58:11.953039Z",
     "start_time": "2022-10-27T10:58:11.943989Z"
    }
   },
   "source": [
    "Arange works as range with a list, creates an array from 0 to n-1 if we call np.arrange(n)"
   ]
  },
  {
   "cell_type": "code",
   "execution_count": 180,
   "id": "6dc04cad",
   "metadata": {
    "ExecuteTime": {
     "end_time": "2022-10-27T10:54:17.430284Z",
     "start_time": "2022-10-27T10:54:17.408701Z"
    },
    "scrolled": true
   },
   "outputs": [
    {
     "name": "stdout",
     "output_type": "stream",
     "text": [
      "[[ 0  1  2  3  4]\n",
      " [ 5  6  7  8  9]\n",
      " [10 11 12 13 14]]\n",
      "[[  0   1   2   3   4]\n",
      " [-99   6 -99   8 -99]\n",
      " [-99  11 -99  13 -99]]\n"
     ]
    }
   ],
   "source": [
    "x = np.arange(15, dtype=np.int64).reshape(3, 5)\n",
    "print(x)\n",
    "x[1:, ::2] = -99\n",
    "print(x)"
   ]
  },
  {
   "cell_type": "markdown",
   "id": "54154472",
   "metadata": {},
   "source": [
    "**2. Multiplication of lists**"
   ]
  },
  {
   "cell_type": "code",
   "execution_count": 194,
   "id": "a4614ce2",
   "metadata": {
    "ExecuteTime": {
     "end_time": "2022-10-27T11:01:41.524818Z",
     "start_time": "2022-10-27T11:01:41.512843Z"
    }
   },
   "outputs": [
    {
     "data": {
      "text/plain": [
       "array([  0,   1,   4,   9,  16,  25,  36,  49,  64,  81, 100, 121, 144,\n",
       "       169, 196], dtype=int64)"
      ]
     },
     "execution_count": 194,
     "metadata": {},
     "output_type": "execute_result"
    }
   ],
   "source": [
    "a=np.arange(15, dtype=np.int64)\n",
    "a*a"
   ]
  },
  {
   "cell_type": "code",
   "execution_count": 197,
   "id": "00547b74",
   "metadata": {
    "ExecuteTime": {
     "end_time": "2022-10-27T11:02:15.597841Z",
     "start_time": "2022-10-27T11:02:15.563240Z"
    },
    "scrolled": false
   },
   "outputs": [
    {
     "ename": "TypeError",
     "evalue": "can't multiply sequence by non-int of type 'list'",
     "output_type": "error",
     "traceback": [
      "\u001b[1;31m---------------------------------------------------------------------------\u001b[0m",
      "\u001b[1;31mTypeError\u001b[0m                                 Traceback (most recent call last)",
      "Input \u001b[1;32mIn [197]\u001b[0m, in \u001b[0;36m<cell line: 2>\u001b[1;34m()\u001b[0m\n\u001b[0;32m      1\u001b[0m a\u001b[38;5;241m=\u001b[39m\u001b[38;5;28mlist\u001b[39m(\u001b[38;5;28mrange\u001b[39m(\u001b[38;5;241m0\u001b[39m,\u001b[38;5;241m15\u001b[39m))\n\u001b[1;32m----> 2\u001b[0m \u001b[43ma\u001b[49m\u001b[38;5;241;43m*\u001b[39;49m\u001b[43ma\u001b[49m\n",
      "\u001b[1;31mTypeError\u001b[0m: can't multiply sequence by non-int of type 'list'"
     ]
    }
   ],
   "source": [
    "a=list(range(0,15))\n",
    "a*a"
   ]
  },
  {
   "cell_type": "markdown",
   "id": "a8e15251",
   "metadata": {},
   "source": [
    "**3. Addition**"
   ]
  },
  {
   "cell_type": "code",
   "execution_count": 198,
   "id": "f99db760",
   "metadata": {
    "ExecuteTime": {
     "end_time": "2022-10-27T11:07:25.090142Z",
     "start_time": "2022-10-27T11:07:25.077726Z"
    }
   },
   "outputs": [
    {
     "data": {
      "text/plain": [
       "array([ 0,  2,  4,  6,  8, 10, 12, 14, 16, 18, 20, 22, 24, 26, 28],\n",
       "      dtype=int64)"
      ]
     },
     "execution_count": 198,
     "metadata": {},
     "output_type": "execute_result"
    }
   ],
   "source": [
    "a=np.arange(15, dtype=np.int64)\n",
    "a+a"
   ]
  },
  {
   "cell_type": "code",
   "execution_count": 199,
   "id": "fa08d201",
   "metadata": {
    "ExecuteTime": {
     "end_time": "2022-10-27T11:07:35.059903Z",
     "start_time": "2022-10-27T11:07:35.045434Z"
    },
    "scrolled": true
   },
   "outputs": [
    {
     "data": {
      "text/plain": [
       "[0,\n",
       " 1,\n",
       " 2,\n",
       " 3,\n",
       " 4,\n",
       " 5,\n",
       " 6,\n",
       " 7,\n",
       " 8,\n",
       " 9,\n",
       " 10,\n",
       " 11,\n",
       " 12,\n",
       " 13,\n",
       " 14,\n",
       " 0,\n",
       " 1,\n",
       " 2,\n",
       " 3,\n",
       " 4,\n",
       " 5,\n",
       " 6,\n",
       " 7,\n",
       " 8,\n",
       " 9,\n",
       " 10,\n",
       " 11,\n",
       " 12,\n",
       " 13,\n",
       " 14]"
      ]
     },
     "execution_count": 199,
     "metadata": {},
     "output_type": "execute_result"
    }
   ],
   "source": [
    "a=list(range(0,15))\n",
    "a+a"
   ]
  },
  {
   "cell_type": "markdown",
   "id": "f1d65b31",
   "metadata": {
    "ExecuteTime": {
     "end_time": "2022-10-27T11:22:27.815303Z",
     "start_time": "2022-10-27T11:22:27.799502Z"
    }
   },
   "source": [
    "**Data distribution**"
   ]
  },
  {
   "cell_type": "markdown",
   "id": "86a93a8e",
   "metadata": {},
   "source": [
    "Generate a 1-D array containing 100 values, where each value has to be 3, 5, 7 or 9.\n",
    "* The probability for the value to be 3 is set to be 0.1\n",
    "\n",
    "* The probability for the value to be 5 is set to be 0.3\n",
    "\n",
    "* The probability for the value to be 7 is set to be 0.6\n",
    "\n",
    "* The probability for the value to be 9 is set to be 0"
   ]
  },
  {
   "cell_type": "code",
   "execution_count": 39,
   "id": "4404621f",
   "metadata": {
    "ExecuteTime": {
     "end_time": "2022-11-24T08:40:00.090924Z",
     "start_time": "2022-11-24T08:40:00.059032Z"
    }
   },
   "outputs": [
    {
     "name": "stdout",
     "output_type": "stream",
     "text": [
      "[5 5 7 7 7 5 7 7 5 7 7 7 5 5 7 3 3 7 7 5 7 7 7 7 7 7 5 7 3 7 7 3 5 3 7 5 7\n",
      " 7 5 7 7 7 7 7 3 7 7 7 7 7 7 7 5 3 7 5 5 5 7 7 5 7 7 7 5 7 7 7 5 5 7 7 5 7\n",
      " 7 5 5 7 7 5 7 7 7 7 5 5 5 5 7 7 7 7 7 7 7 7 3 7 5 5]\n"
     ]
    }
   ],
   "source": [
    "from numpy import random\n",
    "\n",
    "x = random.choice([3, 5, 7, 9], p=[0.1, 0.3, 0.6, 0.0], size=(100))\n",
    "\n",
    "print(x)"
   ]
  },
  {
   "cell_type": "markdown",
   "id": "e427ac01",
   "metadata": {},
   "source": [
    "Create a function that gives maximum of two arrays by each position."
   ]
  },
  {
   "cell_type": "code",
   "execution_count": 40,
   "id": "cae67757",
   "metadata": {
    "ExecuteTime": {
     "end_time": "2022-11-24T08:41:11.915309Z",
     "start_time": "2022-11-24T08:41:11.900149Z"
    }
   },
   "outputs": [
    {
     "data": {
      "text/plain": [
       "5"
      ]
     },
     "execution_count": 40,
     "metadata": {},
     "output_type": "execute_result"
    }
   ],
   "source": [
    "#This works for numbers, how to adapt in to work for arrays?\n",
    "\n",
    "def maxx(x, y):\n",
    "    \"\"\"Get the maximum of two items\"\"\"\n",
    "    if x >= y:\n",
    "        return x\n",
    "    else:\n",
    "        return y\n",
    "\n",
    "maxx(1, 5)\n"
   ]
  },
  {
   "cell_type": "code",
   "execution_count": 41,
   "id": "51bf9da6",
   "metadata": {
    "ExecuteTime": {
     "end_time": "2022-11-24T08:41:12.530371Z",
     "start_time": "2022-11-24T08:41:12.490211Z"
    }
   },
   "outputs": [
    {
     "data": {
      "text/plain": [
       "array([6., 7., 9., 8., 9., 7., 5.])"
      ]
     },
     "execution_count": 41,
     "metadata": {},
     "output_type": "execute_result"
    }
   ],
   "source": [
    "import numpy as np\n",
    "a=np.array([1,2,3])\n",
    "b=np.array([5,2,3])\n",
    "\n",
    "\n",
    "pair_max = np.vectorize(maxx, otypes=[float])\n",
    "\n",
    "a = np.array([5, 7, 9, 8, 6, 4, 5])\n",
    "b = np.array([6, 3, 4, 8, 9, 7, 1])\n",
    "\n",
    "pair_max(a, b)"
   ]
  },
  {
   "cell_type": "markdown",
   "id": "495536c0",
   "metadata": {},
   "source": [
    "\n",
    "<div class=\"alert alert-success\">\n",
    "\n",
    "**Exercise 5**\n",
    "    \n",
    "<ol> \n",
    "<li>Concatenates arrays by axis=1 (Use np.concatenate((arr1,arr2), axis)): \n",
    "    \n",
    "* From np.array([[1,2,3], [4,5,6]]) and np.array([[1,1,1], [2,2,2]]) create\n",
    "    np.array([1,2,3,1,1,1], [4,5,6,2,2,2])\n",
    "* What happens when axis=0.\n",
    "* What happens when you have more then 2 arrays? Add one more (np.array([[3,3,3], [4,4,4]]) in the same time. \n",
    "\n",
    "</div>"
   ]
  },
  {
   "cell_type": "code",
   "execution_count": 42,
   "id": "7ec628fa",
   "metadata": {
    "ExecuteTime": {
     "end_time": "2022-11-24T08:50:23.400232Z",
     "start_time": "2022-11-24T08:50:23.385003Z"
    }
   },
   "outputs": [
    {
     "name": "stdout",
     "output_type": "stream",
     "text": [
      "[[1 2 3 1 1 1]\n",
      " [4 5 6 2 2 2]]\n",
      "[[1 2 3]\n",
      " [4 5 6]\n",
      " [1 1 1]\n",
      " [2 2 2]]\n",
      "[[1 2 3 1 1 1 3 3 3]\n",
      " [4 5 6 2 2 2 4 4 4]]\n"
     ]
    }
   ],
   "source": [
    "import numpy as np\n",
    "arr1 = np.array([[1, 2,3], [4,5,6]])\n",
    "arr2 = np.array([[1,1,1], [2,2,2]])\n",
    "\n",
    "arr3 = np.array([[3,3,3], [4,4,4]])\n",
    "\n",
    "\n",
    "arr = np.concatenate((arr1, arr2), axis=1)\n",
    "print(arr)\n",
    "arr = np.concatenate((arr1, arr2), axis=0)\n",
    "print(arr)\n",
    "arr = np.concatenate((arr1, arr2, arr3), axis=1)\n",
    "print(arr)\n",
    "\n"
   ]
  },
  {
   "cell_type": "code",
   "execution_count": null,
   "id": "da52b9bf",
   "metadata": {},
   "outputs": [],
   "source": []
  },
  {
   "cell_type": "markdown",
   "id": "a5311f3a",
   "metadata": {
    "ExecuteTime": {
     "end_time": "2022-10-27T11:08:44.638577Z",
     "start_time": "2022-10-27T11:08:44.628583Z"
    }
   },
   "source": [
    "### Pandas"
   ]
  },
  {
   "cell_type": "markdown",
   "id": "2b08a06d",
   "metadata": {
    "ExecuteTime": {
     "end_time": "2022-10-27T11:55:01.607625Z",
     "start_time": "2022-10-27T11:55:01.588999Z"
    }
   },
   "source": [
    "Pandas is a fast, powerful, flexible and easy to use open source data analysis and manipulation tool,\n",
    "built on top of the Python programming language.\n",
    "\n",
    "* A fast and efficient DataFrame object (table) for data manipulation with integrated indexing;\n",
    "\n",
    "* Tools for reading and writing data: CSV and text files, Microsoft Excel, SQL databases, and the fast HDF5 format;\n",
    "\n",
    "* Intelligent data alignment and integrated handling of missing data: gain automatic label-based alignment in computations and easily manipulate messy data into an orderly form;\n",
    "\n",
    "* Flexible reshaping and pivoting of data sets;\n",
    "\n",
    "* Intelligent label-based slicing, fancy indexing, and subsetting of large data sets;\n",
    "\n",
    "* Columns can be inserted and deleted from data structures for size mutability;\n",
    "\n",
    "* Aggregating or transforming data with a powerful group by engine allowing split-apply-combine operations on data sets;\n",
    "\n",
    "* High performance merging and joining of data sets;\n",
    "\n",
    "\n",
    "* Time series-functionality: date range generation and frequency conversion, moving window statistics, date shifting and lagging. Even create domain-specific time offsets and join time series without losing data;\n",
    "\n",
    "* Highly optimized for performance, with critical code paths written in Cython or C.\n",
    "\n",
    "* Python with pandas is in use in a wide variety of academic and commercial domains, including Finance, Neuroscience, Economics, Statistics, Advertising, Web Analytics, and more."
   ]
  },
  {
   "cell_type": "markdown",
   "id": "d22f4bd1",
   "metadata": {},
   "source": [
    "#### Dataframe"
   ]
  },
  {
   "cell_type": "markdown",
   "id": "317c6efd",
   "metadata": {},
   "source": [
    "A Pandas DataFrame is a 2 dimensional data structure, like a 2 dimensional array, or a table with rows and columns.\n",
    "\n"
   ]
  },
  {
   "cell_type": "code",
   "execution_count": 3,
   "id": "03606d78",
   "metadata": {},
   "outputs": [],
   "source": [
    "import pandas as pd\n"
   ]
  },
  {
   "cell_type": "code",
   "execution_count": 100,
   "id": "a02b6963",
   "metadata": {
    "ExecuteTime": {
     "end_time": "2022-10-27T12:52:04.412936Z",
     "start_time": "2022-10-27T12:52:04.404937Z"
    }
   },
   "outputs": [
    {
     "name": "stdout",
     "output_type": "stream",
     "text": [
      "   calories  duration\n",
      "0       420        50\n",
      "1       380        40\n",
      "2       390        45\n"
     ]
    }
   ],
   "source": [
    "\n",
    "data = {\n",
    "  \"calories\": [420, 380, 390],\n",
    "  \"duration\": [50, 40, 45]\n",
    "}\n",
    "\n",
    "#load data into a DataFrame object:\n",
    "df = pd.DataFrame(data)\n",
    "\n",
    "print(df) "
   ]
  },
  {
   "cell_type": "code",
   "execution_count": 123,
   "id": "715ea2f8",
   "metadata": {
    "ExecuteTime": {
     "end_time": "2022-10-27T13:41:49.698370Z",
     "start_time": "2022-10-27T13:41:49.681948Z"
    }
   },
   "outputs": [
    {
     "name": "stdout",
     "output_type": "stream",
     "text": [
      "      calories  duration\n",
      "day1       420        50\n",
      "day2       380        40\n",
      "day3       390        45\n"
     ]
    }
   ],
   "source": [
    "data = {\n",
    "  \"calories\": [420, 380, 390],\n",
    "  \"duration\": [50, 40, 45]\n",
    "}\n",
    "\n",
    "df = pd.DataFrame(data, index = [\"day1\", \"day2\", \"day3\"])\n",
    "\n",
    "print(df) "
   ]
  },
  {
   "cell_type": "code",
   "execution_count": 124,
   "id": "f1e00e36",
   "metadata": {
    "ExecuteTime": {
     "end_time": "2022-10-27T13:41:49.858355Z",
     "start_time": "2022-10-27T13:41:49.842231Z"
    },
    "scrolled": true
   },
   "outputs": [
    {
     "data": {
      "text/plain": [
       "Index(['calories', 'duration'], dtype='object')"
      ]
     },
     "execution_count": 124,
     "metadata": {},
     "output_type": "execute_result"
    }
   ],
   "source": [
    "df.columns"
   ]
  },
  {
   "cell_type": "code",
   "execution_count": 125,
   "id": "96304587",
   "metadata": {
    "ExecuteTime": {
     "end_time": "2022-10-27T13:41:50.783597Z",
     "start_time": "2022-10-27T13:41:50.769134Z"
    },
    "scrolled": true
   },
   "outputs": [
    {
     "data": {
      "text/plain": [
       "calories    int64\n",
       "duration    int64\n",
       "dtype: object"
      ]
     },
     "execution_count": 125,
     "metadata": {},
     "output_type": "execute_result"
    }
   ],
   "source": [
    "df.dtypes"
   ]
  },
  {
   "cell_type": "code",
   "execution_count": 126,
   "id": "f428c527",
   "metadata": {
    "scrolled": true
   },
   "outputs": [
    {
     "data": {
      "text/html": [
       "<div>\n",
       "<style scoped>\n",
       "    .dataframe tbody tr th:only-of-type {\n",
       "        vertical-align: middle;\n",
       "    }\n",
       "\n",
       "    .dataframe tbody tr th {\n",
       "        vertical-align: top;\n",
       "    }\n",
       "\n",
       "    .dataframe thead th {\n",
       "        text-align: right;\n",
       "    }\n",
       "</style>\n",
       "<table border=\"1\" class=\"dataframe\">\n",
       "  <thead>\n",
       "    <tr style=\"text-align: right;\">\n",
       "      <th></th>\n",
       "      <th>calories</th>\n",
       "      <th>duration</th>\n",
       "    </tr>\n",
       "  </thead>\n",
       "  <tbody>\n",
       "    <tr>\n",
       "      <th>day1</th>\n",
       "      <td>420</td>\n",
       "      <td>50</td>\n",
       "    </tr>\n",
       "    <tr>\n",
       "      <th>day2</th>\n",
       "      <td>380</td>\n",
       "      <td>40</td>\n",
       "    </tr>\n",
       "    <tr>\n",
       "      <th>day3</th>\n",
       "      <td>390</td>\n",
       "      <td>45</td>\n",
       "    </tr>\n",
       "  </tbody>\n",
       "</table>\n",
       "</div>"
      ],
      "text/plain": [
       "      calories  duration\n",
       "day1       420        50\n",
       "day2       380        40\n",
       "day3       390        45"
      ]
     },
     "execution_count": 126,
     "metadata": {},
     "output_type": "execute_result"
    }
   ],
   "source": [
    "df.head()"
   ]
  },
  {
   "cell_type": "code",
   "execution_count": 127,
   "id": "1d4c8465",
   "metadata": {
    "scrolled": false
   },
   "outputs": [
    {
     "data": {
      "text/html": [
       "<div>\n",
       "<style scoped>\n",
       "    .dataframe tbody tr th:only-of-type {\n",
       "        vertical-align: middle;\n",
       "    }\n",
       "\n",
       "    .dataframe tbody tr th {\n",
       "        vertical-align: top;\n",
       "    }\n",
       "\n",
       "    .dataframe thead th {\n",
       "        text-align: right;\n",
       "    }\n",
       "</style>\n",
       "<table border=\"1\" class=\"dataframe\">\n",
       "  <thead>\n",
       "    <tr style=\"text-align: right;\">\n",
       "      <th></th>\n",
       "      <th>calories</th>\n",
       "      <th>duration</th>\n",
       "    </tr>\n",
       "  </thead>\n",
       "  <tbody>\n",
       "    <tr>\n",
       "      <th>count</th>\n",
       "      <td>3.000000</td>\n",
       "      <td>3.0</td>\n",
       "    </tr>\n",
       "    <tr>\n",
       "      <th>mean</th>\n",
       "      <td>396.666667</td>\n",
       "      <td>45.0</td>\n",
       "    </tr>\n",
       "    <tr>\n",
       "      <th>std</th>\n",
       "      <td>20.816660</td>\n",
       "      <td>5.0</td>\n",
       "    </tr>\n",
       "    <tr>\n",
       "      <th>min</th>\n",
       "      <td>380.000000</td>\n",
       "      <td>40.0</td>\n",
       "    </tr>\n",
       "    <tr>\n",
       "      <th>25%</th>\n",
       "      <td>385.000000</td>\n",
       "      <td>42.5</td>\n",
       "    </tr>\n",
       "    <tr>\n",
       "      <th>50%</th>\n",
       "      <td>390.000000</td>\n",
       "      <td>45.0</td>\n",
       "    </tr>\n",
       "    <tr>\n",
       "      <th>75%</th>\n",
       "      <td>405.000000</td>\n",
       "      <td>47.5</td>\n",
       "    </tr>\n",
       "    <tr>\n",
       "      <th>max</th>\n",
       "      <td>420.000000</td>\n",
       "      <td>50.0</td>\n",
       "    </tr>\n",
       "  </tbody>\n",
       "</table>\n",
       "</div>"
      ],
      "text/plain": [
       "         calories  duration\n",
       "count    3.000000       3.0\n",
       "mean   396.666667      45.0\n",
       "std     20.816660       5.0\n",
       "min    380.000000      40.0\n",
       "25%    385.000000      42.5\n",
       "50%    390.000000      45.0\n",
       "75%    405.000000      47.5\n",
       "max    420.000000      50.0"
      ]
     },
     "execution_count": 127,
     "metadata": {},
     "output_type": "execute_result"
    }
   ],
   "source": [
    "df.describe()"
   ]
  },
  {
   "cell_type": "code",
   "execution_count": 128,
   "id": "33c727b8",
   "metadata": {
    "scrolled": false
   },
   "outputs": [
    {
     "data": {
      "text/plain": [
       "6"
      ]
     },
     "execution_count": 128,
     "metadata": {},
     "output_type": "execute_result"
    }
   ],
   "source": [
    "df.size"
   ]
  },
  {
   "cell_type": "code",
   "execution_count": 129,
   "id": "e2a21ee2",
   "metadata": {
    "scrolled": false
   },
   "outputs": [
    {
     "data": {
      "text/plain": [
       "calories    int64\n",
       "duration    int64\n",
       "dtype: object"
      ]
     },
     "execution_count": 129,
     "metadata": {},
     "output_type": "execute_result"
    }
   ],
   "source": [
    "df.dtypes"
   ]
  },
  {
   "cell_type": "code",
   "execution_count": 130,
   "id": "cd885c1a",
   "metadata": {
    "scrolled": true
   },
   "outputs": [
    {
     "data": {
      "text/plain": [
       "Index(['calories', 'duration'], dtype='object')"
      ]
     },
     "execution_count": 130,
     "metadata": {},
     "output_type": "execute_result"
    }
   ],
   "source": [
    "df.columns"
   ]
  },
  {
   "cell_type": "code",
   "execution_count": 132,
   "id": "29888aef",
   "metadata": {},
   "outputs": [
    {
     "name": "stdout",
     "output_type": "stream",
     "text": [
      "day1    420\n",
      "day2    380\n",
      "day3    390\n",
      "Name: calories, dtype: int64\n",
      "day1    50\n",
      "day2    40\n",
      "day3    45\n",
      "Name: duration, dtype: int64\n"
     ]
    }
   ],
   "source": [
    "for a in df.columns:\n",
    "    print(df[a])"
   ]
  },
  {
   "cell_type": "markdown",
   "id": "2a55844d",
   "metadata": {
    "ExecuteTime": {
     "end_time": "2022-10-27T12:53:52.793328Z",
     "start_time": "2022-10-27T12:53:52.782370Z"
    }
   },
   "source": [
    "#### Load Files Into a DataFrame\n"
   ]
  },
  {
   "cell_type": "code",
   "execution_count": 43,
   "id": "52d40b03",
   "metadata": {
    "ExecuteTime": {
     "end_time": "2022-11-24T08:56:07.798410Z",
     "start_time": "2022-11-24T08:56:06.655119Z"
    }
   },
   "outputs": [
    {
     "name": "stdout",
     "output_type": "stream",
     "text": [
      "  name  surname  age\n",
      "0  Jim  Halpert   44\n",
      "1  Pam   Beesly   43\n"
     ]
    }
   ],
   "source": [
    "import pandas as pd\n",
    "\n",
    "df_data = pd.read_csv('data.csv', sep=';')\n",
    "\n",
    "print(df_data) "
   ]
  },
  {
   "cell_type": "markdown",
   "id": "e0f73653",
   "metadata": {
    "ExecuteTime": {
     "end_time": "2022-10-27T12:58:44.260919Z",
     "start_time": "2022-10-27T12:58:44.244196Z"
    }
   },
   "source": [
    "#### Slicing and filtering"
   ]
  },
  {
   "cell_type": "markdown",
   "id": "abf7af7a",
   "metadata": {},
   "source": [
    "```python\n",
    "dataframe.loc[] - Access a group of rows and columns by label(s) or a boolean array.\n",
    "dataframe.iloc[] - is primarily integer position based (from 0 to length-1 of the axis), but may also be used with a boolean array.\n",
    "\n",
    "dataframe[condition]\n",
    "\n",
    "```"
   ]
  },
  {
   "cell_type": "markdown",
   "id": "2f9bd6bc",
   "metadata": {
    "ExecuteTime": {
     "end_time": "2022-10-27T13:07:15.497828Z",
     "start_time": "2022-10-27T13:07:15.481753Z"
    }
   },
   "source": [
    "**loc[]**"
   ]
  },
  {
   "cell_type": "code",
   "execution_count": 3,
   "id": "3d0f8231",
   "metadata": {
    "ExecuteTime": {
     "end_time": "2022-11-24T08:57:20.672722Z",
     "start_time": "2022-11-24T08:57:20.661605Z"
    }
   },
   "outputs": [
    {
     "name": "stdout",
     "output_type": "stream",
     "text": [
      "      calories  duration\n",
      "day1       420        50\n",
      "day2       380        40\n",
      "day3       390        45\n"
     ]
    }
   ],
   "source": [
    "data = {\n",
    "  \"calories\": [420, 380, 390],\n",
    "  \"duration\": [50, 40, 45]\n",
    "}\n",
    "\n",
    "df = pd.DataFrame(data, index = [\"day1\", \"day2\", \"day3\"])\n",
    "\n",
    "print(df) "
   ]
  },
  {
   "cell_type": "code",
   "execution_count": 4,
   "id": "c515e6ad",
   "metadata": {
    "ExecuteTime": {
     "end_time": "2022-11-24T08:57:29.246108Z",
     "start_time": "2022-11-24T08:57:29.228106Z"
    }
   },
   "outputs": [
    {
     "data": {
      "text/plain": [
       "calories    420\n",
       "duration     50\n",
       "Name: day1, dtype: int64"
      ]
     },
     "execution_count": 4,
     "metadata": {},
     "output_type": "execute_result"
    }
   ],
   "source": [
    "df.loc['day1']"
   ]
  },
  {
   "cell_type": "code",
   "execution_count": 5,
   "id": "94cc4fc5",
   "metadata": {
    "ExecuteTime": {
     "end_time": "2022-11-24T08:58:23.701061Z",
     "start_time": "2022-11-24T08:58:23.672547Z"
    },
    "scrolled": false
   },
   "outputs": [
    {
     "data": {
      "text/html": [
       "<div>\n",
       "<style scoped>\n",
       "    .dataframe tbody tr th:only-of-type {\n",
       "        vertical-align: middle;\n",
       "    }\n",
       "\n",
       "    .dataframe tbody tr th {\n",
       "        vertical-align: top;\n",
       "    }\n",
       "\n",
       "    .dataframe thead th {\n",
       "        text-align: right;\n",
       "    }\n",
       "</style>\n",
       "<table border=\"1\" class=\"dataframe\">\n",
       "  <thead>\n",
       "    <tr style=\"text-align: right;\">\n",
       "      <th></th>\n",
       "      <th>calories</th>\n",
       "      <th>duration</th>\n",
       "    </tr>\n",
       "  </thead>\n",
       "  <tbody>\n",
       "    <tr>\n",
       "      <th>day2</th>\n",
       "      <td>380</td>\n",
       "      <td>40</td>\n",
       "    </tr>\n",
       "    <tr>\n",
       "      <th>day3</th>\n",
       "      <td>390</td>\n",
       "      <td>45</td>\n",
       "    </tr>\n",
       "  </tbody>\n",
       "</table>\n",
       "</div>"
      ],
      "text/plain": [
       "      calories  duration\n",
       "day2       380        40\n",
       "day3       390        45"
      ]
     },
     "execution_count": 5,
     "metadata": {},
     "output_type": "execute_result"
    }
   ],
   "source": [
    "df.loc[df.calories<400]"
   ]
  },
  {
   "cell_type": "code",
   "execution_count": 6,
   "id": "b26b878c",
   "metadata": {
    "ExecuteTime": {
     "end_time": "2022-11-24T08:58:47.307994Z",
     "start_time": "2022-11-24T08:58:47.278637Z"
    }
   },
   "outputs": [],
   "source": [
    "df.loc[df['calories']<400, 'new']=400"
   ]
  },
  {
   "cell_type": "code",
   "execution_count": 7,
   "id": "b24e8845",
   "metadata": {
    "ExecuteTime": {
     "end_time": "2022-11-24T08:58:48.072409Z",
     "start_time": "2022-11-24T08:58:48.050897Z"
    }
   },
   "outputs": [
    {
     "data": {
      "text/html": [
       "<div>\n",
       "<style scoped>\n",
       "    .dataframe tbody tr th:only-of-type {\n",
       "        vertical-align: middle;\n",
       "    }\n",
       "\n",
       "    .dataframe tbody tr th {\n",
       "        vertical-align: top;\n",
       "    }\n",
       "\n",
       "    .dataframe thead th {\n",
       "        text-align: right;\n",
       "    }\n",
       "</style>\n",
       "<table border=\"1\" class=\"dataframe\">\n",
       "  <thead>\n",
       "    <tr style=\"text-align: right;\">\n",
       "      <th></th>\n",
       "      <th>calories</th>\n",
       "      <th>duration</th>\n",
       "      <th>new</th>\n",
       "    </tr>\n",
       "  </thead>\n",
       "  <tbody>\n",
       "    <tr>\n",
       "      <th>day1</th>\n",
       "      <td>420</td>\n",
       "      <td>50</td>\n",
       "      <td>NaN</td>\n",
       "    </tr>\n",
       "    <tr>\n",
       "      <th>day2</th>\n",
       "      <td>380</td>\n",
       "      <td>40</td>\n",
       "      <td>400.0</td>\n",
       "    </tr>\n",
       "    <tr>\n",
       "      <th>day3</th>\n",
       "      <td>390</td>\n",
       "      <td>45</td>\n",
       "      <td>400.0</td>\n",
       "    </tr>\n",
       "  </tbody>\n",
       "</table>\n",
       "</div>"
      ],
      "text/plain": [
       "      calories  duration    new\n",
       "day1       420        50    NaN\n",
       "day2       380        40  400.0\n",
       "day3       390        45  400.0"
      ]
     },
     "execution_count": 7,
     "metadata": {},
     "output_type": "execute_result"
    }
   ],
   "source": [
    "df"
   ]
  },
  {
   "cell_type": "markdown",
   "id": "09dee1dc",
   "metadata": {
    "ExecuteTime": {
     "end_time": "2022-10-27T13:10:23.668482Z",
     "start_time": "2022-10-27T13:10:23.656941Z"
    }
   },
   "source": [
    "**iloc[]**"
   ]
  },
  {
   "cell_type": "code",
   "execution_count": 8,
   "id": "9d3b6db5",
   "metadata": {
    "ExecuteTime": {
     "end_time": "2022-11-24T08:59:27.295850Z",
     "start_time": "2022-11-24T08:59:27.278148Z"
    }
   },
   "outputs": [
    {
     "data": {
      "text/plain": [
       "calories    420.0\n",
       "duration     50.0\n",
       "new           NaN\n",
       "Name: day1, dtype: float64"
      ]
     },
     "execution_count": 8,
     "metadata": {},
     "output_type": "execute_result"
    }
   ],
   "source": [
    "df.iloc[0]"
   ]
  },
  {
   "cell_type": "code",
   "execution_count": 9,
   "id": "45f064f2",
   "metadata": {
    "ExecuteTime": {
     "end_time": "2022-11-24T08:59:37.988111Z",
     "start_time": "2022-11-24T08:59:37.969853Z"
    },
    "scrolled": true
   },
   "outputs": [
    {
     "data": {
      "text/html": [
       "<div>\n",
       "<style scoped>\n",
       "    .dataframe tbody tr th:only-of-type {\n",
       "        vertical-align: middle;\n",
       "    }\n",
       "\n",
       "    .dataframe tbody tr th {\n",
       "        vertical-align: top;\n",
       "    }\n",
       "\n",
       "    .dataframe thead th {\n",
       "        text-align: right;\n",
       "    }\n",
       "</style>\n",
       "<table border=\"1\" class=\"dataframe\">\n",
       "  <thead>\n",
       "    <tr style=\"text-align: right;\">\n",
       "      <th></th>\n",
       "      <th>calories</th>\n",
       "      <th>duration</th>\n",
       "      <th>new</th>\n",
       "    </tr>\n",
       "  </thead>\n",
       "  <tbody>\n",
       "    <tr>\n",
       "      <th>day1</th>\n",
       "      <td>420</td>\n",
       "      <td>50</td>\n",
       "      <td>NaN</td>\n",
       "    </tr>\n",
       "    <tr>\n",
       "      <th>day2</th>\n",
       "      <td>380</td>\n",
       "      <td>40</td>\n",
       "      <td>400.0</td>\n",
       "    </tr>\n",
       "  </tbody>\n",
       "</table>\n",
       "</div>"
      ],
      "text/plain": [
       "      calories  duration    new\n",
       "day1       420        50    NaN\n",
       "day2       380        40  400.0"
      ]
     },
     "execution_count": 9,
     "metadata": {},
     "output_type": "execute_result"
    }
   ],
   "source": [
    "df.iloc[0:2]"
   ]
  },
  {
   "cell_type": "code",
   "execution_count": 10,
   "id": "a4c95b55",
   "metadata": {
    "ExecuteTime": {
     "end_time": "2022-11-24T09:01:07.922137Z",
     "start_time": "2022-11-24T09:01:07.907091Z"
    }
   },
   "outputs": [
    {
     "data": {
      "text/html": [
       "<div>\n",
       "<style scoped>\n",
       "    .dataframe tbody tr th:only-of-type {\n",
       "        vertical-align: middle;\n",
       "    }\n",
       "\n",
       "    .dataframe tbody tr th {\n",
       "        vertical-align: top;\n",
       "    }\n",
       "\n",
       "    .dataframe thead th {\n",
       "        text-align: right;\n",
       "    }\n",
       "</style>\n",
       "<table border=\"1\" class=\"dataframe\">\n",
       "  <thead>\n",
       "    <tr style=\"text-align: right;\">\n",
       "      <th></th>\n",
       "      <th>calories</th>\n",
       "      <th>duration</th>\n",
       "      <th>new</th>\n",
       "    </tr>\n",
       "  </thead>\n",
       "  <tbody>\n",
       "  </tbody>\n",
       "</table>\n",
       "</div>"
      ],
      "text/plain": [
       "Empty DataFrame\n",
       "Columns: [calories, duration, new]\n",
       "Index: []"
      ]
     },
     "execution_count": 10,
     "metadata": {},
     "output_type": "execute_result"
    }
   ],
   "source": [
    "df[(df.new.isna()==True) & (df.duration!=50)]"
   ]
  },
  {
   "cell_type": "code",
   "execution_count": 12,
   "id": "6e8c4209",
   "metadata": {
    "scrolled": false
   },
   "outputs": [
    {
     "data": {
      "text/html": [
       "<div>\n",
       "<style scoped>\n",
       "    .dataframe tbody tr th:only-of-type {\n",
       "        vertical-align: middle;\n",
       "    }\n",
       "\n",
       "    .dataframe tbody tr th {\n",
       "        vertical-align: top;\n",
       "    }\n",
       "\n",
       "    .dataframe thead th {\n",
       "        text-align: right;\n",
       "    }\n",
       "</style>\n",
       "<table border=\"1\" class=\"dataframe\">\n",
       "  <thead>\n",
       "    <tr style=\"text-align: right;\">\n",
       "      <th></th>\n",
       "      <th>calories</th>\n",
       "      <th>duration</th>\n",
       "      <th>new</th>\n",
       "    </tr>\n",
       "  </thead>\n",
       "  <tbody>\n",
       "    <tr>\n",
       "      <th>day2</th>\n",
       "      <td>380</td>\n",
       "      <td>40</td>\n",
       "      <td>400.0</td>\n",
       "    </tr>\n",
       "    <tr>\n",
       "      <th>day3</th>\n",
       "      <td>390</td>\n",
       "      <td>45</td>\n",
       "      <td>400.0</td>\n",
       "    </tr>\n",
       "  </tbody>\n",
       "</table>\n",
       "</div>"
      ],
      "text/plain": [
       "      calories  duration    new\n",
       "day2       380        40  400.0\n",
       "day3       390        45  400.0"
      ]
     },
     "execution_count": 12,
     "metadata": {},
     "output_type": "execute_result"
    }
   ],
   "source": [
    "df[df['new']==400]"
   ]
  },
  {
   "cell_type": "code",
   "execution_count": 25,
   "id": "10091cc2",
   "metadata": {
    "scrolled": true
   },
   "outputs": [
    {
     "data": {
      "text/html": [
       "<div>\n",
       "<style scoped>\n",
       "    .dataframe tbody tr th:only-of-type {\n",
       "        vertical-align: middle;\n",
       "    }\n",
       "\n",
       "    .dataframe tbody tr th {\n",
       "        vertical-align: top;\n",
       "    }\n",
       "\n",
       "    .dataframe thead th {\n",
       "        text-align: right;\n",
       "    }\n",
       "</style>\n",
       "<table border=\"1\" class=\"dataframe\">\n",
       "  <thead>\n",
       "    <tr style=\"text-align: right;\">\n",
       "      <th></th>\n",
       "      <th>calories</th>\n",
       "      <th>duration</th>\n",
       "      <th>new</th>\n",
       "    </tr>\n",
       "  </thead>\n",
       "  <tbody>\n",
       "    <tr>\n",
       "      <th>day2</th>\n",
       "      <td>380</td>\n",
       "      <td>40</td>\n",
       "      <td>400.0</td>\n",
       "    </tr>\n",
       "    <tr>\n",
       "      <th>day3</th>\n",
       "      <td>390</td>\n",
       "      <td>45</td>\n",
       "      <td>400.0</td>\n",
       "    </tr>\n",
       "  </tbody>\n",
       "</table>\n",
       "</div>"
      ],
      "text/plain": [
       "      calories  duration    new\n",
       "day2       380        40  400.0\n",
       "day3       390        45  400.0"
      ]
     },
     "execution_count": 25,
     "metadata": {},
     "output_type": "execute_result"
    }
   ],
   "source": [
    "df[df.new==400]"
   ]
  },
  {
   "cell_type": "markdown",
   "id": "06c2cdea",
   "metadata": {},
   "source": [
    "\n",
    "<div class=\"alert alert-success\">\n",
    "\n",
    "**Exercise 6**\n",
    "    \n",
    "<ol> \n",
    "<li>Load file  sneaker_data/DimDiscount.csv in dataframe DimDiscount.\n",
    "<li>Print size of the dataset.\n",
    "<li>Print 5 rows of dataset.\n",
    "<li>Print promotions that have bigger discount then 15.\n",
    "<li>Change EndDate of promotions on '2023-01-01' for ones that have bigger discount then 15.\n",
    "<li>Print from 5-th to 8-th row in dataset.\n",
    "\n",
    "</div>"
   ]
  },
  {
   "cell_type": "code",
   "execution_count": 2,
   "id": "44292d0f",
   "metadata": {},
   "outputs": [
    {
     "data": {
      "text/html": [
       "<div>\n",
       "<style scoped>\n",
       "    .dataframe tbody tr th:only-of-type {\n",
       "        vertical-align: middle;\n",
       "    }\n",
       "\n",
       "    .dataframe tbody tr th {\n",
       "        vertical-align: top;\n",
       "    }\n",
       "\n",
       "    .dataframe thead th {\n",
       "        text-align: right;\n",
       "    }\n",
       "</style>\n",
       "<table border=\"1\" class=\"dataframe\">\n",
       "  <thead>\n",
       "    <tr style=\"text-align: right;\">\n",
       "      <th></th>\n",
       "      <th>Promotion</th>\n",
       "      <th>DiscountType</th>\n",
       "      <th>DiscountOn</th>\n",
       "      <th>DiscountLevel</th>\n",
       "      <th>Discount</th>\n",
       "      <th>StartDate</th>\n",
       "      <th>EndDate</th>\n",
       "      <th>ValidFrom</th>\n",
       "      <th>ValidTo</th>\n",
       "    </tr>\n",
       "    <tr>\n",
       "      <th>DiscountID</th>\n",
       "      <th></th>\n",
       "      <th></th>\n",
       "      <th></th>\n",
       "      <th></th>\n",
       "      <th></th>\n",
       "      <th></th>\n",
       "      <th></th>\n",
       "      <th></th>\n",
       "      <th></th>\n",
       "    </tr>\n",
       "  </thead>\n",
       "  <tbody>\n",
       "    <tr>\n",
       "      <th>D4</th>\n",
       "      <td>Christmas 2006</td>\n",
       "      <td>Percentage</td>\n",
       "      <td>Total Invoice</td>\n",
       "      <td>Invoice</td>\n",
       "      <td>15</td>\n",
       "      <td>2006-12-20</td>\n",
       "      <td>2006-12-25</td>\n",
       "      <td>2006-06-01</td>\n",
       "      <td>2007-05-31</td>\n",
       "    </tr>\n",
       "    <tr>\n",
       "      <th>D5</th>\n",
       "      <td>Christmas 2007</td>\n",
       "      <td>Percentage</td>\n",
       "      <td>Total Invoice</td>\n",
       "      <td>Invoice</td>\n",
       "      <td>15</td>\n",
       "      <td>2007-12-20</td>\n",
       "      <td>2007-12-25</td>\n",
       "      <td>2007-06-01</td>\n",
       "      <td>2008-05-31</td>\n",
       "    </tr>\n",
       "    <tr>\n",
       "      <th>D6</th>\n",
       "      <td>Christmas 2008</td>\n",
       "      <td>Percentage</td>\n",
       "      <td>Total Invoice</td>\n",
       "      <td>Invoice</td>\n",
       "      <td>15</td>\n",
       "      <td>2008-12-20</td>\n",
       "      <td>2008-12-25</td>\n",
       "      <td>2008-06-01</td>\n",
       "      <td>2009-05-31</td>\n",
       "    </tr>\n",
       "    <tr>\n",
       "      <th>D7</th>\n",
       "      <td>Christmas 2009</td>\n",
       "      <td>Percentage</td>\n",
       "      <td>Total Invoice</td>\n",
       "      <td>Invoice</td>\n",
       "      <td>15</td>\n",
       "      <td>2009-12-20</td>\n",
       "      <td>2009-12-25</td>\n",
       "      <td>2009-06-01</td>\n",
       "      <td>2010-05-31</td>\n",
       "    </tr>\n",
       "  </tbody>\n",
       "</table>\n",
       "</div>"
      ],
      "text/plain": [
       "                 Promotion DiscountType     DiscountOn DiscountLevel  \\\n",
       "DiscountID                                                             \n",
       "D4          Christmas 2006   Percentage  Total Invoice       Invoice   \n",
       "D5          Christmas 2007   Percentage  Total Invoice       Invoice   \n",
       "D6          Christmas 2008   Percentage  Total Invoice       Invoice   \n",
       "D7          Christmas 2009   Percentage  Total Invoice       Invoice   \n",
       "\n",
       "            Discount   StartDate     EndDate   ValidFrom     ValidTo  \n",
       "DiscountID                                                            \n",
       "D4                15  2006-12-20  2006-12-25  2006-06-01  2007-05-31  \n",
       "D5                15  2007-12-20  2007-12-25  2007-06-01  2008-05-31  \n",
       "D6                15  2008-12-20  2008-12-25  2008-06-01  2009-05-31  \n",
       "D7                15  2009-12-20  2009-12-25  2009-06-01  2010-05-31  "
      ]
     },
     "execution_count": 2,
     "metadata": {},
     "output_type": "execute_result"
    }
   ],
   "source": [
    "import pandas as pd\n",
    "DimDiscount = pd.read_csv(\"DimDiscount.csv\", sep = ',').set_index('DiscountID')\n",
    "\n",
    "len(DimDiscount)\n",
    "\n",
    "DimDiscount.head()\n",
    "\n",
    "DimDiscount[DimDiscount.Discount>15]\n",
    "\n",
    "DimDiscount.loc[DimDiscount.Discount>15, 'EndDate']='2023-01-01'\n",
    "\n",
    "DimDiscount.iloc[5:9]"
   ]
  },
  {
   "cell_type": "code",
   "execution_count": null,
   "id": "5f2ee584",
   "metadata": {},
   "outputs": [],
   "source": []
  },
  {
   "cell_type": "markdown",
   "id": "6069a4f0",
   "metadata": {
    "ExecuteTime": {
     "end_time": "2022-10-27T13:38:49.552051Z",
     "start_time": "2022-10-27T13:38:49.539683Z"
    }
   },
   "source": [
    "#### Merge, join and concat"
   ]
  },
  {
   "cell_type": "markdown",
   "id": "9e0ff51e",
   "metadata": {},
   "source": [
    "* merge() for combining data on common columns or indices\n",
    "* .join() for combining data on a key column or an index\n",
    "* concat() for combining DataFrames across rows or columns"
   ]
  },
  {
   "cell_type": "code",
   "execution_count": 30,
   "id": "33a09ac1",
   "metadata": {
    "ExecuteTime": {
     "end_time": "2022-11-24T09:02:02.341565Z",
     "start_time": "2022-11-24T09:02:02.326471Z"
    }
   },
   "outputs": [],
   "source": [
    "data = {\n",
    "  \"age\": [50, 40, 45],\n",
    "    \"oib\":[1,5,3]\n",
    "}\n",
    "\n",
    "df1 = pd.DataFrame(data)\n",
    "\n",
    "data = {\n",
    "  \"name\": ['Ivan', 'Marin', 'Ana', 'Ivan'],\n",
    "  \"surname\": ['Ivić', 'Horvat', 'Zen', 'Ladic'],\n",
    "    \"oib\":[1,5,3,7]\n",
    "}\n",
    "df2 = pd.DataFrame(data)\n"
   ]
  },
  {
   "cell_type": "code",
   "execution_count": 31,
   "id": "01bfa503",
   "metadata": {
    "ExecuteTime": {
     "end_time": "2022-11-24T09:02:12.480983Z",
     "start_time": "2022-11-24T09:02:12.461989Z"
    },
    "scrolled": true
   },
   "outputs": [
    {
     "data": {
      "text/html": [
       "<div>\n",
       "<style scoped>\n",
       "    .dataframe tbody tr th:only-of-type {\n",
       "        vertical-align: middle;\n",
       "    }\n",
       "\n",
       "    .dataframe tbody tr th {\n",
       "        vertical-align: top;\n",
       "    }\n",
       "\n",
       "    .dataframe thead th {\n",
       "        text-align: right;\n",
       "    }\n",
       "</style>\n",
       "<table border=\"1\" class=\"dataframe\">\n",
       "  <thead>\n",
       "    <tr style=\"text-align: right;\">\n",
       "      <th></th>\n",
       "      <th>name</th>\n",
       "      <th>surname</th>\n",
       "      <th>oib</th>\n",
       "    </tr>\n",
       "  </thead>\n",
       "  <tbody>\n",
       "    <tr>\n",
       "      <th>0</th>\n",
       "      <td>Ivan</td>\n",
       "      <td>Ivić</td>\n",
       "      <td>1</td>\n",
       "    </tr>\n",
       "    <tr>\n",
       "      <th>1</th>\n",
       "      <td>Marin</td>\n",
       "      <td>Horvat</td>\n",
       "      <td>5</td>\n",
       "    </tr>\n",
       "    <tr>\n",
       "      <th>2</th>\n",
       "      <td>Ana</td>\n",
       "      <td>Zen</td>\n",
       "      <td>3</td>\n",
       "    </tr>\n",
       "    <tr>\n",
       "      <th>3</th>\n",
       "      <td>Ivan</td>\n",
       "      <td>Ladic</td>\n",
       "      <td>7</td>\n",
       "    </tr>\n",
       "  </tbody>\n",
       "</table>\n",
       "</div>"
      ],
      "text/plain": [
       "    name surname  oib\n",
       "0   Ivan    Ivić    1\n",
       "1  Marin  Horvat    5\n",
       "2    Ana     Zen    3\n",
       "3   Ivan   Ladic    7"
      ]
     },
     "execution_count": 31,
     "metadata": {},
     "output_type": "execute_result"
    }
   ],
   "source": [
    "df1\n",
    "df2"
   ]
  },
  {
   "cell_type": "code",
   "execution_count": 32,
   "id": "35826dc8",
   "metadata": {
    "ExecuteTime": {
     "end_time": "2022-11-24T09:03:03.621012Z",
     "start_time": "2022-11-24T09:03:03.580073Z"
    }
   },
   "outputs": [
    {
     "data": {
      "text/html": [
       "<div>\n",
       "<style scoped>\n",
       "    .dataframe tbody tr th:only-of-type {\n",
       "        vertical-align: middle;\n",
       "    }\n",
       "\n",
       "    .dataframe tbody tr th {\n",
       "        vertical-align: top;\n",
       "    }\n",
       "\n",
       "    .dataframe thead th {\n",
       "        text-align: right;\n",
       "    }\n",
       "</style>\n",
       "<table border=\"1\" class=\"dataframe\">\n",
       "  <thead>\n",
       "    <tr style=\"text-align: right;\">\n",
       "      <th></th>\n",
       "      <th>name</th>\n",
       "      <th>surname</th>\n",
       "      <th>age</th>\n",
       "    </tr>\n",
       "    <tr>\n",
       "      <th>oib</th>\n",
       "      <th></th>\n",
       "      <th></th>\n",
       "      <th></th>\n",
       "    </tr>\n",
       "  </thead>\n",
       "  <tbody>\n",
       "    <tr>\n",
       "      <th>1</th>\n",
       "      <td>Ivan</td>\n",
       "      <td>Ivić</td>\n",
       "      <td>50.0</td>\n",
       "    </tr>\n",
       "    <tr>\n",
       "      <th>5</th>\n",
       "      <td>Marin</td>\n",
       "      <td>Horvat</td>\n",
       "      <td>40.0</td>\n",
       "    </tr>\n",
       "    <tr>\n",
       "      <th>3</th>\n",
       "      <td>Ana</td>\n",
       "      <td>Zen</td>\n",
       "      <td>45.0</td>\n",
       "    </tr>\n",
       "    <tr>\n",
       "      <th>7</th>\n",
       "      <td>Ivan</td>\n",
       "      <td>Ladic</td>\n",
       "      <td>NaN</td>\n",
       "    </tr>\n",
       "  </tbody>\n",
       "</table>\n",
       "</div>"
      ],
      "text/plain": [
       "      name surname   age\n",
       "oib                     \n",
       "1     Ivan    Ivić  50.0\n",
       "5    Marin  Horvat  40.0\n",
       "3      Ana     Zen  45.0\n",
       "7     Ivan   Ladic   NaN"
      ]
     },
     "execution_count": 32,
     "metadata": {},
     "output_type": "execute_result"
    }
   ],
   "source": [
    "df1.set_index('oib')\n",
    "df2.set_index('oib').join(df1.set_index('oib'))"
   ]
  },
  {
   "cell_type": "code",
   "execution_count": 33,
   "id": "e6f34ca7",
   "metadata": {
    "ExecuteTime": {
     "end_time": "2022-11-24T09:04:43.407532Z",
     "start_time": "2022-11-24T09:04:43.393529Z"
    },
    "scrolled": true
   },
   "outputs": [
    {
     "data": {
      "text/html": [
       "<div>\n",
       "<style scoped>\n",
       "    .dataframe tbody tr th:only-of-type {\n",
       "        vertical-align: middle;\n",
       "    }\n",
       "\n",
       "    .dataframe tbody tr th {\n",
       "        vertical-align: top;\n",
       "    }\n",
       "\n",
       "    .dataframe thead th {\n",
       "        text-align: right;\n",
       "    }\n",
       "</style>\n",
       "<table border=\"1\" class=\"dataframe\">\n",
       "  <thead>\n",
       "    <tr style=\"text-align: right;\">\n",
       "      <th></th>\n",
       "      <th>name</th>\n",
       "      <th>surname</th>\n",
       "      <th>oib_</th>\n",
       "      <th>age</th>\n",
       "      <th>oib</th>\n",
       "    </tr>\n",
       "  </thead>\n",
       "  <tbody>\n",
       "    <tr>\n",
       "      <th>0</th>\n",
       "      <td>Ivan</td>\n",
       "      <td>Ivić</td>\n",
       "      <td>1</td>\n",
       "      <td>50.0</td>\n",
       "      <td>1.0</td>\n",
       "    </tr>\n",
       "    <tr>\n",
       "      <th>1</th>\n",
       "      <td>Marin</td>\n",
       "      <td>Horvat</td>\n",
       "      <td>5</td>\n",
       "      <td>40.0</td>\n",
       "      <td>5.0</td>\n",
       "    </tr>\n",
       "    <tr>\n",
       "      <th>2</th>\n",
       "      <td>Ana</td>\n",
       "      <td>Zen</td>\n",
       "      <td>3</td>\n",
       "      <td>45.0</td>\n",
       "      <td>3.0</td>\n",
       "    </tr>\n",
       "    <tr>\n",
       "      <th>3</th>\n",
       "      <td>Ivan</td>\n",
       "      <td>Ladic</td>\n",
       "      <td>7</td>\n",
       "      <td>NaN</td>\n",
       "      <td>NaN</td>\n",
       "    </tr>\n",
       "  </tbody>\n",
       "</table>\n",
       "</div>"
      ],
      "text/plain": [
       "    name surname  oib_   age  oib\n",
       "0   Ivan    Ivić     1  50.0  1.0\n",
       "1  Marin  Horvat     5  40.0  5.0\n",
       "2    Ana     Zen     3  45.0  3.0\n",
       "3   Ivan   Ladic     7   NaN  NaN"
      ]
     },
     "execution_count": 33,
     "metadata": {},
     "output_type": "execute_result"
    }
   ],
   "source": [
    "df2.join(df1,lsuffix='_' )"
   ]
  },
  {
   "cell_type": "code",
   "execution_count": 34,
   "id": "30406328",
   "metadata": {
    "ExecuteTime": {
     "end_time": "2022-10-28T08:56:11.588759Z",
     "start_time": "2022-10-28T08:56:11.560610Z"
    },
    "scrolled": false
   },
   "outputs": [
    {
     "data": {
      "text/html": [
       "<div>\n",
       "<style scoped>\n",
       "    .dataframe tbody tr th:only-of-type {\n",
       "        vertical-align: middle;\n",
       "    }\n",
       "\n",
       "    .dataframe tbody tr th {\n",
       "        vertical-align: top;\n",
       "    }\n",
       "\n",
       "    .dataframe thead th {\n",
       "        text-align: right;\n",
       "    }\n",
       "</style>\n",
       "<table border=\"1\" class=\"dataframe\">\n",
       "  <thead>\n",
       "    <tr style=\"text-align: right;\">\n",
       "      <th></th>\n",
       "      <th>age</th>\n",
       "      <th>oib</th>\n",
       "      <th>name</th>\n",
       "      <th>surname</th>\n",
       "    </tr>\n",
       "  </thead>\n",
       "  <tbody>\n",
       "    <tr>\n",
       "      <th>0</th>\n",
       "      <td>50</td>\n",
       "      <td>1</td>\n",
       "      <td>Ivan</td>\n",
       "      <td>Ivić</td>\n",
       "    </tr>\n",
       "    <tr>\n",
       "      <th>1</th>\n",
       "      <td>40</td>\n",
       "      <td>5</td>\n",
       "      <td>Marin</td>\n",
       "      <td>Horvat</td>\n",
       "    </tr>\n",
       "    <tr>\n",
       "      <th>2</th>\n",
       "      <td>45</td>\n",
       "      <td>3</td>\n",
       "      <td>Ana</td>\n",
       "      <td>Zen</td>\n",
       "    </tr>\n",
       "  </tbody>\n",
       "</table>\n",
       "</div>"
      ],
      "text/plain": [
       "   age  oib   name surname\n",
       "0   50    1   Ivan    Ivić\n",
       "1   40    5  Marin  Horvat\n",
       "2   45    3    Ana     Zen"
      ]
     },
     "execution_count": 34,
     "metadata": {},
     "output_type": "execute_result"
    }
   ],
   "source": [
    "pd.merge(df1,df2, on='oib')"
   ]
  },
  {
   "cell_type": "code",
   "execution_count": 35,
   "id": "0ab0fca7",
   "metadata": {
    "ExecuteTime": {
     "end_time": "2022-11-24T09:04:59.313051Z",
     "start_time": "2022-11-24T09:04:59.273105Z"
    },
    "scrolled": true
   },
   "outputs": [
    {
     "data": {
      "text/html": [
       "<div>\n",
       "<style scoped>\n",
       "    .dataframe tbody tr th:only-of-type {\n",
       "        vertical-align: middle;\n",
       "    }\n",
       "\n",
       "    .dataframe tbody tr th {\n",
       "        vertical-align: top;\n",
       "    }\n",
       "\n",
       "    .dataframe thead th {\n",
       "        text-align: right;\n",
       "    }\n",
       "</style>\n",
       "<table border=\"1\" class=\"dataframe\">\n",
       "  <thead>\n",
       "    <tr style=\"text-align: right;\">\n",
       "      <th></th>\n",
       "      <th>age</th>\n",
       "      <th>oib</th>\n",
       "      <th>name</th>\n",
       "      <th>surname</th>\n",
       "    </tr>\n",
       "  </thead>\n",
       "  <tbody>\n",
       "    <tr>\n",
       "      <th>0</th>\n",
       "      <td>50</td>\n",
       "      <td>1</td>\n",
       "      <td>Ivan</td>\n",
       "      <td>Ivić</td>\n",
       "    </tr>\n",
       "    <tr>\n",
       "      <th>1</th>\n",
       "      <td>40</td>\n",
       "      <td>5</td>\n",
       "      <td>Marin</td>\n",
       "      <td>Horvat</td>\n",
       "    </tr>\n",
       "    <tr>\n",
       "      <th>2</th>\n",
       "      <td>45</td>\n",
       "      <td>3</td>\n",
       "      <td>Ana</td>\n",
       "      <td>Zen</td>\n",
       "    </tr>\n",
       "  </tbody>\n",
       "</table>\n",
       "</div>"
      ],
      "text/plain": [
       "   age  oib   name surname\n",
       "0   50    1   Ivan    Ivić\n",
       "1   40    5  Marin  Horvat\n",
       "2   45    3    Ana     Zen"
      ]
     },
     "execution_count": 35,
     "metadata": {},
     "output_type": "execute_result"
    }
   ],
   "source": [
    "pd.merge(df1,df2)"
   ]
  },
  {
   "cell_type": "code",
   "execution_count": 36,
   "id": "484594d3",
   "metadata": {
    "ExecuteTime": {
     "end_time": "2022-11-24T09:05:37.033632Z",
     "start_time": "2022-11-24T09:05:37.015852Z"
    },
    "scrolled": false
   },
   "outputs": [
    {
     "data": {
      "text/html": [
       "<div>\n",
       "<style scoped>\n",
       "    .dataframe tbody tr th:only-of-type {\n",
       "        vertical-align: middle;\n",
       "    }\n",
       "\n",
       "    .dataframe tbody tr th {\n",
       "        vertical-align: top;\n",
       "    }\n",
       "\n",
       "    .dataframe thead th {\n",
       "        text-align: right;\n",
       "    }\n",
       "</style>\n",
       "<table border=\"1\" class=\"dataframe\">\n",
       "  <thead>\n",
       "    <tr style=\"text-align: right;\">\n",
       "      <th></th>\n",
       "      <th>name</th>\n",
       "      <th>surname</th>\n",
       "      <th>oib</th>\n",
       "    </tr>\n",
       "  </thead>\n",
       "  <tbody>\n",
       "    <tr>\n",
       "      <th>0</th>\n",
       "      <td>Ivan</td>\n",
       "      <td>Ivić</td>\n",
       "      <td>1</td>\n",
       "    </tr>\n",
       "    <tr>\n",
       "      <th>1</th>\n",
       "      <td>Marin</td>\n",
       "      <td>Horvat</td>\n",
       "      <td>5</td>\n",
       "    </tr>\n",
       "    <tr>\n",
       "      <th>2</th>\n",
       "      <td>Ana</td>\n",
       "      <td>Zen</td>\n",
       "      <td>3</td>\n",
       "    </tr>\n",
       "    <tr>\n",
       "      <th>3</th>\n",
       "      <td>Ivan</td>\n",
       "      <td>Ladic</td>\n",
       "      <td>7</td>\n",
       "    </tr>\n",
       "  </tbody>\n",
       "</table>\n",
       "</div>"
      ],
      "text/plain": [
       "    name surname  oib\n",
       "0   Ivan    Ivić    1\n",
       "1  Marin  Horvat    5\n",
       "2    Ana     Zen    3\n",
       "3   Ivan   Ladic    7"
      ]
     },
     "execution_count": 36,
     "metadata": {},
     "output_type": "execute_result"
    }
   ],
   "source": [
    "df1\n",
    "df2"
   ]
  },
  {
   "cell_type": "code",
   "execution_count": 62,
   "id": "af9a9b99",
   "metadata": {
    "ExecuteTime": {
     "end_time": "2022-11-24T09:05:18.418742Z",
     "start_time": "2022-11-24T09:05:18.405029Z"
    },
    "scrolled": true
   },
   "outputs": [
    {
     "data": {
      "text/html": [
       "<div>\n",
       "<style scoped>\n",
       "    .dataframe tbody tr th:only-of-type {\n",
       "        vertical-align: middle;\n",
       "    }\n",
       "\n",
       "    .dataframe tbody tr th {\n",
       "        vertical-align: top;\n",
       "    }\n",
       "\n",
       "    .dataframe thead th {\n",
       "        text-align: right;\n",
       "    }\n",
       "</style>\n",
       "<table border=\"1\" class=\"dataframe\">\n",
       "  <thead>\n",
       "    <tr style=\"text-align: right;\">\n",
       "      <th></th>\n",
       "      <th>age</th>\n",
       "      <th>oib</th>\n",
       "      <th>name</th>\n",
       "      <th>surname</th>\n",
       "    </tr>\n",
       "  </thead>\n",
       "  <tbody>\n",
       "    <tr>\n",
       "      <th>0</th>\n",
       "      <td>50.0</td>\n",
       "      <td>1</td>\n",
       "      <td>NaN</td>\n",
       "      <td>NaN</td>\n",
       "    </tr>\n",
       "    <tr>\n",
       "      <th>1</th>\n",
       "      <td>40.0</td>\n",
       "      <td>5</td>\n",
       "      <td>NaN</td>\n",
       "      <td>NaN</td>\n",
       "    </tr>\n",
       "    <tr>\n",
       "      <th>2</th>\n",
       "      <td>45.0</td>\n",
       "      <td>3</td>\n",
       "      <td>NaN</td>\n",
       "      <td>NaN</td>\n",
       "    </tr>\n",
       "    <tr>\n",
       "      <th>0</th>\n",
       "      <td>NaN</td>\n",
       "      <td>1</td>\n",
       "      <td>Ivan</td>\n",
       "      <td>Ivić</td>\n",
       "    </tr>\n",
       "    <tr>\n",
       "      <th>1</th>\n",
       "      <td>NaN</td>\n",
       "      <td>5</td>\n",
       "      <td>Marin</td>\n",
       "      <td>Horvat</td>\n",
       "    </tr>\n",
       "    <tr>\n",
       "      <th>2</th>\n",
       "      <td>NaN</td>\n",
       "      <td>3</td>\n",
       "      <td>Ana</td>\n",
       "      <td>Zen</td>\n",
       "    </tr>\n",
       "    <tr>\n",
       "      <th>3</th>\n",
       "      <td>NaN</td>\n",
       "      <td>7</td>\n",
       "      <td>Ivan</td>\n",
       "      <td>Ladic</td>\n",
       "    </tr>\n",
       "  </tbody>\n",
       "</table>\n",
       "</div>"
      ],
      "text/plain": [
       "    age  oib   name surname\n",
       "0  50.0    1    NaN     NaN\n",
       "1  40.0    5    NaN     NaN\n",
       "2  45.0    3    NaN     NaN\n",
       "0   NaN    1   Ivan    Ivić\n",
       "1   NaN    5  Marin  Horvat\n",
       "2   NaN    3    Ana     Zen\n",
       "3   NaN    7   Ivan   Ladic"
      ]
     },
     "execution_count": 62,
     "metadata": {},
     "output_type": "execute_result"
    }
   ],
   "source": [
    "pd.concat([df1,df2])"
   ]
  },
  {
   "cell_type": "code",
   "execution_count": 38,
   "id": "98ef0ee5",
   "metadata": {
    "ExecuteTime": {
     "end_time": "2022-10-28T08:57:54.094101Z",
     "start_time": "2022-10-28T08:57:54.081599Z"
    },
    "scrolled": false
   },
   "outputs": [
    {
     "data": {
      "text/html": [
       "<div>\n",
       "<style scoped>\n",
       "    .dataframe tbody tr th:only-of-type {\n",
       "        vertical-align: middle;\n",
       "    }\n",
       "\n",
       "    .dataframe tbody tr th {\n",
       "        vertical-align: top;\n",
       "    }\n",
       "\n",
       "    .dataframe thead th {\n",
       "        text-align: right;\n",
       "    }\n",
       "</style>\n",
       "<table border=\"1\" class=\"dataframe\">\n",
       "  <thead>\n",
       "    <tr style=\"text-align: right;\">\n",
       "      <th></th>\n",
       "      <th>age</th>\n",
       "      <th>oib</th>\n",
       "      <th>name</th>\n",
       "      <th>surname</th>\n",
       "      <th>oib</th>\n",
       "    </tr>\n",
       "  </thead>\n",
       "  <tbody>\n",
       "    <tr>\n",
       "      <th>0</th>\n",
       "      <td>50.0</td>\n",
       "      <td>1.0</td>\n",
       "      <td>Ivan</td>\n",
       "      <td>Ivić</td>\n",
       "      <td>1</td>\n",
       "    </tr>\n",
       "    <tr>\n",
       "      <th>1</th>\n",
       "      <td>40.0</td>\n",
       "      <td>5.0</td>\n",
       "      <td>Marin</td>\n",
       "      <td>Horvat</td>\n",
       "      <td>5</td>\n",
       "    </tr>\n",
       "    <tr>\n",
       "      <th>2</th>\n",
       "      <td>45.0</td>\n",
       "      <td>3.0</td>\n",
       "      <td>Ana</td>\n",
       "      <td>Zen</td>\n",
       "      <td>3</td>\n",
       "    </tr>\n",
       "    <tr>\n",
       "      <th>3</th>\n",
       "      <td>NaN</td>\n",
       "      <td>NaN</td>\n",
       "      <td>Ivan</td>\n",
       "      <td>Ladic</td>\n",
       "      <td>7</td>\n",
       "    </tr>\n",
       "  </tbody>\n",
       "</table>\n",
       "</div>"
      ],
      "text/plain": [
       "    age  oib   name surname  oib\n",
       "0  50.0  1.0   Ivan    Ivić    1\n",
       "1  40.0  5.0  Marin  Horvat    5\n",
       "2  45.0  3.0    Ana     Zen    3\n",
       "3   NaN  NaN   Ivan   Ladic    7"
      ]
     },
     "execution_count": 38,
     "metadata": {},
     "output_type": "execute_result"
    }
   ],
   "source": [
    "pd.concat([df1,df2], axis=1)"
   ]
  },
  {
   "cell_type": "code",
   "execution_count": 39,
   "id": "485b7f8c",
   "metadata": {
    "scrolled": true
   },
   "outputs": [
    {
     "data": {
      "text/html": [
       "<div>\n",
       "<style scoped>\n",
       "    .dataframe tbody tr th:only-of-type {\n",
       "        vertical-align: middle;\n",
       "    }\n",
       "\n",
       "    .dataframe tbody tr th {\n",
       "        vertical-align: top;\n",
       "    }\n",
       "\n",
       "    .dataframe thead th {\n",
       "        text-align: right;\n",
       "    }\n",
       "</style>\n",
       "<table border=\"1\" class=\"dataframe\">\n",
       "  <thead>\n",
       "    <tr style=\"text-align: right;\">\n",
       "      <th></th>\n",
       "      <th>age</th>\n",
       "      <th>oib</th>\n",
       "    </tr>\n",
       "  </thead>\n",
       "  <tbody>\n",
       "    <tr>\n",
       "      <th>0</th>\n",
       "      <td>50</td>\n",
       "      <td>1</td>\n",
       "    </tr>\n",
       "    <tr>\n",
       "      <th>2</th>\n",
       "      <td>45</td>\n",
       "      <td>3</td>\n",
       "    </tr>\n",
       "  </tbody>\n",
       "</table>\n",
       "</div>"
      ],
      "text/plain": [
       "   age  oib\n",
       "0   50    1\n",
       "2   45    3"
      ]
     },
     "execution_count": 39,
     "metadata": {},
     "output_type": "execute_result"
    }
   ],
   "source": [
    "df1[df1.age>44]"
   ]
  },
  {
   "cell_type": "markdown",
   "id": "5fe89b46",
   "metadata": {},
   "source": [
    "\n",
    "<div class=\"alert alert-success\">\n",
    "\n",
    "**Exercise 7**\n",
    "    \n",
    "<ol> \n",
    "<li>Load file  FactInvoices.csv in dataframe FactInvoices.\n",
    "<li>Print all invoices from FactInvoices where they had discount starting = '2006-12-20'.\n",
    "\n",
    "</div>"
   ]
  },
  {
   "cell_type": "code",
   "execution_count": 3,
   "id": "2a06a755",
   "metadata": {},
   "outputs": [
    {
     "name": "stderr",
     "output_type": "stream",
     "text": [
      "C:\\Users\\KristinaGrlić\\AppData\\Local\\Temp\\ipykernel_4564\\935956735.py:2: DtypeWarning: Columns (5,11) have mixed types. Specify dtype option on import or set low_memory=False.\n",
      "  FactInvoices = pd.read_csv(\"FactInvoices.txt\", sep = '\\t')\n"
     ]
    },
    {
     "data": {
      "text/html": [
       "<div>\n",
       "<style scoped>\n",
       "    .dataframe tbody tr th:only-of-type {\n",
       "        vertical-align: middle;\n",
       "    }\n",
       "\n",
       "    .dataframe tbody tr th {\n",
       "        vertical-align: top;\n",
       "    }\n",
       "\n",
       "    .dataframe thead th {\n",
       "        text-align: right;\n",
       "    }\n",
       "</style>\n",
       "<table border=\"1\" class=\"dataframe\">\n",
       "  <thead>\n",
       "    <tr style=\"text-align: right;\">\n",
       "      <th></th>\n",
       "      <th>InvoiceID</th>\n",
       "      <th>OrderID</th>\n",
       "      <th>InvoiceDate</th>\n",
       "      <th>Timestamp</th>\n",
       "      <th>StoreID</th>\n",
       "      <th>CustomerID</th>\n",
       "      <th>InvoiceAmount</th>\n",
       "      <th>CurrencyID</th>\n",
       "      <th>Quantity</th>\n",
       "      <th>EmployeeID</th>\n",
       "      <th>...</th>\n",
       "      <th>InvoiceType</th>\n",
       "      <th>Promotion</th>\n",
       "      <th>DiscountType</th>\n",
       "      <th>DiscountOn</th>\n",
       "      <th>DiscountLevel</th>\n",
       "      <th>Discount</th>\n",
       "      <th>StartDate</th>\n",
       "      <th>EndDate</th>\n",
       "      <th>ValidFrom</th>\n",
       "      <th>ValidTo</th>\n",
       "    </tr>\n",
       "  </thead>\n",
       "  <tbody>\n",
       "    <tr>\n",
       "      <th>2097</th>\n",
       "      <td>I10036894</td>\n",
       "      <td>O10047869</td>\n",
       "      <td>2006-12-20</td>\n",
       "      <td>16:19:52</td>\n",
       "      <td>ST02</td>\n",
       "      <td>0</td>\n",
       "      <td>55.27</td>\n",
       "      <td>SEK</td>\n",
       "      <td>1</td>\n",
       "      <td>SP10112</td>\n",
       "      <td>...</td>\n",
       "      <td>Sale</td>\n",
       "      <td>Christmas 2006</td>\n",
       "      <td>Percentage</td>\n",
       "      <td>Total Invoice</td>\n",
       "      <td>Invoice</td>\n",
       "      <td>15</td>\n",
       "      <td>2006-12-20</td>\n",
       "      <td>2006-12-25</td>\n",
       "      <td>2006-06-01</td>\n",
       "      <td>2007-05-31</td>\n",
       "    </tr>\n",
       "    <tr>\n",
       "      <th>2098</th>\n",
       "      <td>I10036889</td>\n",
       "      <td>O10047889</td>\n",
       "      <td>2006-12-20</td>\n",
       "      <td>15:50:10</td>\n",
       "      <td>ST02</td>\n",
       "      <td>0</td>\n",
       "      <td>66.33</td>\n",
       "      <td>SEK</td>\n",
       "      <td>1</td>\n",
       "      <td>SP10112</td>\n",
       "      <td>...</td>\n",
       "      <td>Sale</td>\n",
       "      <td>Christmas 2006</td>\n",
       "      <td>Percentage</td>\n",
       "      <td>Total Invoice</td>\n",
       "      <td>Invoice</td>\n",
       "      <td>15</td>\n",
       "      <td>2006-12-20</td>\n",
       "      <td>2006-12-25</td>\n",
       "      <td>2006-06-01</td>\n",
       "      <td>2007-05-31</td>\n",
       "    </tr>\n",
       "    <tr>\n",
       "      <th>2099</th>\n",
       "      <td>I10036891</td>\n",
       "      <td>O10047826</td>\n",
       "      <td>2006-12-20</td>\n",
       "      <td>16:02:37</td>\n",
       "      <td>ST01</td>\n",
       "      <td>0</td>\n",
       "      <td>59.95</td>\n",
       "      <td>EUR</td>\n",
       "      <td>1</td>\n",
       "      <td>SP10003</td>\n",
       "      <td>...</td>\n",
       "      <td>Sale</td>\n",
       "      <td>Christmas 2006</td>\n",
       "      <td>Percentage</td>\n",
       "      <td>Total Invoice</td>\n",
       "      <td>Invoice</td>\n",
       "      <td>15</td>\n",
       "      <td>2006-12-20</td>\n",
       "      <td>2006-12-25</td>\n",
       "      <td>2006-06-01</td>\n",
       "      <td>2007-05-31</td>\n",
       "    </tr>\n",
       "    <tr>\n",
       "      <th>2100</th>\n",
       "      <td>I10036890</td>\n",
       "      <td>O10047878</td>\n",
       "      <td>2006-12-20</td>\n",
       "      <td>15:52:23</td>\n",
       "      <td>ST03</td>\n",
       "      <td>0</td>\n",
       "      <td>74.23</td>\n",
       "      <td>GBP</td>\n",
       "      <td>1</td>\n",
       "      <td>SP10068</td>\n",
       "      <td>...</td>\n",
       "      <td>Sale</td>\n",
       "      <td>Christmas 2006</td>\n",
       "      <td>Percentage</td>\n",
       "      <td>Total Invoice</td>\n",
       "      <td>Invoice</td>\n",
       "      <td>15</td>\n",
       "      <td>2006-12-20</td>\n",
       "      <td>2006-12-25</td>\n",
       "      <td>2006-06-01</td>\n",
       "      <td>2007-05-31</td>\n",
       "    </tr>\n",
       "    <tr>\n",
       "      <th>2101</th>\n",
       "      <td>I10036888</td>\n",
       "      <td>O10047852</td>\n",
       "      <td>2006-12-20</td>\n",
       "      <td>15:42:53</td>\n",
       "      <td>ST03</td>\n",
       "      <td>0</td>\n",
       "      <td>96.52</td>\n",
       "      <td>GBP</td>\n",
       "      <td>1</td>\n",
       "      <td>SP10067</td>\n",
       "      <td>...</td>\n",
       "      <td>Sale</td>\n",
       "      <td>Christmas 2006</td>\n",
       "      <td>Percentage</td>\n",
       "      <td>Total Invoice</td>\n",
       "      <td>Invoice</td>\n",
       "      <td>15</td>\n",
       "      <td>2006-12-20</td>\n",
       "      <td>2006-12-25</td>\n",
       "      <td>2006-06-01</td>\n",
       "      <td>2007-05-31</td>\n",
       "    </tr>\n",
       "    <tr>\n",
       "      <th>...</th>\n",
       "      <td>...</td>\n",
       "      <td>...</td>\n",
       "      <td>...</td>\n",
       "      <td>...</td>\n",
       "      <td>...</td>\n",
       "      <td>...</td>\n",
       "      <td>...</td>\n",
       "      <td>...</td>\n",
       "      <td>...</td>\n",
       "      <td>...</td>\n",
       "      <td>...</td>\n",
       "      <td>...</td>\n",
       "      <td>...</td>\n",
       "      <td>...</td>\n",
       "      <td>...</td>\n",
       "      <td>...</td>\n",
       "      <td>...</td>\n",
       "      <td>...</td>\n",
       "      <td>...</td>\n",
       "      <td>...</td>\n",
       "      <td>...</td>\n",
       "    </tr>\n",
       "    <tr>\n",
       "      <th>2582</th>\n",
       "      <td>R10002051</td>\n",
       "      <td>O10048317</td>\n",
       "      <td>2007-01-08</td>\n",
       "      <td>13:40:58</td>\n",
       "      <td>ST01</td>\n",
       "      <td>0</td>\n",
       "      <td>-59.95</td>\n",
       "      <td>EUR</td>\n",
       "      <td>-1</td>\n",
       "      <td>SP10004</td>\n",
       "      <td>...</td>\n",
       "      <td>Return</td>\n",
       "      <td>Christmas 2006</td>\n",
       "      <td>Percentage</td>\n",
       "      <td>Total Invoice</td>\n",
       "      <td>Invoice</td>\n",
       "      <td>15</td>\n",
       "      <td>2006-12-20</td>\n",
       "      <td>2006-12-25</td>\n",
       "      <td>2006-06-01</td>\n",
       "      <td>2007-05-31</td>\n",
       "    </tr>\n",
       "    <tr>\n",
       "      <th>2583</th>\n",
       "      <td>R10002052</td>\n",
       "      <td>O10048332</td>\n",
       "      <td>2007-01-08</td>\n",
       "      <td>10:18:38</td>\n",
       "      <td>ST03</td>\n",
       "      <td>0</td>\n",
       "      <td>-170.75</td>\n",
       "      <td>GBP</td>\n",
       "      <td>-2</td>\n",
       "      <td>SP10068</td>\n",
       "      <td>...</td>\n",
       "      <td>Return</td>\n",
       "      <td>Christmas 2006</td>\n",
       "      <td>Percentage</td>\n",
       "      <td>Total Invoice</td>\n",
       "      <td>Invoice</td>\n",
       "      <td>15</td>\n",
       "      <td>2006-12-20</td>\n",
       "      <td>2006-12-25</td>\n",
       "      <td>2006-06-01</td>\n",
       "      <td>2007-05-31</td>\n",
       "    </tr>\n",
       "    <tr>\n",
       "      <th>2584</th>\n",
       "      <td>R10002053</td>\n",
       "      <td>O10048344</td>\n",
       "      <td>2007-01-08</td>\n",
       "      <td>11:05:12</td>\n",
       "      <td>ST03</td>\n",
       "      <td>0</td>\n",
       "      <td>-74.23</td>\n",
       "      <td>GBP</td>\n",
       "      <td>-1</td>\n",
       "      <td>SP10068</td>\n",
       "      <td>...</td>\n",
       "      <td>Return</td>\n",
       "      <td>Christmas 2006</td>\n",
       "      <td>Percentage</td>\n",
       "      <td>Total Invoice</td>\n",
       "      <td>Invoice</td>\n",
       "      <td>15</td>\n",
       "      <td>2006-12-20</td>\n",
       "      <td>2006-12-25</td>\n",
       "      <td>2006-06-01</td>\n",
       "      <td>2007-05-31</td>\n",
       "    </tr>\n",
       "    <tr>\n",
       "      <th>2585</th>\n",
       "      <td>R10002055</td>\n",
       "      <td>O10048432</td>\n",
       "      <td>2007-01-09</td>\n",
       "      <td>14:24:06</td>\n",
       "      <td>ST03</td>\n",
       "      <td>0</td>\n",
       "      <td>-163.32</td>\n",
       "      <td>GBP</td>\n",
       "      <td>-2</td>\n",
       "      <td>SP10068</td>\n",
       "      <td>...</td>\n",
       "      <td>Return</td>\n",
       "      <td>Christmas 2006</td>\n",
       "      <td>Percentage</td>\n",
       "      <td>Total Invoice</td>\n",
       "      <td>Invoice</td>\n",
       "      <td>15</td>\n",
       "      <td>2006-12-20</td>\n",
       "      <td>2006-12-25</td>\n",
       "      <td>2006-06-01</td>\n",
       "      <td>2007-05-31</td>\n",
       "    </tr>\n",
       "    <tr>\n",
       "      <th>2586</th>\n",
       "      <td>R10002054</td>\n",
       "      <td>O10048357</td>\n",
       "      <td>2007-01-09</td>\n",
       "      <td>16:13:51</td>\n",
       "      <td>ST03</td>\n",
       "      <td>0</td>\n",
       "      <td>-89.09</td>\n",
       "      <td>GBP</td>\n",
       "      <td>-1</td>\n",
       "      <td>SP10068</td>\n",
       "      <td>...</td>\n",
       "      <td>Return</td>\n",
       "      <td>Christmas 2006</td>\n",
       "      <td>Percentage</td>\n",
       "      <td>Total Invoice</td>\n",
       "      <td>Invoice</td>\n",
       "      <td>15</td>\n",
       "      <td>2006-12-20</td>\n",
       "      <td>2006-12-25</td>\n",
       "      <td>2006-06-01</td>\n",
       "      <td>2007-05-31</td>\n",
       "    </tr>\n",
       "  </tbody>\n",
       "</table>\n",
       "<p>490 rows × 24 columns</p>\n",
       "</div>"
      ],
      "text/plain": [
       "      InvoiceID    OrderID InvoiceDate Timestamp StoreID CustomerID  \\\n",
       "2097  I10036894  O10047869  2006-12-20  16:19:52    ST02          0   \n",
       "2098  I10036889  O10047889  2006-12-20  15:50:10    ST02          0   \n",
       "2099  I10036891  O10047826  2006-12-20  16:02:37    ST01          0   \n",
       "2100  I10036890  O10047878  2006-12-20  15:52:23    ST03          0   \n",
       "2101  I10036888  O10047852  2006-12-20  15:42:53    ST03          0   \n",
       "...         ...        ...         ...       ...     ...        ...   \n",
       "2582  R10002051  O10048317  2007-01-08  13:40:58    ST01          0   \n",
       "2583  R10002052  O10048332  2007-01-08  10:18:38    ST03          0   \n",
       "2584  R10002053  O10048344  2007-01-08  11:05:12    ST03          0   \n",
       "2585  R10002055  O10048432  2007-01-09  14:24:06    ST03          0   \n",
       "2586  R10002054  O10048357  2007-01-09  16:13:51    ST03          0   \n",
       "\n",
       "      InvoiceAmount CurrencyID  Quantity EmployeeID  ... InvoiceType  \\\n",
       "2097          55.27        SEK         1    SP10112  ...        Sale   \n",
       "2098          66.33        SEK         1    SP10112  ...        Sale   \n",
       "2099          59.95        EUR         1    SP10003  ...        Sale   \n",
       "2100          74.23        GBP         1    SP10068  ...        Sale   \n",
       "2101          96.52        GBP         1    SP10067  ...        Sale   \n",
       "...             ...        ...       ...        ...  ...         ...   \n",
       "2582         -59.95        EUR        -1    SP10004  ...      Return   \n",
       "2583        -170.75        GBP        -2    SP10068  ...      Return   \n",
       "2584         -74.23        GBP        -1    SP10068  ...      Return   \n",
       "2585        -163.32        GBP        -2    SP10068  ...      Return   \n",
       "2586         -89.09        GBP        -1    SP10068  ...      Return   \n",
       "\n",
       "           Promotion  DiscountType     DiscountOn DiscountLevel Discount  \\\n",
       "2097  Christmas 2006    Percentage  Total Invoice       Invoice       15   \n",
       "2098  Christmas 2006    Percentage  Total Invoice       Invoice       15   \n",
       "2099  Christmas 2006    Percentage  Total Invoice       Invoice       15   \n",
       "2100  Christmas 2006    Percentage  Total Invoice       Invoice       15   \n",
       "2101  Christmas 2006    Percentage  Total Invoice       Invoice       15   \n",
       "...              ...           ...            ...           ...      ...   \n",
       "2582  Christmas 2006    Percentage  Total Invoice       Invoice       15   \n",
       "2583  Christmas 2006    Percentage  Total Invoice       Invoice       15   \n",
       "2584  Christmas 2006    Percentage  Total Invoice       Invoice       15   \n",
       "2585  Christmas 2006    Percentage  Total Invoice       Invoice       15   \n",
       "2586  Christmas 2006    Percentage  Total Invoice       Invoice       15   \n",
       "\n",
       "       StartDate     EndDate   ValidFrom     ValidTo  \n",
       "2097  2006-12-20  2006-12-25  2006-06-01  2007-05-31  \n",
       "2098  2006-12-20  2006-12-25  2006-06-01  2007-05-31  \n",
       "2099  2006-12-20  2006-12-25  2006-06-01  2007-05-31  \n",
       "2100  2006-12-20  2006-12-25  2006-06-01  2007-05-31  \n",
       "2101  2006-12-20  2006-12-25  2006-06-01  2007-05-31  \n",
       "...          ...         ...         ...         ...  \n",
       "2582  2006-12-20  2006-12-25  2006-06-01  2007-05-31  \n",
       "2583  2006-12-20  2006-12-25  2006-06-01  2007-05-31  \n",
       "2584  2006-12-20  2006-12-25  2006-06-01  2007-05-31  \n",
       "2585  2006-12-20  2006-12-25  2006-06-01  2007-05-31  \n",
       "2586  2006-12-20  2006-12-25  2006-06-01  2007-05-31  \n",
       "\n",
       "[490 rows x 24 columns]"
      ]
     },
     "execution_count": 3,
     "metadata": {},
     "output_type": "execute_result"
    }
   ],
   "source": [
    "import pandas as pd\n",
    "FactInvoices = pd.read_csv(\"FactInvoices.txt\", sep = '\\t')\n",
    "\n",
    "data=pd.merge(FactInvoices, DimDiscount, on='DiscountID', how='inner')\n",
    "\n",
    "data[data.StartDate=='2006-12-20']"
   ]
  },
  {
   "cell_type": "markdown",
   "id": "16635910",
   "metadata": {},
   "source": [
    "#### Build-in methods"
   ]
  },
  {
   "cell_type": "markdown",
   "id": "a6bc6463",
   "metadata": {},
   "source": [
    "\n",
    "* **count()** returns counts of each non NaN variable.\n",
    "* **max()** and **min()** returns max/min value per column.\n",
    "* **nunique()** returns the number of unique values for each column.\n",
    "* **drop_duplicates()** returns rows with unique values.\n",
    "* **reset_index()** returns dataframe with new index, while old one is turned into column.\n",
    "* **drop()** returns dataframe without dropped columns.\n"
   ]
  },
  {
   "cell_type": "code",
   "execution_count": 63,
   "id": "415defa2",
   "metadata": {},
   "outputs": [
    {
     "data": {
      "text/plain": [
       "age        3\n",
       "oib        3\n",
       "name       4\n",
       "surname    4\n",
       "oib        4\n",
       "dtype: int64"
      ]
     },
     "execution_count": 63,
     "metadata": {},
     "output_type": "execute_result"
    }
   ],
   "source": [
    "#count\n",
    "pd.concat([df1,df2], axis=1).count()"
   ]
  },
  {
   "cell_type": "code",
   "execution_count": 64,
   "id": "49096f6f",
   "metadata": {
    "scrolled": true
   },
   "outputs": [
    {
     "data": {
      "text/plain": [
       "name       Marin\n",
       "surname      Zen\n",
       "oib            7\n",
       "dtype: object"
      ]
     },
     "execution_count": 64,
     "metadata": {},
     "output_type": "execute_result"
    }
   ],
   "source": [
    "#max\n",
    "df2.max()"
   ]
  },
  {
   "cell_type": "code",
   "execution_count": 65,
   "id": "c8bc0fb8",
   "metadata": {},
   "outputs": [
    {
     "data": {
      "text/plain": [
       "array(['Ivan', 'Marin', 'Ana'], dtype=object)"
      ]
     },
     "execution_count": 65,
     "metadata": {},
     "output_type": "execute_result"
    }
   ],
   "source": [
    "#unique\n",
    "df2['name'].unique()"
   ]
  },
  {
   "cell_type": "code",
   "execution_count": 66,
   "id": "c55bc3ba",
   "metadata": {
    "scrolled": true
   },
   "outputs": [
    {
     "data": {
      "text/plain": [
       "3"
      ]
     },
     "execution_count": 66,
     "metadata": {},
     "output_type": "execute_result"
    }
   ],
   "source": [
    "#number of unique values\n",
    "df2['name'].nunique()"
   ]
  },
  {
   "cell_type": "code",
   "execution_count": 58,
   "id": "fb51a9fb",
   "metadata": {
    "scrolled": true
   },
   "outputs": [
    {
     "data": {
      "text/html": [
       "<div>\n",
       "<style scoped>\n",
       "    .dataframe tbody tr th:only-of-type {\n",
       "        vertical-align: middle;\n",
       "    }\n",
       "\n",
       "    .dataframe tbody tr th {\n",
       "        vertical-align: top;\n",
       "    }\n",
       "\n",
       "    .dataframe thead th {\n",
       "        text-align: right;\n",
       "    }\n",
       "</style>\n",
       "<table border=\"1\" class=\"dataframe\">\n",
       "  <thead>\n",
       "    <tr style=\"text-align: right;\">\n",
       "      <th></th>\n",
       "      <th>name</th>\n",
       "      <th>surname</th>\n",
       "      <th>oib</th>\n",
       "    </tr>\n",
       "  </thead>\n",
       "  <tbody>\n",
       "    <tr>\n",
       "      <th>0</th>\n",
       "      <td>Ivan</td>\n",
       "      <td>Ivić</td>\n",
       "      <td>1</td>\n",
       "    </tr>\n",
       "    <tr>\n",
       "      <th>1</th>\n",
       "      <td>Marin</td>\n",
       "      <td>Horvat</td>\n",
       "      <td>5</td>\n",
       "    </tr>\n",
       "    <tr>\n",
       "      <th>2</th>\n",
       "      <td>Ana</td>\n",
       "      <td>Zen</td>\n",
       "      <td>3</td>\n",
       "    </tr>\n",
       "    <tr>\n",
       "      <th>3</th>\n",
       "      <td>Ivan</td>\n",
       "      <td>Ladic</td>\n",
       "      <td>7</td>\n",
       "    </tr>\n",
       "  </tbody>\n",
       "</table>\n",
       "</div>"
      ],
      "text/plain": [
       "    name surname  oib\n",
       "0   Ivan    Ivić    1\n",
       "1  Marin  Horvat    5\n",
       "2    Ana     Zen    3\n",
       "3   Ivan   Ladic    7"
      ]
     },
     "execution_count": 58,
     "metadata": {},
     "output_type": "execute_result"
    }
   ],
   "source": [
    "#drop_duplicates()\n",
    "df2.drop_duplicates()"
   ]
  },
  {
   "cell_type": "code",
   "execution_count": 92,
   "id": "5973915d",
   "metadata": {
    "scrolled": true
   },
   "outputs": [
    {
     "data": {
      "text/html": [
       "<div>\n",
       "<style scoped>\n",
       "    .dataframe tbody tr th:only-of-type {\n",
       "        vertical-align: middle;\n",
       "    }\n",
       "\n",
       "    .dataframe tbody tr th {\n",
       "        vertical-align: top;\n",
       "    }\n",
       "\n",
       "    .dataframe thead th {\n",
       "        text-align: right;\n",
       "    }\n",
       "</style>\n",
       "<table border=\"1\" class=\"dataframe\">\n",
       "  <thead>\n",
       "    <tr style=\"text-align: right;\">\n",
       "      <th></th>\n",
       "      <th>name</th>\n",
       "      <th>surname</th>\n",
       "      <th>oib</th>\n",
       "    </tr>\n",
       "  </thead>\n",
       "  <tbody>\n",
       "    <tr>\n",
       "      <th>0</th>\n",
       "      <td>Ivan</td>\n",
       "      <td>Ivić</td>\n",
       "      <td>1</td>\n",
       "    </tr>\n",
       "    <tr>\n",
       "      <th>0</th>\n",
       "      <td>Ivan</td>\n",
       "      <td>Ivić</td>\n",
       "      <td>1</td>\n",
       "    </tr>\n",
       "  </tbody>\n",
       "</table>\n",
       "</div>"
      ],
      "text/plain": [
       "   name surname  oib\n",
       "0  Ivan    Ivić    1\n",
       "0  Ivan    Ivić    1"
      ]
     },
     "execution_count": 92,
     "metadata": {},
     "output_type": "execute_result"
    }
   ],
   "source": [
    "dd=pd.concat([df2.iloc[[0]], df2.iloc[[0]]])\n",
    "dd"
   ]
  },
  {
   "cell_type": "code",
   "execution_count": 93,
   "id": "df8f1e24",
   "metadata": {},
   "outputs": [],
   "source": [
    "dd.drop_duplicates(inplace=True)"
   ]
  },
  {
   "cell_type": "code",
   "execution_count": 94,
   "id": "7a73262b",
   "metadata": {
    "scrolled": true
   },
   "outputs": [
    {
     "data": {
      "text/html": [
       "<div>\n",
       "<style scoped>\n",
       "    .dataframe tbody tr th:only-of-type {\n",
       "        vertical-align: middle;\n",
       "    }\n",
       "\n",
       "    .dataframe tbody tr th {\n",
       "        vertical-align: top;\n",
       "    }\n",
       "\n",
       "    .dataframe thead th {\n",
       "        text-align: right;\n",
       "    }\n",
       "</style>\n",
       "<table border=\"1\" class=\"dataframe\">\n",
       "  <thead>\n",
       "    <tr style=\"text-align: right;\">\n",
       "      <th></th>\n",
       "      <th>name</th>\n",
       "      <th>surname</th>\n",
       "      <th>oib</th>\n",
       "    </tr>\n",
       "  </thead>\n",
       "  <tbody>\n",
       "    <tr>\n",
       "      <th>0</th>\n",
       "      <td>Ivan</td>\n",
       "      <td>Ivić</td>\n",
       "      <td>1</td>\n",
       "    </tr>\n",
       "  </tbody>\n",
       "</table>\n",
       "</div>"
      ],
      "text/plain": [
       "   name surname  oib\n",
       "0  Ivan    Ivić    1"
      ]
     },
     "execution_count": 94,
     "metadata": {},
     "output_type": "execute_result"
    }
   ],
   "source": [
    "dd"
   ]
  },
  {
   "cell_type": "code",
   "execution_count": 95,
   "id": "0da0aa6c",
   "metadata": {
    "scrolled": true
   },
   "outputs": [
    {
     "data": {
      "text/html": [
       "<div>\n",
       "<style scoped>\n",
       "    .dataframe tbody tr th:only-of-type {\n",
       "        vertical-align: middle;\n",
       "    }\n",
       "\n",
       "    .dataframe tbody tr th {\n",
       "        vertical-align: top;\n",
       "    }\n",
       "\n",
       "    .dataframe thead th {\n",
       "        text-align: right;\n",
       "    }\n",
       "</style>\n",
       "<table border=\"1\" class=\"dataframe\">\n",
       "  <thead>\n",
       "    <tr style=\"text-align: right;\">\n",
       "      <th></th>\n",
       "      <th>name</th>\n",
       "      <th>surname</th>\n",
       "      <th>oib</th>\n",
       "    </tr>\n",
       "  </thead>\n",
       "  <tbody>\n",
       "  </tbody>\n",
       "</table>\n",
       "</div>"
      ],
      "text/plain": [
       "Empty DataFrame\n",
       "Columns: [name, surname, oib]\n",
       "Index: []"
      ]
     },
     "execution_count": 95,
     "metadata": {},
     "output_type": "execute_result"
    }
   ],
   "source": [
    "#drop\n",
    "dd.drop(0)"
   ]
  },
  {
   "cell_type": "code",
   "execution_count": 98,
   "id": "7d7650a1",
   "metadata": {
    "scrolled": false
   },
   "outputs": [
    {
     "data": {
      "text/html": [
       "<div>\n",
       "<style scoped>\n",
       "    .dataframe tbody tr th:only-of-type {\n",
       "        vertical-align: middle;\n",
       "    }\n",
       "\n",
       "    .dataframe tbody tr th {\n",
       "        vertical-align: top;\n",
       "    }\n",
       "\n",
       "    .dataframe thead th {\n",
       "        text-align: right;\n",
       "    }\n",
       "</style>\n",
       "<table border=\"1\" class=\"dataframe\">\n",
       "  <thead>\n",
       "    <tr style=\"text-align: right;\">\n",
       "      <th></th>\n",
       "      <th>surname</th>\n",
       "      <th>oib</th>\n",
       "    </tr>\n",
       "  </thead>\n",
       "  <tbody>\n",
       "    <tr>\n",
       "      <th>0</th>\n",
       "      <td>Ivić</td>\n",
       "      <td>1</td>\n",
       "    </tr>\n",
       "  </tbody>\n",
       "</table>\n",
       "</div>"
      ],
      "text/plain": [
       "  surname  oib\n",
       "0    Ivić    1"
      ]
     },
     "execution_count": 98,
     "metadata": {},
     "output_type": "execute_result"
    }
   ],
   "source": [
    "dd.drop('name', axis=1)"
   ]
  },
  {
   "cell_type": "code",
   "execution_count": 99,
   "id": "3afeccfc",
   "metadata": {
    "scrolled": true
   },
   "outputs": [
    {
     "data": {
      "text/html": [
       "<div>\n",
       "<style scoped>\n",
       "    .dataframe tbody tr th:only-of-type {\n",
       "        vertical-align: middle;\n",
       "    }\n",
       "\n",
       "    .dataframe tbody tr th {\n",
       "        vertical-align: top;\n",
       "    }\n",
       "\n",
       "    .dataframe thead th {\n",
       "        text-align: right;\n",
       "    }\n",
       "</style>\n",
       "<table border=\"1\" class=\"dataframe\">\n",
       "  <thead>\n",
       "    <tr style=\"text-align: right;\">\n",
       "      <th></th>\n",
       "      <th>index</th>\n",
       "      <th>name</th>\n",
       "      <th>surname</th>\n",
       "      <th>oib</th>\n",
       "    </tr>\n",
       "  </thead>\n",
       "  <tbody>\n",
       "    <tr>\n",
       "      <th>0</th>\n",
       "      <td>0</td>\n",
       "      <td>Ivan</td>\n",
       "      <td>Ivić</td>\n",
       "      <td>1</td>\n",
       "    </tr>\n",
       "  </tbody>\n",
       "</table>\n",
       "</div>"
      ],
      "text/plain": [
       "   index  name surname  oib\n",
       "0      0  Ivan    Ivić    1"
      ]
     },
     "execution_count": 99,
     "metadata": {},
     "output_type": "execute_result"
    }
   ],
   "source": [
    "dd.reset_index()"
   ]
  },
  {
   "cell_type": "markdown",
   "id": "3dad0b6a",
   "metadata": {},
   "source": [
    "\n",
    "<div class=\"alert alert-success\">\n",
    "\n",
    "**Exercise 7**\n",
    "    \n",
    "<ol> \n",
    "<li>Print all possible DiscountLevel from DimDiscount.\n",
    "<li>How many different DiscountLevel do we have?\n",
    "<li>Remove column DiscountOn from  dataset.\n",
    "\n",
    "</div>"
   ]
  },
  {
   "cell_type": "code",
   "execution_count": 5,
   "id": "50f490b6",
   "metadata": {},
   "outputs": [],
   "source": [
    "#solution\n",
    "DimDiscount.DiscountLevel.unique()\n",
    "\n",
    "DimDiscount.DiscountLevel.nunique()\n",
    "\n",
    "DimDiscount=DimDiscount.drop(['DiscountOn'], axis=1)"
   ]
  },
  {
   "cell_type": "markdown",
   "id": "71aeec30",
   "metadata": {},
   "source": [
    "#### Aggregations and sorting"
   ]
  },
  {
   "cell_type": "markdown",
   "id": "a87c8b5c",
   "metadata": {},
   "source": [
    "* **groupby(columns)** - A groupby operation involves some combination of splitting the object, applying a function, and combining the results. This can be used to group large amounts of data and compute operations on these groups.\n",
    "* **agg(operations)** - Aggregate using one or more operations over the specified axis.\n",
    "* **sort_values(columns, ascending)** - Sort by the values along either axis.\n"
   ]
  },
  {
   "cell_type": "code",
   "execution_count": 31,
   "id": "4f14d6b4",
   "metadata": {},
   "outputs": [
    {
     "data": {
      "text/html": [
       "<div>\n",
       "<style scoped>\n",
       "    .dataframe tbody tr th:only-of-type {\n",
       "        vertical-align: middle;\n",
       "    }\n",
       "\n",
       "    .dataframe tbody tr th {\n",
       "        vertical-align: top;\n",
       "    }\n",
       "\n",
       "    .dataframe thead th {\n",
       "        text-align: right;\n",
       "    }\n",
       "</style>\n",
       "<table border=\"1\" class=\"dataframe\">\n",
       "  <thead>\n",
       "    <tr style=\"text-align: right;\">\n",
       "      <th></th>\n",
       "      <th>value</th>\n",
       "      <th>product</th>\n",
       "    </tr>\n",
       "  </thead>\n",
       "  <tbody>\n",
       "    <tr>\n",
       "      <th>0</th>\n",
       "      <td>20.45</td>\n",
       "      <td>table</td>\n",
       "    </tr>\n",
       "    <tr>\n",
       "      <th>1</th>\n",
       "      <td>22.89</td>\n",
       "      <td>chair</td>\n",
       "    </tr>\n",
       "    <tr>\n",
       "      <th>2</th>\n",
       "      <td>32.12</td>\n",
       "      <td>chair</td>\n",
       "    </tr>\n",
       "    <tr>\n",
       "      <th>3</th>\n",
       "      <td>111.22</td>\n",
       "      <td>mobile phone</td>\n",
       "    </tr>\n",
       "    <tr>\n",
       "      <th>4</th>\n",
       "      <td>33.22</td>\n",
       "      <td>table</td>\n",
       "    </tr>\n",
       "    <tr>\n",
       "      <th>5</th>\n",
       "      <td>100.00</td>\n",
       "      <td>mobile phone</td>\n",
       "    </tr>\n",
       "    <tr>\n",
       "      <th>6</th>\n",
       "      <td>99.99</td>\n",
       "      <td>table</td>\n",
       "    </tr>\n",
       "  </tbody>\n",
       "</table>\n",
       "</div>"
      ],
      "text/plain": [
       "    value       product\n",
       "0   20.45         table\n",
       "1   22.89         chair\n",
       "2   32.12         chair\n",
       "3  111.22  mobile phone\n",
       "4   33.22         table\n",
       "5  100.00  mobile phone\n",
       "6   99.99         table"
      ]
     },
     "execution_count": 31,
     "metadata": {},
     "output_type": "execute_result"
    }
   ],
   "source": [
    "df = pd.DataFrame({\n",
    "    'value':[20.45,22.89,32.12,111.22,33.22,100.00,99.99],\n",
    "    'product':['table','chair','chair','mobile phone','table','mobile phone','table']\n",
    "})\n",
    "df"
   ]
  },
  {
   "cell_type": "code",
   "execution_count": 32,
   "id": "5a040876",
   "metadata": {
    "scrolled": true
   },
   "outputs": [
    {
     "data": {
      "text/plain": [
       "product\n",
       "chair            55.01\n",
       "mobile phone    211.22\n",
       "table           153.66\n",
       "Name: value, dtype: float64"
      ]
     },
     "execution_count": 32,
     "metadata": {},
     "output_type": "execute_result"
    }
   ],
   "source": [
    "df.groupby('product')['value'].sum()"
   ]
  },
  {
   "cell_type": "code",
   "execution_count": 137,
   "id": "6b469c8a",
   "metadata": {
    "scrolled": true
   },
   "outputs": [
    {
     "data": {
      "text/html": [
       "<div>\n",
       "<style scoped>\n",
       "    .dataframe tbody tr th:only-of-type {\n",
       "        vertical-align: middle;\n",
       "    }\n",
       "\n",
       "    .dataframe tbody tr th {\n",
       "        vertical-align: top;\n",
       "    }\n",
       "\n",
       "    .dataframe thead th {\n",
       "        text-align: right;\n",
       "    }\n",
       "</style>\n",
       "<table border=\"1\" class=\"dataframe\">\n",
       "  <thead>\n",
       "    <tr style=\"text-align: right;\">\n",
       "      <th></th>\n",
       "      <th>product</th>\n",
       "      <th>value</th>\n",
       "    </tr>\n",
       "  </thead>\n",
       "  <tbody>\n",
       "    <tr>\n",
       "      <th>0</th>\n",
       "      <td>chair</td>\n",
       "      <td>55.01</td>\n",
       "    </tr>\n",
       "    <tr>\n",
       "      <th>2</th>\n",
       "      <td>table</td>\n",
       "      <td>153.66</td>\n",
       "    </tr>\n",
       "    <tr>\n",
       "      <th>1</th>\n",
       "      <td>mobile phone</td>\n",
       "      <td>211.22</td>\n",
       "    </tr>\n",
       "  </tbody>\n",
       "</table>\n",
       "</div>"
      ],
      "text/plain": [
       "        product   value\n",
       "0         chair   55.01\n",
       "2         table  153.66\n",
       "1  mobile phone  211.22"
      ]
     },
     "execution_count": 137,
     "metadata": {},
     "output_type": "execute_result"
    }
   ],
   "source": [
    "df.groupby('product')['value'].sum().to_frame().reset_index().sort_values(by='value')"
   ]
  },
  {
   "cell_type": "code",
   "execution_count": 138,
   "id": "803d9689",
   "metadata": {
    "scrolled": true
   },
   "outputs": [
    {
     "data": {
      "text/html": [
       "<div>\n",
       "<style scoped>\n",
       "    .dataframe tbody tr th:only-of-type {\n",
       "        vertical-align: middle;\n",
       "    }\n",
       "\n",
       "    .dataframe tbody tr th {\n",
       "        vertical-align: top;\n",
       "    }\n",
       "\n",
       "    .dataframe thead th {\n",
       "        text-align: right;\n",
       "    }\n",
       "</style>\n",
       "<table border=\"1\" class=\"dataframe\">\n",
       "  <thead>\n",
       "    <tr style=\"text-align: right;\">\n",
       "      <th></th>\n",
       "      <th>product</th>\n",
       "      <th>value</th>\n",
       "    </tr>\n",
       "  </thead>\n",
       "  <tbody>\n",
       "    <tr>\n",
       "      <th>1</th>\n",
       "      <td>mobile phone</td>\n",
       "      <td>211.22</td>\n",
       "    </tr>\n",
       "    <tr>\n",
       "      <th>2</th>\n",
       "      <td>table</td>\n",
       "      <td>153.66</td>\n",
       "    </tr>\n",
       "    <tr>\n",
       "      <th>0</th>\n",
       "      <td>chair</td>\n",
       "      <td>55.01</td>\n",
       "    </tr>\n",
       "  </tbody>\n",
       "</table>\n",
       "</div>"
      ],
      "text/plain": [
       "        product   value\n",
       "1  mobile phone  211.22\n",
       "2         table  153.66\n",
       "0         chair   55.01"
      ]
     },
     "execution_count": 138,
     "metadata": {},
     "output_type": "execute_result"
    }
   ],
   "source": [
    "df.groupby('product')['value'].sum().to_frame().reset_index().sort_values(by='value', ascending=False)"
   ]
  },
  {
   "cell_type": "code",
   "execution_count": 139,
   "id": "31dac0c5",
   "metadata": {
    "scrolled": true
   },
   "outputs": [
    {
     "data": {
      "text/html": [
       "<div>\n",
       "<style scoped>\n",
       "    .dataframe tbody tr th:only-of-type {\n",
       "        vertical-align: middle;\n",
       "    }\n",
       "\n",
       "    .dataframe tbody tr th {\n",
       "        vertical-align: top;\n",
       "    }\n",
       "\n",
       "    .dataframe thead tr th {\n",
       "        text-align: left;\n",
       "    }\n",
       "\n",
       "    .dataframe thead tr:last-of-type th {\n",
       "        text-align: right;\n",
       "    }\n",
       "</style>\n",
       "<table border=\"1\" class=\"dataframe\">\n",
       "  <thead>\n",
       "    <tr>\n",
       "      <th></th>\n",
       "      <th colspan=\"2\" halign=\"left\">value</th>\n",
       "    </tr>\n",
       "    <tr>\n",
       "      <th></th>\n",
       "      <th>mean</th>\n",
       "      <th>std</th>\n",
       "    </tr>\n",
       "    <tr>\n",
       "      <th>product</th>\n",
       "      <th></th>\n",
       "      <th></th>\n",
       "    </tr>\n",
       "  </thead>\n",
       "  <tbody>\n",
       "    <tr>\n",
       "      <th>chair</th>\n",
       "      <td>27.505</td>\n",
       "      <td>6.526596</td>\n",
       "    </tr>\n",
       "    <tr>\n",
       "      <th>mobile phone</th>\n",
       "      <td>105.610</td>\n",
       "      <td>7.933738</td>\n",
       "    </tr>\n",
       "    <tr>\n",
       "      <th>table</th>\n",
       "      <td>51.220</td>\n",
       "      <td>42.715956</td>\n",
       "    </tr>\n",
       "  </tbody>\n",
       "</table>\n",
       "</div>"
      ],
      "text/plain": [
       "                value           \n",
       "                 mean        std\n",
       "product                         \n",
       "chair          27.505   6.526596\n",
       "mobile phone  105.610   7.933738\n",
       "table          51.220  42.715956"
      ]
     },
     "execution_count": 139,
     "metadata": {},
     "output_type": "execute_result"
    }
   ],
   "source": [
    "grouped_df=df.groupby('product').agg([np.mean,np.std])\n",
    "grouped_df"
   ]
  },
  {
   "cell_type": "code",
   "execution_count": 140,
   "id": "79823a45",
   "metadata": {
    "scrolled": true
   },
   "outputs": [
    {
     "data": {
      "text/html": [
       "<div>\n",
       "<style scoped>\n",
       "    .dataframe tbody tr th:only-of-type {\n",
       "        vertical-align: middle;\n",
       "    }\n",
       "\n",
       "    .dataframe tbody tr th {\n",
       "        vertical-align: top;\n",
       "    }\n",
       "\n",
       "    .dataframe thead th {\n",
       "        text-align: right;\n",
       "    }\n",
       "</style>\n",
       "<table border=\"1\" class=\"dataframe\">\n",
       "  <thead>\n",
       "    <tr style=\"text-align: right;\">\n",
       "      <th></th>\n",
       "      <th>product</th>\n",
       "      <th>value_mean</th>\n",
       "      <th>value_std</th>\n",
       "    </tr>\n",
       "  </thead>\n",
       "  <tbody>\n",
       "    <tr>\n",
       "      <th>0</th>\n",
       "      <td>chair</td>\n",
       "      <td>27.505</td>\n",
       "      <td>6.526596</td>\n",
       "    </tr>\n",
       "    <tr>\n",
       "      <th>1</th>\n",
       "      <td>mobile phone</td>\n",
       "      <td>105.610</td>\n",
       "      <td>7.933738</td>\n",
       "    </tr>\n",
       "    <tr>\n",
       "      <th>2</th>\n",
       "      <td>table</td>\n",
       "      <td>51.220</td>\n",
       "      <td>42.715956</td>\n",
       "    </tr>\n",
       "  </tbody>\n",
       "</table>\n",
       "</div>"
      ],
      "text/plain": [
       "        product  value_mean  value_std\n",
       "0         chair      27.505   6.526596\n",
       "1  mobile phone     105.610   7.933738\n",
       "2         table      51.220  42.715956"
      ]
     },
     "execution_count": 140,
     "metadata": {},
     "output_type": "execute_result"
    }
   ],
   "source": [
    "grouped_df.columns = ['_'.join(col) for col in grouped_df.columns.values]\n",
    "grouped_df.reset_index()"
   ]
  },
  {
   "cell_type": "code",
   "execution_count": 47,
   "id": "e3b036ed",
   "metadata": {
    "scrolled": false
   },
   "outputs": [
    {
     "name": "stderr",
     "output_type": "stream",
     "text": [
      "C:\\Users\\KristinaGrlić\\AppData\\Local\\Temp\\ipykernel_8628\\1003253212.py:1: FutureWarning: Dropping of nuisance columns in DataFrame reductions (with 'numeric_only=None') is deprecated; in a future version this will raise TypeError.  Select only valid columns before calling the reduction.\n",
      "  df.groupby('product').apply(lambda x: x.mean())\n"
     ]
    },
    {
     "data": {
      "text/html": [
       "<div>\n",
       "<style scoped>\n",
       "    .dataframe tbody tr th:only-of-type {\n",
       "        vertical-align: middle;\n",
       "    }\n",
       "\n",
       "    .dataframe tbody tr th {\n",
       "        vertical-align: top;\n",
       "    }\n",
       "\n",
       "    .dataframe thead th {\n",
       "        text-align: right;\n",
       "    }\n",
       "</style>\n",
       "<table border=\"1\" class=\"dataframe\">\n",
       "  <thead>\n",
       "    <tr style=\"text-align: right;\">\n",
       "      <th></th>\n",
       "      <th>value</th>\n",
       "    </tr>\n",
       "    <tr>\n",
       "      <th>product</th>\n",
       "      <th></th>\n",
       "    </tr>\n",
       "  </thead>\n",
       "  <tbody>\n",
       "    <tr>\n",
       "      <th>chair</th>\n",
       "      <td>27.505</td>\n",
       "    </tr>\n",
       "    <tr>\n",
       "      <th>mobile phone</th>\n",
       "      <td>105.610</td>\n",
       "    </tr>\n",
       "    <tr>\n",
       "      <th>table</th>\n",
       "      <td>51.220</td>\n",
       "    </tr>\n",
       "  </tbody>\n",
       "</table>\n",
       "</div>"
      ],
      "text/plain": [
       "                value\n",
       "product              \n",
       "chair          27.505\n",
       "mobile phone  105.610\n",
       "table          51.220"
      ]
     },
     "execution_count": 47,
     "metadata": {},
     "output_type": "execute_result"
    }
   ],
   "source": [
    "df.groupby('product').apply(lambda x: x.mean())"
   ]
  },
  {
   "cell_type": "markdown",
   "id": "704f3951",
   "metadata": {},
   "source": [
    "\n",
    "<div class=\"alert alert-success\">\n",
    "\n",
    "**Exercise 8**\n",
    "    \n",
    "<ol> \n",
    "\n",
    "<li>Calculate average invoice amount per store and order them from most profitable to least profitable.\n",
    "\n",
    "</div>"
   ]
  },
  {
   "cell_type": "code",
   "execution_count": 12,
   "id": "119c0222",
   "metadata": {},
   "outputs": [
    {
     "data": {
      "text/html": [
       "<div>\n",
       "<style scoped>\n",
       "    .dataframe tbody tr th:only-of-type {\n",
       "        vertical-align: middle;\n",
       "    }\n",
       "\n",
       "    .dataframe tbody tr th {\n",
       "        vertical-align: top;\n",
       "    }\n",
       "\n",
       "    .dataframe thead th {\n",
       "        text-align: right;\n",
       "    }\n",
       "</style>\n",
       "<table border=\"1\" class=\"dataframe\">\n",
       "  <thead>\n",
       "    <tr style=\"text-align: right;\">\n",
       "      <th></th>\n",
       "      <th>StoreID</th>\n",
       "      <th>InvoiceAmount</th>\n",
       "    </tr>\n",
       "  </thead>\n",
       "  <tbody>\n",
       "    <tr>\n",
       "      <th>0</th>\n",
       "      <td>ST01</td>\n",
       "      <td>72.050653</td>\n",
       "    </tr>\n",
       "    <tr>\n",
       "      <th>4</th>\n",
       "      <td>ST05</td>\n",
       "      <td>71.139794</td>\n",
       "    </tr>\n",
       "    <tr>\n",
       "      <th>2</th>\n",
       "      <td>ST03</td>\n",
       "      <td>71.092423</td>\n",
       "    </tr>\n",
       "    <tr>\n",
       "      <th>5</th>\n",
       "      <td>ST06</td>\n",
       "      <td>69.004116</td>\n",
       "    </tr>\n",
       "    <tr>\n",
       "      <th>6</th>\n",
       "      <td>ST07</td>\n",
       "      <td>64.265868</td>\n",
       "    </tr>\n",
       "    <tr>\n",
       "      <th>1</th>\n",
       "      <td>ST02</td>\n",
       "      <td>55.716266</td>\n",
       "    </tr>\n",
       "    <tr>\n",
       "      <th>3</th>\n",
       "      <td>ST04</td>\n",
       "      <td>49.137428</td>\n",
       "    </tr>\n",
       "  </tbody>\n",
       "</table>\n",
       "</div>"
      ],
      "text/plain": [
       "  StoreID  InvoiceAmount\n",
       "0    ST01      72.050653\n",
       "4    ST05      71.139794\n",
       "2    ST03      71.092423\n",
       "5    ST06      69.004116\n",
       "6    ST07      64.265868\n",
       "1    ST02      55.716266\n",
       "3    ST04      49.137428"
      ]
     },
     "execution_count": 12,
     "metadata": {},
     "output_type": "execute_result"
    }
   ],
   "source": [
    "FactInvoices.groupby(['StoreID'])['InvoiceAmount'].mean().to_frame().reset_index().sort_values(by='InvoiceAmount', ascending=False)"
   ]
  },
  {
   "cell_type": "markdown",
   "id": "9f516834",
   "metadata": {},
   "source": [
    "#### Bult-in ploting"
   ]
  },
  {
   "cell_type": "code",
   "execution_count": 169,
   "id": "608fff2c",
   "metadata": {},
   "outputs": [
    {
     "data": {
      "text/html": [
       "<div>\n",
       "<style scoped>\n",
       "    .dataframe tbody tr th:only-of-type {\n",
       "        vertical-align: middle;\n",
       "    }\n",
       "\n",
       "    .dataframe tbody tr th {\n",
       "        vertical-align: top;\n",
       "    }\n",
       "\n",
       "    .dataframe thead th {\n",
       "        text-align: right;\n",
       "    }\n",
       "</style>\n",
       "<table border=\"1\" class=\"dataframe\">\n",
       "  <thead>\n",
       "    <tr style=\"text-align: right;\">\n",
       "      <th></th>\n",
       "      <th>value</th>\n",
       "      <th>product</th>\n",
       "    </tr>\n",
       "  </thead>\n",
       "  <tbody>\n",
       "    <tr>\n",
       "      <th>0</th>\n",
       "      <td>20.45</td>\n",
       "      <td>table</td>\n",
       "    </tr>\n",
       "    <tr>\n",
       "      <th>1</th>\n",
       "      <td>22.89</td>\n",
       "      <td>chair</td>\n",
       "    </tr>\n",
       "    <tr>\n",
       "      <th>2</th>\n",
       "      <td>32.12</td>\n",
       "      <td>chair</td>\n",
       "    </tr>\n",
       "    <tr>\n",
       "      <th>3</th>\n",
       "      <td>111.22</td>\n",
       "      <td>mobile phone</td>\n",
       "    </tr>\n",
       "    <tr>\n",
       "      <th>4</th>\n",
       "      <td>33.22</td>\n",
       "      <td>table</td>\n",
       "    </tr>\n",
       "    <tr>\n",
       "      <th>5</th>\n",
       "      <td>100.00</td>\n",
       "      <td>mobile phone</td>\n",
       "    </tr>\n",
       "    <tr>\n",
       "      <th>6</th>\n",
       "      <td>99.99</td>\n",
       "      <td>table</td>\n",
       "    </tr>\n",
       "  </tbody>\n",
       "</table>\n",
       "</div>"
      ],
      "text/plain": [
       "    value       product\n",
       "0   20.45         table\n",
       "1   22.89         chair\n",
       "2   32.12         chair\n",
       "3  111.22  mobile phone\n",
       "4   33.22         table\n",
       "5  100.00  mobile phone\n",
       "6   99.99         table"
      ]
     },
     "execution_count": 169,
     "metadata": {},
     "output_type": "execute_result"
    }
   ],
   "source": [
    "df = pd.DataFrame({\n",
    "    'value':[20.45,22.89,32.12,111.22,33.22,100.00,99.99],\n",
    "    'product':['table','chair','chair','mobile phone','table','mobile phone','table']\n",
    "})\n",
    "df"
   ]
  },
  {
   "cell_type": "code",
   "execution_count": 187,
   "id": "d79b52a3",
   "metadata": {
    "scrolled": true
   },
   "outputs": [
    {
     "data": {
      "text/plain": [
       "<AxesSubplot:title={'center':'Plot'}, xlabel='product'>"
      ]
     },
     "execution_count": 187,
     "metadata": {},
     "output_type": "execute_result"
    },
    {
     "data": {
      "image/png": "[encoded data removed]",
      "text/plain": [
       "<Figure size 640x480 with 1 Axes>"
      ]
     },
     "metadata": {},
     "output_type": "display_data"
    }
   ],
   "source": [
    "#bar plot\n",
    "df.groupby('product').size().plot(kind='bar', title='Plot')\n"
   ]
  },
  {
   "cell_type": "code",
   "execution_count": 7,
   "id": "4a66917c",
   "metadata": {},
   "outputs": [],
   "source": [
    "speed = [0.1, 17.5, 40, 48, 52, 69, 88]\n",
    "lifespan = [2, 8, 70, 1.5, 25, 12, 28]\n",
    "index = ['snail', 'pig', 'elephant',\n",
    "         'rabbit', 'giraffe', 'coyote', 'horse']\n",
    "df = pd.DataFrame({'speed': speed,\n",
    "                   'lifespan': lifespan}, index=index)\n"
   ]
  },
  {
   "cell_type": "code",
   "execution_count": 192,
   "id": "df316bb4",
   "metadata": {},
   "outputs": [
    {
     "data": {
      "image/png": "[encoded data removed]",
      "text/plain": [
       "<Figure size 640x480 with 1 Axes>"
      ]
     },
     "metadata": {},
     "output_type": "display_data"
    },
    {
     "data": {
      "image/png": "[encoded data removed]",
      "text/plain": [
       "<Figure size 640x480 with 1 Axes>"
      ]
     },
     "metadata": {},
     "output_type": "display_data"
    }
   ],
   "source": [
    "#grouped bar chart\n",
    "\n",
    "ax=df.plot.bar(rot=0, title='Plot') \n",
    "ax=df.plot.bar(rot=0, title='Plot', color=['b', 'g'])\n"
   ]
  },
  {
   "cell_type": "code",
   "execution_count": 196,
   "id": "2d31e772",
   "metadata": {
    "scrolled": true
   },
   "outputs": [
    {
     "data": {
      "image/png": "[encoded data removed]",
      "text/plain": [
       "<Figure size 640x480 with 1 Axes>"
      ]
     },
     "metadata": {},
     "output_type": "display_data"
    }
   ],
   "source": [
    "ax=df.plot(kind='bar', rot=0)\n"
   ]
  },
  {
   "cell_type": "markdown",
   "id": "bf318196",
   "metadata": {},
   "source": [
    "Returning the Axes object from the df.plot() method allows you to further customize the plot using matplotlib methods. For example, you can use the set_xlabel() and set_ylabel() methods to change the labels of the x-axis and y-axis respectively, or use the legend() method to add a legend to the plot."
   ]
  },
  {
   "cell_type": "code",
   "execution_count": 162,
   "id": "91be0150",
   "metadata": {},
   "outputs": [
    {
     "data": {
      "text/plain": [
       "<matplotlib.legend.Legend at 0x186bf464e50>"
      ]
     },
     "execution_count": 162,
     "metadata": {},
     "output_type": "execute_result"
    },
    {
     "data": {
      "image/png": "[encoded data removed]",
      "text/plain": [
       "<Figure size 640x480 with 2 Axes>"
      ]
     },
     "metadata": {},
     "output_type": "display_data"
    }
   ],
   "source": [
    "axes = df.plot.bar( subplots=True)\n",
    "axes[0].legend(loc=2) \n",
    "axes[1].legend(loc=1) \n",
    "#https://matplotlib.org/stable/api/legend_api.html\n"
   ]
  },
  {
   "cell_type": "code",
   "execution_count": 159,
   "id": "99e4da66",
   "metadata": {
    "scrolled": true
   },
   "outputs": [
    {
     "data": {
      "image/png": "[encoded data removed]",
      "text/plain": [
       "<Figure size 640x480 with 1 Axes>"
      ]
     },
     "metadata": {},
     "output_type": "display_data"
    }
   ],
   "source": [
    "axes = df.plot.box()\n"
   ]
  },
  {
   "cell_type": "code",
   "execution_count": 165,
   "id": "5805c073",
   "metadata": {
    "scrolled": false
   },
   "outputs": [
    {
     "data": {
      "image/png": "[encoded data removed]",
      "text/plain": [
       "<Figure size 640x480 with 1 Axes>"
      ]
     },
     "metadata": {},
     "output_type": "display_data"
    }
   ],
   "source": [
    "axes = df.plot.scatter('speed', 'lifespan')"
   ]
  },
  {
   "cell_type": "code",
   "execution_count": 10,
   "id": "30965557",
   "metadata": {
    "scrolled": false
   },
   "outputs": [
    {
     "data": {
      "image/png": "[encoded data removed]",
      "text/plain": [
       "<Figure size 640x480 with 1 Axes>"
      ]
     },
     "metadata": {},
     "output_type": "display_data"
    }
   ],
   "source": [
    "axes=df.plot('speed', 'lifespan') #by default plots a line"
   ]
  },
  {
   "cell_type": "markdown",
   "id": "ffcf60de",
   "metadata": {},
   "source": [
    "\n",
    "<div class=\"alert alert-success\">\n",
    "\n",
    "**Exercise 9**\n",
    "    \n",
    "<ol> \n",
    "\n",
    "<li>Show visually average invoice amount per store and order them from most profitable to least profitable. Name a plot however you prefer.\n",
    "\n",
    "</div>"
   ]
  },
  {
   "cell_type": "code",
   "execution_count": 19,
   "id": "ca117c0d",
   "metadata": {},
   "outputs": [
    {
     "data": {
      "image/png": "[encoded data removed]",
      "text/plain": [
       "<Figure size 640x480 with 1 Axes>"
      ]
     },
     "metadata": {},
     "output_type": "display_data"
    }
   ],
   "source": [
    "data=FactInvoices.groupby(['StoreID'])['InvoiceAmount'].mean().to_frame().reset_index().sort_values(by='InvoiceAmount', ascending=False)\n",
    "\n",
    "ax=data.plot.bar(x='StoreID', y='InvoiceAmount', title='Plot') \n"
   ]
  },
  {
   "cell_type": "markdown",
   "id": "9aaa1f77",
   "metadata": {},
   "source": [
    "### Mathplotlib"
   ]
  },
  {
   "cell_type": "code",
   "execution_count": 4,
   "id": "1223d81a",
   "metadata": {},
   "outputs": [],
   "source": [
    "import matplotlib.pyplot as plt\n"
   ]
  },
  {
   "cell_type": "markdown",
   "id": "e48122a0",
   "metadata": {},
   "source": [
    "Matplotlib is built on top of NumPy and provides a convenient interface for creating a wide range of plot types, including line plots, scatter plots, bar plots, histograms, and more. It offers full control over plot formatting and styling, with options to customize colors, fonts, labels, and other plot elements.\n",
    "\n",
    "One of the strengths of Matplotlib is its ability to work with multiple axes and subplots, allowing you to create complex layouts and visualizations with ease. It also provides a range of specialized plot types, such as 3D plots, contour plots, and heatmaps.\n"
   ]
  },
  {
   "cell_type": "markdown",
   "id": "8daf59d1",
   "metadata": {},
   "source": [
    "To create a plot in matplotlib, there are several main steps to follow:\n",
    "\n",
    "* Import the necessary modules: You should start by importing the** matplotlib** library, typically using the shorthand import **matplotlib.pyplot as plt**.\n",
    "\n",
    "* Create a figure and axes: If you want more control over the layout of your plot, you can create a **Figure** object and one or more Axes objects using the **plt.subplots()** function. If you don't need to customize the layout, you can skip this step and use the default Axes created by **plt.plot()** or **plt.hist()**.\n",
    "\n",
    "* Plot your data: Depending on the type of plot you want to create, you can use different functions, such as **ax.plot()** for line plots, **ax.bar()** for bar plots, **ax.scatter()** for scatter plots, and **ax.hist()** for histograms.\n",
    "\n",
    "* Customize your plot: You can add a title to your plot using the **ax.set_title()** function, add labels to the x and y axes using **ax.set_xlabel()** and **ax.set_ylabel()**, and change the style or colors of the plot using various optional parameters.\n",
    "\n",
    "* Show or save your plot: When you're finished customizing your plot, you can either show it on the screen using the **plt.show()** function, or save it to a file using the **plt.savefig()** function."
   ]
  },
  {
   "cell_type": "code",
   "execution_count": 301,
   "id": "b7ebc27e",
   "metadata": {
    "scrolled": true
   },
   "outputs": [
    {
     "data": {
      "text/html": [
       "<div>\n",
       "<style scoped>\n",
       "    .dataframe tbody tr th:only-of-type {\n",
       "        vertical-align: middle;\n",
       "    }\n",
       "\n",
       "    .dataframe tbody tr th {\n",
       "        vertical-align: top;\n",
       "    }\n",
       "\n",
       "    .dataframe thead th {\n",
       "        text-align: right;\n",
       "    }\n",
       "</style>\n",
       "<table border=\"1\" class=\"dataframe\">\n",
       "  <thead>\n",
       "    <tr style=\"text-align: right;\">\n",
       "      <th></th>\n",
       "      <th>value</th>\n",
       "      <th>product</th>\n",
       "    </tr>\n",
       "  </thead>\n",
       "  <tbody>\n",
       "    <tr>\n",
       "      <th>0</th>\n",
       "      <td>20.45</td>\n",
       "      <td>table</td>\n",
       "    </tr>\n",
       "    <tr>\n",
       "      <th>1</th>\n",
       "      <td>22.89</td>\n",
       "      <td>chair</td>\n",
       "    </tr>\n",
       "    <tr>\n",
       "      <th>2</th>\n",
       "      <td>32.12</td>\n",
       "      <td>chair</td>\n",
       "    </tr>\n",
       "    <tr>\n",
       "      <th>3</th>\n",
       "      <td>111.22</td>\n",
       "      <td>mobile phone</td>\n",
       "    </tr>\n",
       "    <tr>\n",
       "      <th>4</th>\n",
       "      <td>33.22</td>\n",
       "      <td>table</td>\n",
       "    </tr>\n",
       "    <tr>\n",
       "      <th>5</th>\n",
       "      <td>100.00</td>\n",
       "      <td>mobile phone</td>\n",
       "    </tr>\n",
       "    <tr>\n",
       "      <th>6</th>\n",
       "      <td>99.99</td>\n",
       "      <td>table</td>\n",
       "    </tr>\n",
       "  </tbody>\n",
       "</table>\n",
       "</div>"
      ],
      "text/plain": [
       "    value       product\n",
       "0   20.45         table\n",
       "1   22.89         chair\n",
       "2   32.12         chair\n",
       "3  111.22  mobile phone\n",
       "4   33.22         table\n",
       "5  100.00  mobile phone\n",
       "6   99.99         table"
      ]
     },
     "execution_count": 301,
     "metadata": {},
     "output_type": "execute_result"
    }
   ],
   "source": [
    "df = pd.DataFrame({\n",
    "    'value':[20.45,22.89,32.12,111.22,33.22,100.00,99.99],\n",
    "    'product':['table','chair','chair','mobile phone','table','mobile phone','table']\n",
    "})\n",
    "df"
   ]
  },
  {
   "cell_type": "code",
   "execution_count": 302,
   "id": "ce726f0a",
   "metadata": {
    "scrolled": true
   },
   "outputs": [
    {
     "data": {
      "text/html": [
       "<div>\n",
       "<style scoped>\n",
       "    .dataframe tbody tr th:only-of-type {\n",
       "        vertical-align: middle;\n",
       "    }\n",
       "\n",
       "    .dataframe tbody tr th {\n",
       "        vertical-align: top;\n",
       "    }\n",
       "\n",
       "    .dataframe thead th {\n",
       "        text-align: right;\n",
       "    }\n",
       "</style>\n",
       "<table border=\"1\" class=\"dataframe\">\n",
       "  <thead>\n",
       "    <tr style=\"text-align: right;\">\n",
       "      <th></th>\n",
       "      <th>product</th>\n",
       "      <th>value</th>\n",
       "    </tr>\n",
       "  </thead>\n",
       "  <tbody>\n",
       "    <tr>\n",
       "      <th>0</th>\n",
       "      <td>chair</td>\n",
       "      <td>55.01</td>\n",
       "    </tr>\n",
       "    <tr>\n",
       "      <th>1</th>\n",
       "      <td>mobile phone</td>\n",
       "      <td>211.22</td>\n",
       "    </tr>\n",
       "    <tr>\n",
       "      <th>2</th>\n",
       "      <td>table</td>\n",
       "      <td>153.66</td>\n",
       "    </tr>\n",
       "  </tbody>\n",
       "</table>\n",
       "</div>"
      ],
      "text/plain": [
       "        product   value\n",
       "0         chair   55.01\n",
       "1  mobile phone  211.22\n",
       "2         table  153.66"
      ]
     },
     "execution_count": 302,
     "metadata": {},
     "output_type": "execute_result"
    }
   ],
   "source": [
    "data=df.groupby('product').sum().reset_index()\n",
    "data"
   ]
  },
  {
   "cell_type": "markdown",
   "id": "81a801a9",
   "metadata": {},
   "source": [
    "#### Bar plot"
   ]
  },
  {
   "cell_type": "markdown",
   "id": "da3b2404",
   "metadata": {},
   "source": [
    "A bar plot is a common type of chart used to display and compare categorical data. Matplotlib provides a simple and powerful interface for creating bar plots in Python.\n",
    "\n",
    "To create a bar plot in Matplotlib, you can use the **bar()** function, which takes two arrays or lists as input: \n",
    "\n",
    "* one containing the x-values (usually the categories)\n",
    "* one containing the corresponding y-values (the data)\n",
    "\n",
    "You can customize the appearance of the bars using **various parameters**, such as the color, width, and edge color.\n",
    "\n",
    "Matplotlib also provides several convenience functions for creating bar plots with additional features, such as:\n",
    "\n",
    "* stacked bars (barh())\n",
    "* horizontal bars (barh())\n",
    "* grouped bars (bar() with the width parameter)"
   ]
  },
  {
   "cell_type": "code",
   "execution_count": 211,
   "id": "48ee2a1d",
   "metadata": {
    "scrolled": true
   },
   "outputs": [
    {
     "data": {
      "image/png": "[encoded data removed]",
      "text/plain": [
       "<Figure size 640x480 with 1 Axes>"
      ]
     },
     "metadata": {},
     "output_type": "display_data"
    }
   ],
   "source": [
    "import matplotlib.pyplot as plt\n",
    "\n",
    "fig, ax = plt.subplots() # for creating axes - necessary\n",
    "\n",
    "\n",
    "ax.bar(data['product'], data['value'])\n",
    "\n",
    "ax.set_xlabel('Product')\n",
    "ax.set_ylabel('Values')\n",
    "ax.set_title('Cost')\n",
    "\n",
    "plt.show()"
   ]
  },
  {
   "cell_type": "code",
   "execution_count": 283,
   "id": "65e2e9c3",
   "metadata": {},
   "outputs": [],
   "source": [
    "\n",
    "speed = [0.1, 17.5, 40, 48, 52, 69, 88]\n",
    "lifespan = [2, 8, 70, 1.5, 25, 12, 28]\n",
    "index = ['snail', 'pig', 'elephant',\n",
    "         'rabbit', 'giraffe', 'coyote', 'horse']\n",
    "df = pd.DataFrame({'speed': speed,\n",
    "                   'lifespan': lifespan}, index=index)\n"
   ]
  },
  {
   "cell_type": "code",
   "execution_count": 268,
   "id": "21a610dc",
   "metadata": {
    "scrolled": true
   },
   "outputs": [
    {
     "data": {
      "image/png": "[encoded data removed]",
      "text/plain": [
       "<Figure size 640x480 with 1 Axes>"
      ]
     },
     "metadata": {},
     "output_type": "display_data"
    },
    {
     "data": {
      "image/png": "[encoded data removed]",
      "text/plain": [
       "<Figure size 640x480 with 1 Axes>"
      ]
     },
     "metadata": {},
     "output_type": "display_data"
    }
   ],
   "source": [
    "\n",
    "x = np.arange(len(index))  # the label locations\n",
    "\n",
    "fig, ax = plt.subplots(layout='constrained')\n",
    "\n",
    "plt.bar(x-0.2, df['speed'], width=0.4,  align='edge')\n",
    "plt.bar(x+0.2, df['lifespan'],  width=0.4, align='edge')\n",
    "ax.set_xticks(x + 0.2, index)\n",
    "\n",
    "# Display the plot\n",
    "plt.show()\n",
    "\n",
    "\n",
    "## better approach if we have more columns\n",
    "\n",
    "x = np.arange(len(index))  # the label locations\n",
    "width = 0.25  # the width of the bars\n",
    "multiplier = 0\n",
    "\n",
    "fig, ax = plt.subplots(layout='constrained')\n",
    "\n",
    "for col in df.columns:\n",
    "    measurement=df[col]\n",
    "    offset = width * multiplier\n",
    "    rects = ax.bar(x + offset, measurement, width, label=col)\n",
    "    ax.bar_label(rects, padding=3)\n",
    "    multiplier += 1\n",
    "\n",
    "# Add some text for labels, title and custom x-axis tick labels, etc.\n",
    "ax.set_ylabel('Atributes')\n",
    "ax.set_title('Atributes per animal')\n",
    "ax.set_xticks(x + width, index)\n",
    "ax.legend(loc='upper left')\n",
    "ax.set_ylim(0, 100)\n",
    "\n",
    "plt.show()"
   ]
  },
  {
   "cell_type": "code",
   "execution_count": 304,
   "id": "648c596f",
   "metadata": {},
   "outputs": [],
   "source": [
    "speed = [0.1, 17.5, 40, 48, 52, 69, 88]\n",
    "lifespan = [2, 8, 70, 1.5, 25, 12, 28]\n",
    "index = ['snail', 'pig', 'elephant',\n",
    "         'rabbit', 'giraffe', 'coyote', 'horse']\n",
    "df = pd.DataFrame({'speed': speed,\n",
    "                   'lifespan': lifespan}, index=index)\n"
   ]
  },
  {
   "cell_type": "code",
   "execution_count": 308,
   "id": "27f7ec30",
   "metadata": {},
   "outputs": [
    {
     "data": {
      "image/png": "[encoded data removed]",
      "text/plain": [
       "<Figure size 640x480 with 2 Axes>"
      ]
     },
     "metadata": {},
     "output_type": "display_data"
    }
   ],
   "source": [
    "#Create the first bar plot\n",
    "plt.subplot(211)\n",
    "plt.bar(df.index, df['speed'])\n",
    "plt.legend(['Speed'], loc=2)\n",
    "\n",
    "\n",
    "# Create the second bar plot\n",
    "plt.subplot(212)\n",
    "plt.bar(df.index, df['lifespan'],color='orange')\n",
    "plt.legend(['Lifespan'], loc=1)\n",
    "\n",
    "# Display the plots\n",
    "plt.show()"
   ]
  },
  {
   "cell_type": "code",
   "execution_count": 307,
   "id": "3c6f6bd2",
   "metadata": {
    "scrolled": true
   },
   "outputs": [
    {
     "data": {
      "image/png": "[encoded data removed]",
      "text/plain": [
       "<Figure size 640x480 with 2 Axes>"
      ]
     },
     "metadata": {},
     "output_type": "display_data"
    }
   ],
   "source": [
    "fig, axes = plt.subplots(nrows=2, ncols=1)\n",
    "axes[0].bar(df.index, df['speed'],color='orange')\n",
    "axes[0].legend(['Speed'], loc=2)\n",
    "\n",
    "axes[1].bar(df.index, df['lifespan'])\n",
    "axes[1].legend(['Lifespan'], loc=1)\n",
    "plt.show()\n",
    "\n"
   ]
  },
  {
   "cell_type": "code",
   "execution_count": 309,
   "id": "f3af8f54",
   "metadata": {
    "scrolled": true
   },
   "outputs": [
    {
     "data": {
      "image/png": "[encoded data removed]",
      "text/plain": [
       "<Figure size 640x480 with 2 Axes>"
      ]
     },
     "metadata": {},
     "output_type": "display_data"
    }
   ],
   "source": [
    "fig, axes = plt.subplots(nrows=2, ncols=1, sharex=True)\n",
    "axes[0].bar(df.index, df['speed'],color='orange')\n",
    "axes[0].legend(['Speed'], loc=2)\n",
    "\n",
    "axes[1].bar(df.index, df['lifespan'])\n",
    "axes[1].legend(['Lifespan'], loc=1)\n",
    "plt.show()"
   ]
  },
  {
   "cell_type": "markdown",
   "id": "ee175b8b",
   "metadata": {},
   "source": [
    "\n",
    "<div class=\"alert alert-success\">\n",
    "\n",
    "**Exercise 10**\n",
    "    \n",
    "<ol> \n",
    "\n",
    "<li>Do same task like exercise 9 using matplotlib library with few additions and ax.bar:\n",
    "    \n",
    "* Name x-axis 'Store' \n",
    "* Name y-axis 'Average amount' \n",
    "* Put title  'Average amount per store'\n",
    "* Change color into orange\n",
    "\n",
    "\n",
    "</div>"
   ]
  },
  {
   "cell_type": "code",
   "execution_count": 24,
   "id": "9e8bf42d",
   "metadata": {},
   "outputs": [
    {
     "data": {
      "image/png": "[encoded data removed]",
      "text/plain": [
       "<Figure size 640x480 with 1 Axes>"
      ]
     },
     "metadata": {},
     "output_type": "display_data"
    }
   ],
   "source": [
    "import matplotlib.pyplot as plt\n",
    "\n",
    "data=FactInvoices.groupby(['StoreID'])['InvoiceAmount'].mean().to_frame().reset_index().sort_values(by='InvoiceAmount', ascending=False)\n",
    "\n",
    "fig, ax = plt.subplots() # for creating axes - necessary\n",
    "\n",
    "ax.bar(data['StoreID'], data['InvoiceAmount'], color='orange')\n",
    "\n",
    "ax.set_xlabel('Store')\n",
    "ax.set_ylabel('Average amount')\n",
    "ax.set_title('Average amount per store')\n",
    "\n",
    "plt.show()"
   ]
  },
  {
   "cell_type": "markdown",
   "id": "15ae079b",
   "metadata": {},
   "source": [
    "#### Box plot"
   ]
  },
  {
   "cell_type": "markdown",
   "id": "3e51bb76",
   "metadata": {},
   "source": [
    "A box plot is a statistical visualization tool that displays the distribution of a dataset through its quartiles.\n",
    "\n",
    "* **median (or second quartile)** as a horizontal line in the box\n",
    "* **first and third quartiles** forming the box itself\n",
    "* The **whiskers** extend from the box to the minimum and maximum values in the dataset that are within 1.5 times the IQR of the first and third quartiles. Mimimum around 1%, while maximum at 99%.\n",
    "* Any values outside this range are considered **outliers** and are plotted individually as points outside the whiskers (~2% of dataset)"
   ]
  },
  {
   "cell_type": "code",
   "execution_count": 26,
   "id": "74b84249",
   "metadata": {},
   "outputs": [],
   "source": [
    "speed = [0.1, 17.5, 40, 48, 52, 69, 88]\n",
    "lifespan = [2, 8, 70, 1.5, 25, 12, 28]\n",
    "index = ['snail', 'pig', 'elephant',\n",
    "         'rabbit', 'giraffe', 'coyote', 'horse']\n",
    "df = pd.DataFrame({'speed': speed,\n",
    "                   'lifespan': lifespan}, index=index)\n"
   ]
  },
  {
   "cell_type": "code",
   "execution_count": 29,
   "id": "87b2efc3",
   "metadata": {
    "scrolled": false
   },
   "outputs": [
    {
     "data": {
      "text/plain": [
       "{'whiskers': [<matplotlib.lines.Line2D at 0x139c34e14c0>,\n",
       "  <matplotlib.lines.Line2D at 0x139c34e17c0>,\n",
       "  <matplotlib.lines.Line2D at 0x139c34f08e0>,\n",
       "  <matplotlib.lines.Line2D at 0x139c34f0bb0>],\n",
       " 'caps': [<matplotlib.lines.Line2D at 0x139c34e1a90>,\n",
       "  <matplotlib.lines.Line2D at 0x139c34e1d60>,\n",
       "  <matplotlib.lines.Line2D at 0x139c34f0e80>,\n",
       "  <matplotlib.lines.Line2D at 0x139c3500190>],\n",
       " 'boxes': [<matplotlib.lines.Line2D at 0x139c34e1310>,\n",
       "  <matplotlib.lines.Line2D at 0x139c34f0610>],\n",
       " 'medians': [<matplotlib.lines.Line2D at 0x139c34f0070>,\n",
       "  <matplotlib.lines.Line2D at 0x139c3500460>],\n",
       " 'fliers': [<matplotlib.lines.Line2D at 0x139c34f0340>,\n",
       "  <matplotlib.lines.Line2D at 0x139c3500730>],\n",
       " 'means': []}"
      ]
     },
     "execution_count": 29,
     "metadata": {},
     "output_type": "execute_result"
    },
    {
     "data": {
      "text/plain": [
       "Text(0.5, 1.0, 'Box Plot')"
      ]
     },
     "execution_count": 29,
     "metadata": {},
     "output_type": "execute_result"
    },
    {
     "data": {
      "text/plain": [
       "[Text(1, 0, 'speed'), Text(2, 0, 'lifespan')]"
      ]
     },
     "execution_count": 29,
     "metadata": {},
     "output_type": "execute_result"
    },
    {
     "data": {
      "text/plain": [
       "Text(0, 0.5, 'Values')"
      ]
     },
     "execution_count": 29,
     "metadata": {},
     "output_type": "execute_result"
    },
    {
     "data": {
      "image/png": "[encoded data removed]",
      "text/plain": [
       "<Figure size 640x480 with 1 Axes>"
      ]
     },
     "metadata": {},
     "output_type": "display_data"
    }
   ],
   "source": [
    "\n",
    "# Create a figure and axes object\n",
    "fig, ax = plt.subplots()\n",
    "\n",
    "# Create the box plot\n",
    "ax.boxplot(df)\n",
    "# Set the labels and title\n",
    "ax.set_xticklabels(['speed', 'lifespan'])\n",
    "ax.set_ylabel('Values')\n",
    "ax.set_title('Box Plot')\n",
    "#plt.title('Box Plot') #same as above\n",
    "\n",
    "# Display the plot\n",
    "plt.show()"
   ]
  },
  {
   "cell_type": "markdown",
   "id": "c91b4ccb",
   "metadata": {},
   "source": [
    "\n",
    "<div class=\"alert alert-success\">\n",
    "\n",
    "**Exercise 11**\n",
    "    \n",
    "<ol> \n",
    "\n",
    "<li>Print distribution of invoice quantity with boxplot.\n",
    "    \n",
    "* Name x-axis 'Quantity' \n",
    "* Name y-axis 'Values' \n",
    "* Put title  'Box Plot\n",
    "* Set y axis on min=0 and max=5\n",
    "\n",
    "</div>"
   ]
  },
  {
   "cell_type": "code",
   "execution_count": 32,
   "id": "5c008a06",
   "metadata": {},
   "outputs": [
    {
     "data": {
      "image/png": "[encoded data removed]",
      "text/plain": [
       "<Figure size 640x480 with 1 Axes>"
      ]
     },
     "metadata": {},
     "output_type": "display_data"
    }
   ],
   "source": [
    "fig, ax = plt.subplots()\n",
    "\n",
    "ax.boxplot(FactInvoices.Quantity)\n",
    "\n",
    "ax.set_xlabel('Quantity')\n",
    "ax.set_ylabel('Values')\n",
    "ax.set_title('Box Plot')\n",
    "ax.set_ylim(0,5)\n",
    "\n",
    "\n",
    "plt.show()"
   ]
  },
  {
   "cell_type": "markdown",
   "id": "60b165f5",
   "metadata": {},
   "source": [
    "#### Scatter plot"
   ]
  },
  {
   "cell_type": "markdown",
   "id": "25d61214",
   "metadata": {},
   "source": [
    "A scatter plot is a type of plot in which the values of two variables are plotted as points on a two-dimensional coordinate system. Each point on the plot represents a single observation in the dataset. One variable is plotted along the x-axis, and the other variable is plotted along the y-axis."
   ]
  },
  {
   "cell_type": "code",
   "execution_count": 298,
   "id": "23d324c6",
   "metadata": {},
   "outputs": [],
   "source": [
    "speed = [0.1, 17.5, 40, 48, 52, 69, 88]\n",
    "lifespan = [2, 8, 70, 1.5, 25, 12, 28]\n",
    "index = ['snail', 'pig', 'elephant',\n",
    "         'rabbit', 'giraffe', 'coyote', 'horse']\n",
    "df = pd.DataFrame({'speed': speed,\n",
    "                   'lifespan': lifespan}, index=index)\n"
   ]
  },
  {
   "cell_type": "code",
   "execution_count": 281,
   "id": "b5f26a36",
   "metadata": {
    "scrolled": true
   },
   "outputs": [
    {
     "data": {
      "text/plain": [
       "Text(0.5, 1.0, 'Scatter Plot')"
      ]
     },
     "execution_count": 281,
     "metadata": {},
     "output_type": "execute_result"
    },
    {
     "data": {
      "image/png": "[encoded data removed]",
      "text/plain": [
       "<Figure size 640x480 with 1 Axes>"
      ]
     },
     "metadata": {},
     "output_type": "display_data"
    }
   ],
   "source": [
    "#scatter\n",
    "fig, ax = plt.subplots()\n",
    "\n",
    "ax.scatter(df.speed, df.lifespan)\n",
    "ax.set_xlabel('speed')\n",
    "\n",
    "ax.set_ylabel('lifespan')\n",
    "ax.set_title('Scatter Plot')"
   ]
  },
  {
   "cell_type": "markdown",
   "id": "3e958d86",
   "metadata": {},
   "source": [
    "\n",
    "<div class=\"alert alert-success\">\n",
    "\n",
    "**Exercise 12**\n",
    "    \n",
    "<ol> \n",
    "\n",
    "<li>Print Quantity vs NetInvoiceAmount with scatter plot.\n",
    "    \n",
    "* Name x-axis 'Quantity' \n",
    "* Name y-axis 'Amount' \n",
    "* Put title  'Scatter Plot\n",
    "\n",
    "</div>"
   ]
  },
  {
   "cell_type": "code",
   "execution_count": 41,
   "id": "63c1b06a",
   "metadata": {},
   "outputs": [
    {
     "data": {
      "text/plain": [
       "Text(0.5, 1.0, 'Scatter Plot')"
      ]
     },
     "execution_count": 41,
     "metadata": {},
     "output_type": "execute_result"
    },
    {
     "data": {
      "image/png": "[encoded data removed]",
      "text/plain": [
       "<Figure size 640x480 with 1 Axes>"
      ]
     },
     "metadata": {},
     "output_type": "display_data"
    }
   ],
   "source": [
    "#solution\n",
    "fig, ax = plt.subplots()\n",
    "\n",
    "ax.scatter(FactInvoices.Quantity, FactInvoices.NetInvoiceAmount)\n",
    "ax.set_xlabel('Quantity')\n",
    "\n",
    "ax.set_ylabel('Amount')\n",
    "ax.set_title('Scatter Plot')"
   ]
  },
  {
   "cell_type": "markdown",
   "id": "7bb37aff",
   "metadata": {},
   "source": [
    "#### Pie chart"
   ]
  },
  {
   "cell_type": "markdown",
   "id": "a2b8b111",
   "metadata": {},
   "source": [
    "A pie chart is a circular graph that is divided into slices to represent the relative sizes of different categories or proportions of a whole. Each slice of the pie chart represents a category, and the size of the slice is proportional to the percentage of the data that belongs to that category.\n",
    "\n",
    "Pie charts are commonly used to show the distribution or composition of a categorical variable, such as the types of fruits in a fruit basket, the percentage of the budget allocated to different departments in an organization, or the proportion of time spent on different activities in a day."
   ]
  },
  {
   "cell_type": "code",
   "execution_count": 5,
   "id": "eb043bec",
   "metadata": {},
   "outputs": [
    {
     "data": {
      "text/html": [
       "<div>\n",
       "<style scoped>\n",
       "    .dataframe tbody tr th:only-of-type {\n",
       "        vertical-align: middle;\n",
       "    }\n",
       "\n",
       "    .dataframe tbody tr th {\n",
       "        vertical-align: top;\n",
       "    }\n",
       "\n",
       "    .dataframe thead th {\n",
       "        text-align: right;\n",
       "    }\n",
       "</style>\n",
       "<table border=\"1\" class=\"dataframe\">\n",
       "  <thead>\n",
       "    <tr style=\"text-align: right;\">\n",
       "      <th></th>\n",
       "      <th>0</th>\n",
       "    </tr>\n",
       "    <tr>\n",
       "      <th>product</th>\n",
       "      <th></th>\n",
       "    </tr>\n",
       "  </thead>\n",
       "  <tbody>\n",
       "    <tr>\n",
       "      <th>chair</th>\n",
       "      <td>2</td>\n",
       "    </tr>\n",
       "    <tr>\n",
       "      <th>mobile phone</th>\n",
       "      <td>2</td>\n",
       "    </tr>\n",
       "    <tr>\n",
       "      <th>table</th>\n",
       "      <td>3</td>\n",
       "    </tr>\n",
       "  </tbody>\n",
       "</table>\n",
       "</div>"
      ],
      "text/plain": [
       "              0\n",
       "product        \n",
       "chair         2\n",
       "mobile phone  2\n",
       "table         3"
      ]
     },
     "execution_count": 5,
     "metadata": {},
     "output_type": "execute_result"
    }
   ],
   "source": [
    "df = pd.DataFrame({\n",
    "    'value':[20.45,22.89,32.12,111.22,33.22,100.00,99.99],\n",
    "    'product':['table','chair','chair','mobile phone','table','mobile phone','table']\n",
    "})\n",
    "\n",
    "\n",
    "data=df.groupby('product').size().to_frame()\n",
    "data"
   ]
  },
  {
   "cell_type": "code",
   "execution_count": 290,
   "id": "fc952295",
   "metadata": {},
   "outputs": [
    {
     "data": {
      "image/png": "[encoded data removed]",
      "text/plain": [
       "<Figure size 640x480 with 1 Axes>"
      ]
     },
     "metadata": {},
     "output_type": "display_data"
    }
   ],
   "source": [
    "fig, ax = plt.subplots()\n",
    "ax.pie(data[0], labels=data.index,autopct='%1.1f%%')\n",
    "plt.show()"
   ]
  },
  {
   "cell_type": "code",
   "execution_count": 6,
   "id": "e9444fb5",
   "metadata": {
    "scrolled": true
   },
   "outputs": [
    {
     "data": {
      "text/plain": [
       "[<matplotlib.lines.Line2D at 0x139bc75b700>]"
      ]
     },
     "execution_count": 6,
     "metadata": {},
     "output_type": "execute_result"
    },
    {
     "data": {
      "image/png": "[encoded data removed]",
      "text/plain": [
       "<Figure size 640x480 with 1 Axes>"
      ]
     },
     "metadata": {},
     "output_type": "display_data"
    }
   ],
   "source": [
    "plt.plot(data)"
   ]
  },
  {
   "cell_type": "markdown",
   "id": "e07f3907",
   "metadata": {},
   "source": [
    "\n",
    "<div class=\"alert alert-success\">\n",
    "\n",
    "**Exercise 13**\n",
    "    \n",
    "<ol> \n",
    "\n",
    "<li>Show with pie chart how many products are sold within each store. Put in percentiles rounded at second decimal place.\n",
    "\n",
    "</div>"
   ]
  },
  {
   "cell_type": "code",
   "execution_count": 49,
   "id": "9cd3b22b",
   "metadata": {},
   "outputs": [
    {
     "data": {
      "image/png": "[encoded data removed]",
      "text/plain": [
       "<Figure size 640x480 with 1 Axes>"
      ]
     },
     "metadata": {},
     "output_type": "display_data"
    }
   ],
   "source": [
    "data=FactInvoices.groupby(['StoreID'])['Quantity'].sum().to_frame()\n",
    "\n",
    "fig, ax = plt.subplots()\n",
    "ax.pie(data['Quantity'], labels=data.index,autopct='%1.2f%%')\n",
    "plt.show()"
   ]
  },
  {
   "cell_type": "markdown",
   "id": "7146b133",
   "metadata": {},
   "source": [
    "#### Line plot"
   ]
  },
  {
   "cell_type": "markdown",
   "id": "21806e42",
   "metadata": {},
   "source": [
    "A line plot, also known as a line chart or line graph, is a type of plot that displays the values of a variable over time or across a range of values. In a line plot, the variable is plotted along the horizontal (x) axis, while the values of the variable are plotted along the vertical (y) axis.\n",
    "\n",
    "Line plots are commonly used to visualize trends and patterns in time series data, such as stock prices, temperature fluctuations, or monthly sales figures. They can also be used to compare the performance of multiple variables over time or across different conditions.\n",
    "\n",
    "Line plots are often preferred over other types of plots, such as bar charts or pie charts, because they provide a clear and continuous representation of the data. They can also be used to show the relationship between two variables, such as the correlation between temperature and sales, by plotting one variable on the x-axis and the other variable on the y-axis."
   ]
  },
  {
   "cell_type": "code",
   "execution_count": 12,
   "id": "bbc5b0c3",
   "metadata": {},
   "outputs": [],
   "source": [
    "speed = [0.1, 17.5, 40, 48, 52, 69, 88]\n",
    "lifespan = [2, 8, 70, 1.5, 25, 12, 28]\n",
    "index = ['snail', 'pig', 'elephant',\n",
    "         'rabbit', 'giraffe', 'coyote', 'horse']\n",
    "df = pd.DataFrame({'speed': speed,\n",
    "                   'lifespan': lifespan}, index=index)\n"
   ]
  },
  {
   "cell_type": "code",
   "execution_count": 15,
   "id": "91e7aac9",
   "metadata": {},
   "outputs": [
    {
     "data": {
      "text/plain": [
       "[<matplotlib.lines.Line2D at 0x139c1094c70>]"
      ]
     },
     "execution_count": 15,
     "metadata": {},
     "output_type": "execute_result"
    },
    {
     "data": {
      "image/png": "[encoded data removed]",
      "text/plain": [
       "<Figure size 640x480 with 1 Axes>"
      ]
     },
     "metadata": {},
     "output_type": "display_data"
    }
   ],
   "source": [
    "plt.plot(df.lifespan, df.speed)\n"
   ]
  },
  {
   "cell_type": "code",
   "execution_count": 17,
   "id": "41586e6b",
   "metadata": {
    "scrolled": true
   },
   "outputs": [
    {
     "data": {
      "text/plain": [
       "[<matplotlib.lines.Line2D at 0x139c0dc4a60>]"
      ]
     },
     "execution_count": 17,
     "metadata": {},
     "output_type": "execute_result"
    },
    {
     "data": {
      "text/plain": [
       "Text(0.5, 0, 'Speed')"
      ]
     },
     "execution_count": 17,
     "metadata": {},
     "output_type": "execute_result"
    },
    {
     "data": {
      "text/plain": [
       "Text(0, 0.5, 'Lifespan')"
      ]
     },
     "execution_count": 17,
     "metadata": {},
     "output_type": "execute_result"
    },
    {
     "data": {
      "text/plain": [
       "Text(0.5, 1.0, 'Lifespan vs speed')"
      ]
     },
     "execution_count": 17,
     "metadata": {},
     "output_type": "execute_result"
    },
    {
     "data": {
      "image/png": "[encoded data removed]",
      "text/plain": [
       "<Figure size 640x480 with 1 Axes>"
      ]
     },
     "metadata": {},
     "output_type": "display_data"
    }
   ],
   "source": [
    "fig, ax = plt.subplots()\n",
    "\n",
    "# Plot the data as a line\n",
    "ax.plot(df.lifespan, df.speed)\n",
    "\n",
    "# Set the x and y axis labels\n",
    "ax.set_xlabel('Speed')\n",
    "ax.set_ylabel('Lifespan')\n",
    "\n",
    "# Set the title of the plot\n",
    "ax.set_title('Lifespan vs speed')\n",
    "\n",
    "# Show the plot\n",
    "plt.show()\n"
   ]
  },
  {
   "cell_type": "markdown",
   "id": "1bd835d7",
   "metadata": {},
   "source": [
    "<div class=\"alert alert-success\">\n",
    "\n",
    "**Exercise 14**\n",
    "    \n",
    "<ol> \n",
    "\n",
    "<li>Usig line plot, show net gain for each day in 2021. Name x and y axis.\n",
    "\n",
    "</div>"
   ]
  },
  {
   "cell_type": "code",
   "execution_count": 54,
   "id": "c43fee9e",
   "metadata": {},
   "outputs": [],
   "source": [
    "data=FactInvoices.groupby('InvoiceDate')['NetInvoiceAmount'].sum().to_frame()\n",
    "data=data[data.index>'2021']\n",
    "data.index=pd.to_datetime(data.index)"
   ]
  },
  {
   "cell_type": "code",
   "execution_count": 65,
   "id": "465064dc",
   "metadata": {},
   "outputs": [
    {
     "data": {
      "image/png": "[encoded data removed]",
      "text/plain": [
       "<Figure size 640x480 with 1 Axes>"
      ]
     },
     "metadata": {},
     "output_type": "display_data"
    }
   ],
   "source": [
    "fig, ax = plt.subplots()\n",
    "\n",
    "# Plot the data as a line\n",
    "ax.plot(data.index, data.NetInvoiceAmount)\n",
    "\n",
    "# Set the x and y axis labels\n",
    "ax.set_xlabel('time')\n",
    "ax.set_ylabel('Net amount')\n",
    "\n",
    "# Show the plot\n",
    "plt.show()\n"
   ]
  },
  {
   "cell_type": "markdown",
   "id": "9e30bd61",
   "metadata": {},
   "source": [
    "#### Histogram"
   ]
  },
  {
   "cell_type": "markdown",
   "id": "bbb1613b",
   "metadata": {},
   "source": [
    " A histogram is a type of bar chart that shows the distribution of a set of continuous data. It divides the data into a set of bins or intervals and then plots a bar for each bin, where the height of the bar represents the frequency or count of data points falling within that bin."
   ]
  },
  {
   "cell_type": "markdown",
   "id": "ec5d22cc",
   "metadata": {},
   "source": [
    "You can also customize the appearance of the histogram by specifying additional arguments to the plt.hist function. Some commonly used arguments include:\n",
    "\n",
    "* color: to set the color of the bars\n",
    "* edgecolor: to set the color of the edges of the bars\n",
    "* alpha: to set the transparency of the bars\n",
    "* histtype: to specify the type of histogram (e.g., 'bar', 'step', 'stepfilled')\n",
    "* density: to normalize the histogram such that the area under the curve is equal to 1\n",
    "* cumulative: to plot a cumulative histogram instead of a frequency histogram"
   ]
  },
  {
   "cell_type": "code",
   "execution_count": 21,
   "id": "b6b582a8",
   "metadata": {},
   "outputs": [
    {
     "data": {
      "text/plain": [
       "Text(0.5, 1.0, 'Histogram of lifespan')"
      ]
     },
     "execution_count": 21,
     "metadata": {},
     "output_type": "execute_result"
    },
    {
     "data": {
      "text/plain": [
       "Text(0.5, 0, 'Value')"
      ]
     },
     "execution_count": 21,
     "metadata": {},
     "output_type": "execute_result"
    },
    {
     "data": {
      "text/plain": [
       "Text(0, 0.5, 'Frequency')"
      ]
     },
     "execution_count": 21,
     "metadata": {},
     "output_type": "execute_result"
    },
    {
     "data": {
      "image/png": "[encoded data removed]",
      "text/plain": [
       "<Figure size 640x480 with 1 Axes>"
      ]
     },
     "metadata": {},
     "output_type": "display_data"
    }
   ],
   "source": [
    "ax=plt.hist(df.lifespan)\n",
    "plt.title('Histogram of lifespan')\n",
    "plt.xlabel('Value')\n",
    "plt.ylabel('Frequency')\n",
    "\n",
    "# Show the plot\n",
    "plt.show()"
   ]
  },
  {
   "cell_type": "code",
   "execution_count": 23,
   "id": "bc2cf75e",
   "metadata": {
    "scrolled": false
   },
   "outputs": [
    {
     "data": {
      "text/plain": [
       "Text(0.5, 1.0, 'Histogram of Random Data')"
      ]
     },
     "execution_count": 23,
     "metadata": {},
     "output_type": "execute_result"
    },
    {
     "data": {
      "text/plain": [
       "Text(0.5, 0, 'Value')"
      ]
     },
     "execution_count": 23,
     "metadata": {},
     "output_type": "execute_result"
    },
    {
     "data": {
      "text/plain": [
       "Text(0, 0.5, 'Frequency')"
      ]
     },
     "execution_count": 23,
     "metadata": {},
     "output_type": "execute_result"
    },
    {
     "data": {
      "image/png": "[encoded data removed]",
      "text/plain": [
       "<Figure size 640x480 with 1 Axes>"
      ]
     },
     "metadata": {},
     "output_type": "display_data"
    }
   ],
   "source": [
    "data = np.random.normal(size=1000)\n",
    "ax=plt.hist(data, bins=30)\n",
    "\n",
    "# Set the title and axis labels\n",
    "plt.title('Histogram of Random Data')\n",
    "plt.xlabel('Value')\n",
    "plt.ylabel('Frequency')\n",
    "\n",
    "# Show the plot\n",
    "plt.show()"
   ]
  },
  {
   "cell_type": "markdown",
   "id": "0dc547ad",
   "metadata": {},
   "source": [
    "<div class=\"alert alert-success\">\n",
    "\n",
    "**Exercise 15**\n",
    "    \n",
    "<ol> \n",
    "\n",
    "<li>Show freqeuncy histogram of net amount per day in 2021 so that:\n",
    "    \n",
    "  *  edgecolor and color are not the same\n",
    "  *  bars are transperant for 40%\n",
    "\n",
    "</div>"
   ]
  },
  {
   "cell_type": "code",
   "execution_count": 82,
   "id": "badada7b",
   "metadata": {},
   "outputs": [
    {
     "data": {
      "image/png": "[encoded data removed]",
      "text/plain": [
       "<Figure size 640x480 with 1 Axes>"
      ]
     },
     "metadata": {},
     "output_type": "display_data"
    }
   ],
   "source": [
    "ax=plt.hist(data.NetInvoiceAmount, color='yellow', edgecolor='blue',alpha=0.6, histtype='bar' )\n",
    "plt.title('Histogram of NetInvoiceAmount')\n",
    "plt.xlabel('Value')\n",
    "plt.ylabel('Frequency')\n",
    "\n",
    "# Show the plot\n",
    "plt.show()"
   ]
  },
  {
   "cell_type": "markdown",
   "id": "d282e676",
   "metadata": {},
   "source": [
    "##### Histogram with density"
   ]
  },
  {
   "cell_type": "code",
   "execution_count": 25,
   "id": "435fcbc2",
   "metadata": {
    "scrolled": true
   },
   "outputs": [
    {
     "data": {
      "text/plain": [
       "[<matplotlib.lines.Line2D at 0x139c103b1f0>]"
      ]
     },
     "execution_count": 25,
     "metadata": {},
     "output_type": "execute_result"
    },
    {
     "data": {
      "text/plain": [
       "Text(0.5, 1.0, 'Histogram with Density Curve')"
      ]
     },
     "execution_count": 25,
     "metadata": {},
     "output_type": "execute_result"
    },
    {
     "data": {
      "text/plain": [
       "Text(0.5, 0, 'Value')"
      ]
     },
     "execution_count": 25,
     "metadata": {},
     "output_type": "execute_result"
    },
    {
     "data": {
      "text/plain": [
       "Text(0, 0.5, 'Density')"
      ]
     },
     "execution_count": 25,
     "metadata": {},
     "output_type": "execute_result"
    },
    {
     "data": {
      "image/png": "[encoded data removed]",
      "text/plain": [
       "<Figure size 640x480 with 1 Axes>"
      ]
     },
     "metadata": {},
     "output_type": "display_data"
    }
   ],
   "source": [
    "from scipy.stats import norm\n",
    "\n",
    "# Generate some random data\n",
    "data = np.random.normal(size=1000)\n",
    "\n",
    "# Plot a histogram of the data\n",
    "n, bins, patches = plt.hist(data, bins=30, density=True) \n",
    "#function to normalize the histogram such that the area under the curve is equal to 1\n",
    "\n",
    "# Plot a density curve over the histogram\n",
    "mu, sigma = norm.fit(data) #estimate the mean and standard deviation of the data\n",
    "y = norm.pdf(bins, mu, sigma) #function to compute the probability density function of the normal distribution with the estimated mean and standard deviation,\n",
    "plt.plot(bins, y, 'r--')\n",
    "\n",
    "# Set the title and axis labels\n",
    "plt.title('Histogram with Density Curve')\n",
    "plt.xlabel('Value')\n",
    "plt.ylabel('Density')\n",
    "\n",
    "# Show the plot\n",
    "plt.show()"
   ]
  },
  {
   "cell_type": "code",
   "execution_count": null,
   "id": "02c68f37",
   "metadata": {},
   "outputs": [],
   "source": []
  }
 ],
 "metadata": {
  "kernelspec": {
   "display_name": "Python 3 (ipykernel)",
   "language": "python",
   "name": "python3"
  },
  "language_info": {
   "codemirror_mode": {
    "name": "ipython",
    "version": 3
   },
   "file_extension": ".py",
   "mimetype": "text/x-python",
   "name": "python",
   "nbconvert_exporter": "python",
   "pygments_lexer": "ipython3",
   "version": "3.9.16"
  },
  "toc": {
   "base_numbering": 1,
   "nav_menu": {},
   "number_sections": true,
   "sideBar": true,
   "skip_h1_title": true,
   "title_cell": "Table of Contents",
   "title_sidebar": "Contents",
   "toc_cell": false,
   "toc_position": {
    "height": "calc(100% - 180px)",
    "left": "10px",
    "top": "150px",
    "width": "255.995px"
   },
   "toc_section_display": true,
   "toc_window_display": true
  }
 },
 "nbformat": 4,
 "nbformat_minor": 5
}
