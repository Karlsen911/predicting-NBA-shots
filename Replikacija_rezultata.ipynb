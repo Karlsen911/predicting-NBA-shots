{
 "cells": [
  {
   "cell_type": "code",
   "execution_count": 1,
   "id": "YBmkNp5xzwQL",
   "metadata": {
    "colab": {
     "base_uri": "https://localhost:8080/",
     "height": 74
    },
    "executionInfo": {
     "elapsed": 52822,
     "status": "ok",
     "timestamp": 1671216273671,
     "user": {
      "displayName": "Karlo Kada",
      "userId": "01507866433432126286"
     },
     "user_tz": -60
    },
    "id": "YBmkNp5xzwQL",
    "outputId": "72ee2845-42b6-4449-b59f-661206adf82e"
   },
   "outputs": [
    {
     "data": {
      "text/html": [
       "\n",
       "     <input type=\"file\" id=\"files-440d30a5-77ea-4a2b-b870-9ee2d2b49e2b\" name=\"files[]\" multiple disabled\n",
       "        style=\"border:none\" />\n",
       "     <output id=\"result-440d30a5-77ea-4a2b-b870-9ee2d2b49e2b\">\n",
       "      Upload widget is only available when the cell has been executed in the\n",
       "      current browser session. Please rerun this cell to enable.\n",
       "      </output>\n",
       "      <script>// Copyright 2017 Google LLC\n",
       "//\n",
       "// Licensed under the Apache License, Version 2.0 (the \"License\");\n",
       "// you may not use this file except in compliance with the License.\n",
       "// You may obtain a copy of the License at\n",
       "//\n",
       "//      http://www.apache.org/licenses/LICENSE-2.0\n",
       "//\n",
       "// Unless required by applicable law or agreed to in writing, software\n",
       "// distributed under the License is distributed on an \"AS IS\" BASIS,\n",
       "// WITHOUT WARRANTIES OR CONDITIONS OF ANY KIND, either express or implied.\n",
       "// See the License for the specific language governing permissions and\n",
       "// limitations under the License.\n",
       "\n",
       "/**\n",
       " * @fileoverview Helpers for google.colab Python module.\n",
       " */\n",
       "(function(scope) {\n",
       "function span(text, styleAttributes = {}) {\n",
       "  const element = document.createElement('span');\n",
       "  element.textContent = text;\n",
       "  for (const key of Object.keys(styleAttributes)) {\n",
       "    element.style[key] = styleAttributes[key];\n",
       "  }\n",
       "  return element;\n",
       "}\n",
       "\n",
       "// Max number of bytes which will be uploaded at a time.\n",
       "const MAX_PAYLOAD_SIZE = 100 * 1024;\n",
       "\n",
       "function _uploadFiles(inputId, outputId) {\n",
       "  const steps = uploadFilesStep(inputId, outputId);\n",
       "  const outputElement = document.getElementById(outputId);\n",
       "  // Cache steps on the outputElement to make it available for the next call\n",
       "  // to uploadFilesContinue from Python.\n",
       "  outputElement.steps = steps;\n",
       "\n",
       "  return _uploadFilesContinue(outputId);\n",
       "}\n",
       "\n",
       "// This is roughly an async generator (not supported in the browser yet),\n",
       "// where there are multiple asynchronous steps and the Python side is going\n",
       "// to poll for completion of each step.\n",
       "// This uses a Promise to block the python side on completion of each step,\n",
       "// then passes the result of the previous step as the input to the next step.\n",
       "function _uploadFilesContinue(outputId) {\n",
       "  const outputElement = document.getElementById(outputId);\n",
       "  const steps = outputElement.steps;\n",
       "\n",
       "  const next = steps.next(outputElement.lastPromiseValue);\n",
       "  return Promise.resolve(next.value.promise).then((value) => {\n",
       "    // Cache the last promise value to make it available to the next\n",
       "    // step of the generator.\n",
       "    outputElement.lastPromiseValue = value;\n",
       "    return next.value.response;\n",
       "  });\n",
       "}\n",
       "\n",
       "/**\n",
       " * Generator function which is called between each async step of the upload\n",
       " * process.\n",
       " * @param {string} inputId Element ID of the input file picker element.\n",
       " * @param {string} outputId Element ID of the output display.\n",
       " * @return {!Iterable<!Object>} Iterable of next steps.\n",
       " */\n",
       "function* uploadFilesStep(inputId, outputId) {\n",
       "  const inputElement = document.getElementById(inputId);\n",
       "  inputElement.disabled = false;\n",
       "\n",
       "  const outputElement = document.getElementById(outputId);\n",
       "  outputElement.innerHTML = '';\n",
       "\n",
       "  const pickedPromise = new Promise((resolve) => {\n",
       "    inputElement.addEventListener('change', (e) => {\n",
       "      resolve(e.target.files);\n",
       "    });\n",
       "  });\n",
       "\n",
       "  const cancel = document.createElement('button');\n",
       "  inputElement.parentElement.appendChild(cancel);\n",
       "  cancel.textContent = 'Cancel upload';\n",
       "  const cancelPromise = new Promise((resolve) => {\n",
       "    cancel.onclick = () => {\n",
       "      resolve(null);\n",
       "    };\n",
       "  });\n",
       "\n",
       "  // Wait for the user to pick the files.\n",
       "  const files = yield {\n",
       "    promise: Promise.race([pickedPromise, cancelPromise]),\n",
       "    response: {\n",
       "      action: 'starting',\n",
       "    }\n",
       "  };\n",
       "\n",
       "  cancel.remove();\n",
       "\n",
       "  // Disable the input element since further picks are not allowed.\n",
       "  inputElement.disabled = true;\n",
       "\n",
       "  if (!files) {\n",
       "    return {\n",
       "      response: {\n",
       "        action: 'complete',\n",
       "      }\n",
       "    };\n",
       "  }\n",
       "\n",
       "  for (const file of files) {\n",
       "    const li = document.createElement('li');\n",
       "    li.append(span(file.name, {fontWeight: 'bold'}));\n",
       "    li.append(span(\n",
       "        `(${file.type || 'n/a'}) - ${file.size} bytes, ` +\n",
       "        `last modified: ${\n",
       "            file.lastModifiedDate ? file.lastModifiedDate.toLocaleDateString() :\n",
       "                                    'n/a'} - `));\n",
       "    const percent = span('0% done');\n",
       "    li.appendChild(percent);\n",
       "\n",
       "    outputElement.appendChild(li);\n",
       "\n",
       "    const fileDataPromise = new Promise((resolve) => {\n",
       "      const reader = new FileReader();\n",
       "      reader.onload = (e) => {\n",
       "        resolve(e.target.result);\n",
       "      };\n",
       "      reader.readAsArrayBuffer(file);\n",
       "    });\n",
       "    // Wait for the data to be ready.\n",
       "    let fileData = yield {\n",
       "      promise: fileDataPromise,\n",
       "      response: {\n",
       "        action: 'continue',\n",
       "      }\n",
       "    };\n",
       "\n",
       "    // Use a chunked sending to avoid message size limits. See b/62115660.\n",
       "    let position = 0;\n",
       "    do {\n",
       "      const length = Math.min(fileData.byteLength - position, MAX_PAYLOAD_SIZE);\n",
       "      const chunk = new Uint8Array(fileData, position, length);\n",
       "      position += length;\n",
       "\n",
       "      const base64 = btoa(String.fromCharCode.apply(null, chunk));\n",
       "      yield {\n",
       "        response: {\n",
       "          action: 'append',\n",
       "          file: file.name,\n",
       "          data: base64,\n",
       "        },\n",
       "      };\n",
       "\n",
       "      let percentDone = fileData.byteLength === 0 ?\n",
       "          100 :\n",
       "          Math.round((position / fileData.byteLength) * 100);\n",
       "      percent.textContent = `${percentDone}% done`;\n",
       "\n",
       "    } while (position < fileData.byteLength);\n",
       "  }\n",
       "\n",
       "  // All done.\n",
       "  yield {\n",
       "    response: {\n",
       "      action: 'complete',\n",
       "    }\n",
       "  };\n",
       "}\n",
       "\n",
       "scope.google = scope.google || {};\n",
       "scope.google.colab = scope.google.colab || {};\n",
       "scope.google.colab._files = {\n",
       "  _uploadFiles,\n",
       "  _uploadFilesContinue,\n",
       "};\n",
       "})(self);\n",
       "</script> "
      ],
      "text/plain": [
       "<IPython.core.display.HTML object>"
      ]
     },
     "metadata": {},
     "output_type": "display_data"
    },
    {
     "name": "stdout",
     "output_type": "stream",
     "text": [
      "Saving obe.csv to obe.csv\n"
     ]
    }
   ],
   "source": [
    "from google.colab import files\n",
    "uploaded = files.upload()"
   ]
  },
  {
   "cell_type": "markdown",
   "id": "DCWcEXxcf80F",
   "metadata": {
    "id": "DCWcEXxcf80F"
   },
   "source": [
    "# New section"
   ]
  },
  {
   "cell_type": "code",
   "execution_count": 42,
   "id": "dfd20a33",
   "metadata": {
    "executionInfo": {
     "elapsed": 1007,
     "status": "ok",
     "timestamp": 1671223224110,
     "user": {
      "displayName": "Karlo Kada",
      "userId": "01507866433432126286"
     },
     "user_tz": -60
    },
    "id": "dfd20a33"
   },
   "outputs": [],
   "source": [
    "import io\n",
    "import pandas as pd\n",
    "import numpy as np\n",
    "import matplotlib.pyplot as plt\n",
    "import seaborn as sns\n",
    "import tensorflow as tf\n",
    "import xgboost as xgb\n",
    "from tensorflow import keras\n",
    "\n",
    "from sklearn.linear_model import LogisticRegression\n",
    "from sklearn.ensemble import BaggingClassifier, RandomForestClassifier, GradientBoostingClassifier\n",
    "from tensorflow import keras\n",
    "from keras import Sequential\n",
    "from keras import layers\n",
    "from keras.regularizers import L2\n",
    "from keras.optimizers import SGD\n",
    "from sklearn.metrics import classification_report, confusion_matrix, matthews_corrcoef, roc_curve, auc, roc_auc_score, accuracy_score\n",
    "from sklearn.preprocessing import StandardScaler, MinMaxScaler\n",
    "from sklearn.model_selection import train_test_split, GridSearchCV\n",
    "from sklearn.svm import SVC\n",
    "from sklearn.neural_network import MLPClassifier\n",
    "from sklearn.naive_bayes import MultinomialNB"
   ]
  },
  {
   "cell_type": "markdown",
   "id": "Cm-0Sw5KzTir",
   "metadata": {
    "id": "Cm-0Sw5KzTir"
   },
   "source": [
    "# New section"
   ]
  },
  {
   "cell_type": "code",
   "execution_count": 3,
   "id": "d1cc3678",
   "metadata": {
    "executionInfo": {
     "elapsed": 364,
     "status": "ok",
     "timestamp": 1671216285707,
     "user": {
      "displayName": "Karlo Kada",
      "userId": "01507866433432126286"
     },
     "user_tz": -60
    },
    "id": "d1cc3678",
    "scrolled": false
   },
   "outputs": [],
   "source": [
    "data = pd.read_csv(io.BytesIO(uploaded['obe.csv']))"
   ]
  },
  {
   "cell_type": "code",
   "execution_count": 4,
   "id": "e5247911",
   "metadata": {
    "colab": {
     "base_uri": "https://localhost:8080/",
     "height": 363
    },
    "executionInfo": {
     "elapsed": 250,
     "status": "ok",
     "timestamp": 1671216287904,
     "user": {
      "displayName": "Karlo Kada",
      "userId": "01507866433432126286"
     },
     "user_tz": -60
    },
    "id": "e5247911",
    "outputId": "0d58a4e6-c2b0-4474-d69d-f01d78cd6c08"
   },
   "outputs": [
    {
     "data": {
      "text/html": [
       "\n",
       "  <div id=\"df-44386ad8-b15e-43ba-979f-67997796a852\">\n",
       "    <div class=\"colab-df-container\">\n",
       "      <div>\n",
       "<style scoped>\n",
       "    .dataframe tbody tr th:only-of-type {\n",
       "        vertical-align: middle;\n",
       "    }\n",
       "\n",
       "    .dataframe tbody tr th {\n",
       "        vertical-align: top;\n",
       "    }\n",
       "\n",
       "    .dataframe thead th {\n",
       "        text-align: right;\n",
       "    }\n",
       "</style>\n",
       "<table border=\"1\" class=\"dataframe\">\n",
       "  <thead>\n",
       "    <tr style=\"text-align: right;\">\n",
       "      <th></th>\n",
       "      <th>LOCATION</th>\n",
       "      <th>W</th>\n",
       "      <th>FINAL_MARGIN</th>\n",
       "      <th>SHOT_NUMBER</th>\n",
       "      <th>SHOT_CLOCK</th>\n",
       "      <th>DRIBBLES</th>\n",
       "      <th>TOUCH_TIME</th>\n",
       "      <th>SHOT_DIST</th>\n",
       "      <th>PTS_TYPE</th>\n",
       "      <th>SHOT_RESULT</th>\n",
       "      <th>CLOSE_DEF_DIST</th>\n",
       "      <th>TOTAL_GAME_TIME</th>\n",
       "    </tr>\n",
       "  </thead>\n",
       "  <tbody>\n",
       "    <tr>\n",
       "      <th>0</th>\n",
       "      <td>0</td>\n",
       "      <td>1</td>\n",
       "      <td>24</td>\n",
       "      <td>1</td>\n",
       "      <td>10.8</td>\n",
       "      <td>2</td>\n",
       "      <td>1.9</td>\n",
       "      <td>7.7</td>\n",
       "      <td>2</td>\n",
       "      <td>1</td>\n",
       "      <td>1.3</td>\n",
       "      <td>69</td>\n",
       "    </tr>\n",
       "    <tr>\n",
       "      <th>1</th>\n",
       "      <td>0</td>\n",
       "      <td>1</td>\n",
       "      <td>24</td>\n",
       "      <td>2</td>\n",
       "      <td>3.4</td>\n",
       "      <td>0</td>\n",
       "      <td>0.8</td>\n",
       "      <td>28.2</td>\n",
       "      <td>3</td>\n",
       "      <td>0</td>\n",
       "      <td>6.1</td>\n",
       "      <td>14</td>\n",
       "    </tr>\n",
       "    <tr>\n",
       "      <th>2</th>\n",
       "      <td>0</td>\n",
       "      <td>1</td>\n",
       "      <td>24</td>\n",
       "      <td>3</td>\n",
       "      <td>0.0</td>\n",
       "      <td>3</td>\n",
       "      <td>2.7</td>\n",
       "      <td>10.1</td>\n",
       "      <td>2</td>\n",
       "      <td>0</td>\n",
       "      <td>0.9</td>\n",
       "      <td>0</td>\n",
       "    </tr>\n",
       "    <tr>\n",
       "      <th>3</th>\n",
       "      <td>0</td>\n",
       "      <td>1</td>\n",
       "      <td>24</td>\n",
       "      <td>4</td>\n",
       "      <td>10.3</td>\n",
       "      <td>2</td>\n",
       "      <td>1.9</td>\n",
       "      <td>17.2</td>\n",
       "      <td>2</td>\n",
       "      <td>0</td>\n",
       "      <td>3.4</td>\n",
       "      <td>1414</td>\n",
       "    </tr>\n",
       "    <tr>\n",
       "      <th>4</th>\n",
       "      <td>0</td>\n",
       "      <td>1</td>\n",
       "      <td>24</td>\n",
       "      <td>5</td>\n",
       "      <td>10.9</td>\n",
       "      <td>2</td>\n",
       "      <td>2.7</td>\n",
       "      <td>3.7</td>\n",
       "      <td>2</td>\n",
       "      <td>0</td>\n",
       "      <td>1.1</td>\n",
       "      <td>1268</td>\n",
       "    </tr>\n",
       "    <tr>\n",
       "      <th>5</th>\n",
       "      <td>0</td>\n",
       "      <td>1</td>\n",
       "      <td>24</td>\n",
       "      <td>6</td>\n",
       "      <td>9.1</td>\n",
       "      <td>2</td>\n",
       "      <td>4.4</td>\n",
       "      <td>18.4</td>\n",
       "      <td>2</td>\n",
       "      <td>0</td>\n",
       "      <td>2.6</td>\n",
       "      <td>990</td>\n",
       "    </tr>\n",
       "    <tr>\n",
       "      <th>6</th>\n",
       "      <td>0</td>\n",
       "      <td>1</td>\n",
       "      <td>24</td>\n",
       "      <td>7</td>\n",
       "      <td>14.5</td>\n",
       "      <td>11</td>\n",
       "      <td>9.0</td>\n",
       "      <td>20.7</td>\n",
       "      <td>2</td>\n",
       "      <td>0</td>\n",
       "      <td>6.1</td>\n",
       "      <td>2460</td>\n",
       "    </tr>\n",
       "    <tr>\n",
       "      <th>7</th>\n",
       "      <td>0</td>\n",
       "      <td>1</td>\n",
       "      <td>24</td>\n",
       "      <td>8</td>\n",
       "      <td>3.4</td>\n",
       "      <td>3</td>\n",
       "      <td>2.5</td>\n",
       "      <td>3.5</td>\n",
       "      <td>2</td>\n",
       "      <td>1</td>\n",
       "      <td>2.1</td>\n",
       "      <td>1920</td>\n",
       "    </tr>\n",
       "    <tr>\n",
       "      <th>8</th>\n",
       "      <td>0</td>\n",
       "      <td>1</td>\n",
       "      <td>24</td>\n",
       "      <td>9</td>\n",
       "      <td>12.4</td>\n",
       "      <td>0</td>\n",
       "      <td>0.8</td>\n",
       "      <td>24.6</td>\n",
       "      <td>3</td>\n",
       "      <td>0</td>\n",
       "      <td>7.3</td>\n",
       "      <td>1256</td>\n",
       "    </tr>\n",
       "    <tr>\n",
       "      <th>9</th>\n",
       "      <td>1</td>\n",
       "      <td>1</td>\n",
       "      <td>1</td>\n",
       "      <td>1</td>\n",
       "      <td>17.4</td>\n",
       "      <td>0</td>\n",
       "      <td>1.1</td>\n",
       "      <td>22.4</td>\n",
       "      <td>3</td>\n",
       "      <td>0</td>\n",
       "      <td>19.8</td>\n",
       "      <td>1384</td>\n",
       "    </tr>\n",
       "  </tbody>\n",
       "</table>\n",
       "</div>\n",
       "      <button class=\"colab-df-convert\" onclick=\"convertToInteractive('df-44386ad8-b15e-43ba-979f-67997796a852')\"\n",
       "              title=\"Convert this dataframe to an interactive table.\"\n",
       "              style=\"display:none;\">\n",
       "        \n",
       "  <svg xmlns=\"http://www.w3.org/2000/svg\" height=\"24px\"viewBox=\"0 0 24 24\"\n",
       "       width=\"24px\">\n",
       "    <path d=\"M0 0h24v24H0V0z\" fill=\"none\"/>\n",
       "    <path d=\"M18.56 5.44l.94 2.06.94-2.06 2.06-.94-2.06-.94-.94-2.06-.94 2.06-2.06.94zm-11 1L8.5 8.5l.94-2.06 2.06-.94-2.06-.94L8.5 2.5l-.94 2.06-2.06.94zm10 10l.94 2.06.94-2.06 2.06-.94-2.06-.94-.94-2.06-.94 2.06-2.06.94z\"/><path d=\"M17.41 7.96l-1.37-1.37c-.4-.4-.92-.59-1.43-.59-.52 0-1.04.2-1.43.59L10.3 9.45l-7.72 7.72c-.78.78-.78 2.05 0 2.83L4 21.41c.39.39.9.59 1.41.59.51 0 1.02-.2 1.41-.59l7.78-7.78 2.81-2.81c.8-.78.8-2.07 0-2.86zM5.41 20L4 18.59l7.72-7.72 1.47 1.35L5.41 20z\"/>\n",
       "  </svg>\n",
       "      </button>\n",
       "      \n",
       "  <style>\n",
       "    .colab-df-container {\n",
       "      display:flex;\n",
       "      flex-wrap:wrap;\n",
       "      gap: 12px;\n",
       "    }\n",
       "\n",
       "    .colab-df-convert {\n",
       "      background-color: #E8F0FE;\n",
       "      border: none;\n",
       "      border-radius: 50%;\n",
       "      cursor: pointer;\n",
       "      display: none;\n",
       "      fill: #1967D2;\n",
       "      height: 32px;\n",
       "      padding: 0 0 0 0;\n",
       "      width: 32px;\n",
       "    }\n",
       "\n",
       "    .colab-df-convert:hover {\n",
       "      background-color: #E2EBFA;\n",
       "      box-shadow: 0px 1px 2px rgba(60, 64, 67, 0.3), 0px 1px 3px 1px rgba(60, 64, 67, 0.15);\n",
       "      fill: #174EA6;\n",
       "    }\n",
       "\n",
       "    [theme=dark] .colab-df-convert {\n",
       "      background-color: #3B4455;\n",
       "      fill: #D2E3FC;\n",
       "    }\n",
       "\n",
       "    [theme=dark] .colab-df-convert:hover {\n",
       "      background-color: #434B5C;\n",
       "      box-shadow: 0px 1px 3px 1px rgba(0, 0, 0, 0.15);\n",
       "      filter: drop-shadow(0px 1px 2px rgba(0, 0, 0, 0.3));\n",
       "      fill: #FFFFFF;\n",
       "    }\n",
       "  </style>\n",
       "\n",
       "      <script>\n",
       "        const buttonEl =\n",
       "          document.querySelector('#df-44386ad8-b15e-43ba-979f-67997796a852 button.colab-df-convert');\n",
       "        buttonEl.style.display =\n",
       "          google.colab.kernel.accessAllowed ? 'block' : 'none';\n",
       "\n",
       "        async function convertToInteractive(key) {\n",
       "          const element = document.querySelector('#df-44386ad8-b15e-43ba-979f-67997796a852');\n",
       "          const dataTable =\n",
       "            await google.colab.kernel.invokeFunction('convertToInteractive',\n",
       "                                                     [key], {});\n",
       "          if (!dataTable) return;\n",
       "\n",
       "          const docLinkHtml = 'Like what you see? Visit the ' +\n",
       "            '<a target=\"_blank\" href=https://colab.research.google.com/notebooks/data_table.ipynb>data table notebook</a>'\n",
       "            + ' to learn more about interactive tables.';\n",
       "          element.innerHTML = '';\n",
       "          dataTable['output_type'] = 'display_data';\n",
       "          await google.colab.output.renderOutput(dataTable, element);\n",
       "          const docLink = document.createElement('div');\n",
       "          docLink.innerHTML = docLinkHtml;\n",
       "          element.appendChild(docLink);\n",
       "        }\n",
       "      </script>\n",
       "    </div>\n",
       "  </div>\n",
       "  "
      ],
      "text/plain": [
       "   LOCATION  W  FINAL_MARGIN  SHOT_NUMBER  SHOT_CLOCK  DRIBBLES  TOUCH_TIME  \\\n",
       "0         0  1            24            1        10.8         2         1.9   \n",
       "1         0  1            24            2         3.4         0         0.8   \n",
       "2         0  1            24            3         0.0         3         2.7   \n",
       "3         0  1            24            4        10.3         2         1.9   \n",
       "4         0  1            24            5        10.9         2         2.7   \n",
       "5         0  1            24            6         9.1         2         4.4   \n",
       "6         0  1            24            7        14.5        11         9.0   \n",
       "7         0  1            24            8         3.4         3         2.5   \n",
       "8         0  1            24            9        12.4         0         0.8   \n",
       "9         1  1             1            1        17.4         0         1.1   \n",
       "\n",
       "   SHOT_DIST  PTS_TYPE  SHOT_RESULT  CLOSE_DEF_DIST  TOTAL_GAME_TIME  \n",
       "0        7.7         2            1             1.3               69  \n",
       "1       28.2         3            0             6.1               14  \n",
       "2       10.1         2            0             0.9                0  \n",
       "3       17.2         2            0             3.4             1414  \n",
       "4        3.7         2            0             1.1             1268  \n",
       "5       18.4         2            0             2.6              990  \n",
       "6       20.7         2            0             6.1             2460  \n",
       "7        3.5         2            1             2.1             1920  \n",
       "8       24.6         3            0             7.3             1256  \n",
       "9       22.4         3            0            19.8             1384  "
      ]
     },
     "execution_count": 4,
     "metadata": {},
     "output_type": "execute_result"
    }
   ],
   "source": [
    "data.head(10)"
   ]
  },
  {
   "cell_type": "code",
   "execution_count": 32,
   "id": "bc11048d",
   "metadata": {
    "executionInfo": {
     "elapsed": 249,
     "status": "ok",
     "timestamp": 1671222790389,
     "user": {
      "displayName": "Karlo Kada",
      "userId": "01507866433432126286"
     },
     "user_tz": -60
    },
    "id": "bc11048d"
   },
   "outputs": [],
   "source": [
    "X = data.iloc[:, data.columns != \"SHOT_RESULT\"].values\n",
    "y = data[\"SHOT_RESULT\"].values\n",
    "# y = data[.iloc[:,11].]values\n",
    "\n",
    "stand_scaler = StandardScaler()\n",
    "X_scaled = stand_scaler.fit_transform(X)\n",
    "\n",
    "X_train, X_test, y_train, y_test = train_test_split(X_scaled, y, train_size = 0.95)"
   ]
  },
  {
   "cell_type": "code",
   "execution_count": 25,
   "id": "2b973a2a",
   "metadata": {
    "colab": {
     "base_uri": "https://localhost:8080/",
     "height": 647
    },
    "executionInfo": {
     "elapsed": 61159,
     "status": "ok",
     "timestamp": 1671220545604,
     "user": {
      "displayName": "Karlo Kada",
      "userId": "01507866433432126286"
     },
     "user_tz": -60
    },
    "id": "2b973a2a",
    "outputId": "e98d0afd-d33e-4881-eba9-61fac630e8e9"
   },
   "outputs": [
    {
     "name": "stdout",
     "output_type": "stream",
     "text": [
      "Fitting 5 folds for each of 24 candidates, totalling 120 fits\n",
      "Classification report:\n",
      "               precision    recall  f1-score   support\n",
      "\n",
      "           0       0.61      0.76      0.68      3460\n",
      "           1       0.60      0.43      0.50      2928\n",
      "\n",
      "    accuracy                           0.61      6388\n",
      "   macro avg       0.61      0.60      0.59      6388\n",
      "weighted avg       0.61      0.61      0.60      6388\n",
      "\n",
      "Matthews correlation coefficient:\n",
      " 0.20358116602781015\n",
      "{'C': 0.0001, 'solver': 'lbfgs', 'tol': 0.0001}\n"
     ]
    },
    {
     "data": {
      "image/png": "[encoded data removed]",
      "text/plain": [
       "<Figure size 1080x432 with 3 Axes>"
      ]
     },
     "metadata": {
      "needs_background": "light"
     },
     "output_type": "display_data"
    }
   ],
   "source": [
    "parameters_for_testing = {\n",
    "    \"C\": [0.0001, 0.001, 0.01, 0.1],\n",
    "    \"tol\": [0.0001, 0.001, 0.01],\n",
    "    \"solver\": [\"lbfgs\", \"sag\"],\n",
    "}\n",
    "\n",
    "lr_opt = LogisticRegression()\n",
    "\n",
    "gsearch_opt = GridSearchCV(\n",
    "    estimator = lr_opt,\n",
    "    param_grid = parameters_for_testing,\n",
    "    scoring = \"accuracy\",\n",
    "    verbose = 1,\n",
    ")\n",
    "\n",
    "gsearch_opt.fit(X_train, y_train)\n",
    "\n",
    "lr_prediction = gsearch_opt.predict(X_test)\n",
    "lr_cm = confusion_matrix(y_test, lr_prediction)\n",
    "\n",
    "lr_fpr, lr_tpr, lr_thr = roc_curve(y_test, gsearch_opt.predict_proba(X_test)[::,1])\n",
    "lr_auc = auc(lr_fpr, lr_tpr)\n",
    "\n",
    "plt.figure(figsize = (15, 6))\n",
    "\n",
    "ax = plt.subplot(1, 2, 1)\n",
    "sns.heatmap(lr_cm, annot=True, fmt='g', ax=ax)\n",
    "\n",
    "ax.set_xlabel('Predicted labels')\n",
    "ax.set_ylabel('True labels') \n",
    "ax.set_title('LogReg Confusion Matrix')\n",
    "\n",
    "plt.subplot(1,2,2, title = \"ROC krivulja\")\n",
    "plt.plot(lr_fpr, lr_tpr, linestyle = \"-\", label = \"LogReg (auc) = %0.3f\" % lr_auc)\n",
    "plt.legend()\n",
    "\n",
    "print(\"Classification report:\\n\", classification_report(y_test, lr_prediction))\n",
    "print(\"Matthews correlation coefficient:\\n\", matthews_corrcoef(y_test, lr_prediction))\n",
    "print(gsearch_opt.best_params_)\n",
    "\n",
    "plt.show()"
   ]
  },
  {
   "cell_type": "code",
   "execution_count": 15,
   "id": "6d97f6dd",
   "metadata": {
    "colab": {
     "base_uri": "https://localhost:8080/",
     "height": 612
    },
    "executionInfo": {
     "elapsed": 1680824,
     "status": "ok",
     "timestamp": 1671219135419,
     "user": {
      "displayName": "Karlo Kada",
      "userId": "01507866433432126286"
     },
     "user_tz": -60
    },
    "id": "6d97f6dd",
    "outputId": "0d0aa66a-b353-4074-c448-eeb87c4808bf"
   },
   "outputs": [
    {
     "name": "stdout",
     "output_type": "stream",
     "text": [
      "[LibSVM]Classification report:\n",
      "               precision    recall  f1-score   support\n",
      "\n",
      "           0       0.60      0.84      0.70      3460\n",
      "           1       0.65      0.35      0.45      2928\n",
      "\n",
      "    accuracy                           0.61      6388\n",
      "   macro avg       0.62      0.59      0.58      6388\n",
      "weighted avg       0.62      0.61      0.59      6388\n",
      "\n",
      "Matthews correlation coefficient:\n",
      " 0.21478137756167573\n"
     ]
    },
    {
     "data": {
      "image/png": "[encoded data removed]",
      "text/plain": [
       "<Figure size 1080x432 with 3 Axes>"
      ]
     },
     "metadata": {
      "needs_background": "light"
     },
     "output_type": "display_data"
    }
   ],
   "source": [
    "svc_model = SVC(verbose = True)\n",
    "\n",
    "svc_model.fit(X_train, y_train)\n",
    "\n",
    "svc_predict = svc_model.predict(X_test)\n",
    "svc_cm = confusion_matrix(y_test, svc_predict)\n",
    "\n",
    "svm_fpr, svm_tpr, svm_thr = roc_curve(y_test, svc_predict)\n",
    "svm_auc = auc(svm_fpr, svm_tpr)\n",
    "\n",
    "plt.figure(figsize = (15, 6))\n",
    "\n",
    "ax= plt.subplot(1, 2, 1)\n",
    "sns.heatmap(svc_cm, annot=True, fmt='g', ax=ax)\n",
    "\n",
    "ax.set_xlabel('Predicted labels')\n",
    "ax.set_ylabel('True labels') \n",
    "ax.set_title('SVM Confusion Matrix')\n",
    "\n",
    "plt.subplot(1,2,2, title = \"ROC krivulja\")\n",
    "plt.plot(svm_fpr, svm_tpr, linestyle = \"-\", label = \"SVM (auc) = %0.3f\" % svm_auc)\n",
    "plt.legend()\n",
    "\n",
    "print(\"Classification report:\\n\", classification_report(y_test, svc_predict))\n",
    "print(\"Matthews correlation coefficient:\\n\", matthews_corrcoef(y_test, svc_predict))\n",
    "\n",
    "plt.show()"
   ]
  },
  {
   "cell_type": "code",
   "execution_count": 51,
   "id": "oboF0nEpmII6",
   "metadata": {
    "colab": {
     "base_uri": "https://localhost:8080/",
     "height": 754
    },
    "executionInfo": {
     "elapsed": 2412,
     "status": "ok",
     "timestamp": 1671224717562,
     "user": {
      "displayName": "Karlo Kada",
      "userId": "01507866433432126286"
     },
     "user_tz": -60
    },
    "id": "oboF0nEpmII6",
    "outputId": "9ba44ff4-d5c0-45ce-8fbc-fceacca02c98"
   },
   "outputs": [
    {
     "name": "stdout",
     "output_type": "stream",
     "text": [
      "200/200 [==============================] - 1s 3ms/step\n"
     ]
    },
    {
     "name": "stderr",
     "output_type": "stream",
     "text": [
      "/usr/local/lib/python3.8/dist-packages/sklearn/metrics/_classification.py:1318: UndefinedMetricWarning: Precision and F-score are ill-defined and being set to 0.0 in labels with no predicted samples. Use `zero_division` parameter to control this behavior.\n",
      "  _warn_prf(average, modifier, msg_start, len(result))\n",
      "/usr/local/lib/python3.8/dist-packages/sklearn/metrics/_classification.py:1318: UndefinedMetricWarning: Precision and F-score are ill-defined and being set to 0.0 in labels with no predicted samples. Use `zero_division` parameter to control this behavior.\n",
      "  _warn_prf(average, modifier, msg_start, len(result))\n",
      "/usr/local/lib/python3.8/dist-packages/sklearn/metrics/_classification.py:1318: UndefinedMetricWarning: Precision and F-score are ill-defined and being set to 0.0 in labels with no predicted samples. Use `zero_division` parameter to control this behavior.\n",
      "  _warn_prf(average, modifier, msg_start, len(result))\n"
     ]
    },
    {
     "name": "stdout",
     "output_type": "stream",
     "text": [
      "Classification report:\n",
      "               precision    recall  f1-score   support\n",
      "\n",
      "           0       0.00      0.00      0.00      3470\n",
      "           1       0.46      1.00      0.63      2918\n",
      "\n",
      "    accuracy                           0.46      6388\n",
      "   macro avg       0.23      0.50      0.31      6388\n",
      "weighted avg       0.21      0.46      0.29      6388\n",
      "\n",
      "Matthews correlation coefficient:\n",
      " 0.0\n"
     ]
    },
    {
     "data": {
      "image/png": "[encoded data removed]",
      "text/plain": [
       "<Figure size 1080x432 with 3 Axes>"
      ]
     },
     "metadata": {
      "needs_background": "light"
     },
     "output_type": "display_data"
    }
   ],
   "source": [
    "neural_model1 = Sequential()\n",
    "neural_model1.add(layers.Dense(50, activation = \"relu\", input_dim=len(X[0, :]), kernel_regularizer=L2(0.0001)))\n",
    "neural_model1.add(layers.Dense(1, activation = \"sigmoid\", kernel_regularizer=L2(0.0001)))\n",
    "neural_model1.compile(loss=\"binary_crossentropy\", optimizer=SGD(5), metrics = ['accuracy'])\n",
    "\n",
    "neural_model1.fit(x = X_train, y = y_train, epochs=20, verbose = 1)\n",
    "\n",
    "neural_predict1 = neural_model1.predict(X_test)\n",
    "neural_cm1 = confusion_matrix(y_test, neural_predict1.round())\n",
    "\n",
    "neural_fpr1, neural_tpr1, neural_thr1 = roc_curve(y_test, neural_predict1.round())\n",
    "neural_auc1 = auc(neural_fpr1, neural_tpr1)\n",
    "\n",
    "plt.figure(figsize = (15, 6))\n",
    "\n",
    "ax= plt.subplot(1, 2, 1)\n",
    "sns.heatmap(neural_cm1, annot=True, fmt='g', ax=ax)\n",
    "\n",
    "ax.set_xlabel('Predicted labels')\n",
    "ax.set_ylabel('True labels') \n",
    "ax.set_title('Neural network Confusion Matrix')\n",
    "\n",
    "plt.subplot(1,2,2, title = \"ROC krivulja\")\n",
    "plt.plot(neural_fpr1, neural_tpr1, linestyle = \"-\", label = \"RELU/sigmoid neural network (auc) = %0.3f\" % neural_auc1)\n",
    "plt.legend()\n",
    "\n",
    "print(\"Classification report:\\n\", classification_report(y_test, neural_predict1.round()))\n",
    "print(\"Matthews correlation coefficient:\\n\", matthews_corrcoef(y_test, neural_predict1.round()))\n",
    "\n",
    "plt.show()"
   ]
  },
  {
   "cell_type": "code",
   "execution_count": 52,
   "id": "gfs1PyPixBPh",
   "metadata": {
    "colab": {
     "base_uri": "https://localhost:8080/",
     "height": 1000
    },
    "executionInfo": {
     "elapsed": 157304,
     "status": "ok",
     "timestamp": 1671225148109,
     "user": {
      "displayName": "Karlo Kada",
      "userId": "01507866433432126286"
     },
     "user_tz": -60
    },
    "id": "gfs1PyPixBPh",
    "outputId": "939ea520-9674-4990-ece0-abc51e997ca2"
   },
   "outputs": [
    {
     "name": "stdout",
     "output_type": "stream",
     "text": [
      "Epoch 1/20\n",
      "3793/3793 [==============================] - 8s 2ms/step - loss: 0.7001 - accuracy: 0.5801\n",
      "Epoch 2/20\n",
      "3793/3793 [==============================] - 7s 2ms/step - loss: 0.6835 - accuracy: 0.5870\n",
      "Epoch 3/20\n",
      "3793/3793 [==============================] - 7s 2ms/step - loss: 0.6830 - accuracy: 0.5867\n",
      "Epoch 4/20\n",
      "3793/3793 [==============================] - 8s 2ms/step - loss: 0.6848 - accuracy: 0.5861\n",
      "Epoch 5/20\n",
      "3793/3793 [==============================] - 8s 2ms/step - loss: 0.6845 - accuracy: 0.5854\n",
      "Epoch 6/20\n",
      "3793/3793 [==============================] - 8s 2ms/step - loss: 0.6861 - accuracy: 0.5830\n",
      "Epoch 7/20\n",
      "3793/3793 [==============================] - 8s 2ms/step - loss: 0.6836 - accuracy: 0.5865\n",
      "Epoch 8/20\n",
      "3793/3793 [==============================] - 10s 3ms/step - loss: 0.6833 - accuracy: 0.5862\n",
      "Epoch 9/20\n",
      "3793/3793 [==============================] - 8s 2ms/step - loss: 0.6843 - accuracy: 0.5864\n",
      "Epoch 10/20\n",
      "3793/3793 [==============================] - 7s 2ms/step - loss: 0.6838 - accuracy: 0.5873\n",
      "Epoch 11/20\n",
      "3793/3793 [==============================] - 8s 2ms/step - loss: 0.6840 - accuracy: 0.5848\n",
      "Epoch 12/20\n",
      "3793/3793 [==============================] - 8s 2ms/step - loss: 0.6843 - accuracy: 0.5855\n",
      "Epoch 13/20\n",
      "3793/3793 [==============================] - 8s 2ms/step - loss: 0.6852 - accuracy: 0.5847\n",
      "Epoch 14/20\n",
      "3793/3793 [==============================] - 7s 2ms/step - loss: 0.6840 - accuracy: 0.5858\n",
      "Epoch 15/20\n",
      "3793/3793 [==============================] - 8s 2ms/step - loss: 0.6833 - accuracy: 0.5876\n",
      "Epoch 16/20\n",
      "3793/3793 [==============================] - 9s 2ms/step - loss: 0.6830 - accuracy: 0.5866\n",
      "Epoch 17/20\n",
      "3793/3793 [==============================] - 8s 2ms/step - loss: 0.6838 - accuracy: 0.5868\n",
      "Epoch 18/20\n",
      "3793/3793 [==============================] - 7s 2ms/step - loss: 0.6856 - accuracy: 0.5856\n",
      "Epoch 19/20\n",
      "3793/3793 [==============================] - 7s 2ms/step - loss: 0.6846 - accuracy: 0.5858\n",
      "Epoch 20/20\n",
      "3793/3793 [==============================] - 7s 2ms/step - loss: 0.6870 - accuracy: 0.5834\n",
      "200/200 [==============================] - 0s 1ms/step\n",
      "Classification report:\n",
      "               precision    recall  f1-score   support\n",
      "\n",
      "           0       0.59      0.88      0.71      3470\n",
      "           1       0.66      0.27      0.39      2918\n",
      "\n",
      "    accuracy                           0.60      6388\n",
      "   macro avg       0.63      0.58      0.55      6388\n",
      "weighted avg       0.62      0.60      0.56      6388\n",
      "\n",
      "Matthews correlation coefficient:\n",
      " 0.1997267489287568\n"
     ]
    },
    {
     "data": {
      "image/png": "[encoded data removed]",
      "text/plain": [
       "<Figure size 1080x432 with 3 Axes>"
      ]
     },
     "metadata": {
      "needs_background": "light"
     },
     "output_type": "display_data"
    }
   ],
   "source": [
    "neural_model2 = Sequential()\n",
    "neural_model2.add(layers.Dense(50, activation = \"sigmoid\", input_dim=len(X[0, :]), kernel_regularizer=L2(0.0001)))\n",
    "neural_model2.add(layers.Dense(1, activation = \"sigmoid\", kernel_regularizer=L2(0.0001)))\n",
    "neural_model2.compile(loss=\"binary_crossentropy\", optimizer=SGD(5), metrics = ['accuracy'])\n",
    "\n",
    "neural_model2.fit(x = X_train, y = y_train, epochs=20, verbose = 1)\n",
    "\n",
    "neural_predict2 = neural_model2.predict(X_test)\n",
    "neural_cm2 = confusion_matrix(y_test, neural_predict2.round())\n",
    "\n",
    "neural_fpr2, neural_tpr2, neural_thr2 = roc_curve(y_test, neural_predict2.round())\n",
    "neural_auc2 = auc(neural_fpr2, neural_tpr2)\n",
    "\n",
    "plt.figure(figsize = (15, 6))\n",
    "\n",
    "ax= plt.subplot(1, 2, 1)\n",
    "sns.heatmap(neural_cm2, annot=True, fmt='g', ax=ax)\n",
    "\n",
    "ax.set_xlabel('Predicted labels')\n",
    "ax.set_ylabel('True labels') \n",
    "ax.set_title('Neural network Confusion Matrix')\n",
    "\n",
    "plt.subplot(1,2,2, title = \"ROC krivulja\")\n",
    "plt.plot(neural_fpr2, neural_tpr2, linestyle = \"-\", label = \"RELU/sigmoid neural network (auc) = %0.3f\" % neural_auc2)\n",
    "plt.legend()\n",
    "\n",
    "print(\"Classification report:\\n\", classification_report(y_test, neural_predict2.round()))\n",
    "print(\"Matthews correlation coefficient:\\n\", matthews_corrcoef(y_test, neural_predict2.round()))\n",
    "\n",
    "plt.show()"
   ]
  },
  {
   "cell_type": "code",
   "execution_count": 7,
   "id": "5DD5MEocg-L6",
   "metadata": {
    "colab": {
     "base_uri": "https://localhost:8080/",
     "height": 612
    },
    "executionInfo": {
     "elapsed": 1040,
     "status": "ok",
     "timestamp": 1671216437795,
     "user": {
      "displayName": "Karlo Kada",
      "userId": "01507866433432126286"
     },
     "user_tz": -60
    },
    "id": "5DD5MEocg-L6",
    "outputId": "d2ed6185-9fba-4d0e-f0dd-87d72f6753bb"
   },
   "outputs": [
    {
     "name": "stdout",
     "output_type": "stream",
     "text": [
      "Classification report:\n",
      "               precision    recall  f1-score   support\n",
      "\n",
      "           0       0.57      0.84      0.68      3501\n",
      "           1       0.55      0.23      0.33      2887\n",
      "\n",
      "    accuracy                           0.57      6388\n",
      "   macro avg       0.56      0.54      0.51      6388\n",
      "weighted avg       0.56      0.57      0.52      6388\n",
      "\n",
      "Matthews correlation coefficient:\n",
      " 0.09930960888436315\n"
     ]
    },
    {
     "data": {
      "image/png": "[encoded data removed]",
      "text/plain": [
       "<Figure size 1080x432 with 3 Axes>"
      ]
     },
     "metadata": {
      "needs_background": "light"
     },
     "output_type": "display_data"
    }
   ],
   "source": [
    "# naive Bayes\n",
    "X_copy = X.copy()\n",
    "mm_scaler = MinMaxScaler()\n",
    "X_naive_scaled = mm_scaler.fit_transform(X_copy)\n",
    "\n",
    "X_n_train, X_n_test, y_n_train, y_n_test = train_test_split(X_naive_scaled, y, train_size = 0.95)\n",
    "\n",
    "bayes_model = MultinomialNB()\n",
    "\n",
    "bayes_model.fit(X_n_train, y_n_train)\n",
    "\n",
    "bayes_predict = bayes_model.predict(X_n_test)\n",
    "bayes_cm = confusion_matrix(y_n_test, bayes_predict)\n",
    "\n",
    "bayes_fpr, bayes_tpr, bayes_thr = roc_curve(y_n_test, bayes_model.predict_proba(X_n_test)[::,1])\n",
    "bayes_auc = auc(bayes_fpr, bayes_tpr)\n",
    "\n",
    "plt.figure(figsize = (15, 6))\n",
    "\n",
    "ax= plt.subplot(1, 2, 1)\n",
    "sns.heatmap(bayes_cm, annot=True, fmt='g', ax=ax)\n",
    "\n",
    "ax.set_xlabel('Predicted labels')\n",
    "ax.set_ylabel('True labels') \n",
    "ax.set_title('Naive Bayes Confusion Matrix')\n",
    "\n",
    "plt.subplot(1,2,2, title = \"ROC krivulja\")\n",
    "plt.plot(bayes_fpr, bayes_tpr, linestyle = \"-\", label = \"Naive Bayes (auc) = %0.3f\" % bayes_auc)\n",
    "plt.legend()\n",
    "\n",
    "print(\"Classification report:\\n\", classification_report(y_n_test, bayes_predict))\n",
    "print(\"Matthews correlation coefficient:\\n\", matthews_corrcoef(y_n_test, bayes_predict))\n",
    "\n",
    "plt.show()"
   ]
  },
  {
   "cell_type": "code",
   "execution_count": 67,
   "id": "A0nM1iQJsLxv",
   "metadata": {
    "colab": {
     "base_uri": "https://localhost:8080/",
     "height": 612
    },
    "executionInfo": {
     "elapsed": 17721,
     "status": "ok",
     "timestamp": 1671228467958,
     "user": {
      "displayName": "Karlo Kada",
      "userId": "01507866433432126286"
     },
     "user_tz": -60
    },
    "id": "A0nM1iQJsLxv",
    "outputId": "5af93a58-4953-4dca-bfa7-1cc2da028d4b"
   },
   "outputs": [
    {
     "name": "stdout",
     "output_type": "stream",
     "text": [
      "Classification report:\n",
      "               precision    recall  f1-score   support\n",
      "\n",
      "           0       0.61      0.83      0.70      3470\n",
      "           1       0.64      0.36      0.46      2918\n",
      "\n",
      "    accuracy                           0.61      6388\n",
      "   macro avg       0.62      0.59      0.58      6388\n",
      "weighted avg       0.62      0.61      0.59      6388\n",
      "\n",
      "Matthews correlation coefficient:\n",
      " 0.21517278623010558\n"
     ]
    },
    {
     "data": {
      "image/png": "[encoded data removed]",
      "text/plain": [
       "<Figure size 1080x432 with 3 Axes>"
      ]
     },
     "metadata": {
      "needs_background": "light"
     },
     "output_type": "display_data"
    }
   ],
   "source": [
    "forest_model = RandomForestClassifier(n_estimators = 80, min_samples_leaf = 50)\n",
    "\n",
    "forest_model.fit(X_train, y_train)\n",
    "\n",
    "forest_predict = forest_model.predict(X_test)\n",
    "forest_cm = confusion_matrix(y_test, forest_predict)\n",
    "\n",
    "forest_fpr, forest_tpr, forest_thr = roc_curve(y_test, forest_model.predict_proba(X_test)[::,1])\n",
    "forest_auc = auc(forest_fpr, forest_tpr)\n",
    "\n",
    "plt.figure(figsize = (15, 6))\n",
    "\n",
    "ax= plt.subplot(1, 2, 1)\n",
    "sns.heatmap(forest_cm, annot=True, fmt='g', ax=ax)\n",
    "\n",
    "ax.set_xlabel('Predicted labels')\n",
    "ax.set_ylabel('True labels') \n",
    "ax.set_title('Random forests Confusion Matrix')\n",
    "\n",
    "plt.subplot(1,2,2, title = \"ROC krivulja\")\n",
    "plt.plot(forest_fpr, forest_tpr, linestyle = \"-\", label = \"Random forests (auc) = %0.3f\" % forest_auc)\n",
    "plt.legend()\n",
    "\n",
    "print(\"Classification report:\\n\", classification_report(y_test, forest_predict))\n",
    "print(\"Matthews correlation coefficient:\\n\", matthews_corrcoef(y_test, forest_predict))\n",
    "\n",
    "plt.show()"
   ]
  },
  {
   "cell_type": "code",
   "execution_count": 69,
   "id": "ibeKoLrqrdGD",
   "metadata": {
    "colab": {
     "base_uri": "https://localhost:8080/",
     "height": 647
    },
    "executionInfo": {
     "elapsed": 140669,
     "status": "ok",
     "timestamp": 1671229046806,
     "user": {
      "displayName": "Karlo Kada",
      "userId": "01507866433432126286"
     },
     "user_tz": -60
    },
    "id": "ibeKoLrqrdGD",
    "outputId": "f7813ba7-3c46-4305-dd23-44fd846d3952"
   },
   "outputs": [
    {
     "name": "stdout",
     "output_type": "stream",
     "text": [
      "Fitting 5 folds for each of 64 candidates, totalling 320 fits\n",
      "Classification report:\n",
      "               precision    recall  f1-score   support\n",
      "\n",
      "           0       0.60      0.87      0.71      3470\n",
      "           1       0.66      0.30      0.41      2918\n",
      "\n",
      "    accuracy                           0.61      6388\n",
      "   macro avg       0.63      0.58      0.56      6388\n",
      "weighted avg       0.62      0.61      0.57      6388\n",
      "\n",
      "Matthews correlation coefficient:\n",
      " 0.20464932440306496\n",
      "{'learning_rate': 0.0001, 'max_depth': 4, 'min_child_weight': 0.0001, 'n_estimators': 10}\n"
     ]
    },
    {
     "data": {
      "image/png": "[encoded data removed]",
      "text/plain": [
       "<Figure size 1080x432 with 3 Axes>"
      ]
     },
     "metadata": {
      "needs_background": "light"
     },
     "output_type": "display_data"
    }
   ],
   "source": [
    "parameters_for_testing = {\n",
    "    \"min_child_weight\": [0.0001, 0.001, 0.01, 0.1],\n",
    "    \"learning_rate\": [0.0001, 0.001],\n",
    "    \"n_estimators\": [1, 3, 5, 10],\n",
    "    \"max_depth\": [3, 4],\n",
    "}\n",
    "\n",
    "boosting_opt = xgb.XGBClassifier()\n",
    "\n",
    "gsearch_opt = GridSearchCV(\n",
    "    estimator = boosting_opt,\n",
    "    param_grid = parameters_for_testing,\n",
    "    scoring = \"accuracy\",\n",
    "    verbose = 1,\n",
    ")\n",
    "\n",
    "gsearch_opt.fit(X_train, y_train)\n",
    "boosting_predict = gsearch_opt.predict(X_test)\n",
    "boosting_cm = confusion_matrix(y_test, boosting_predict)\n",
    "\n",
    "boosting_fpr, boosting_tpr, boosting_thr = roc_curve(y_test, gsearch_opt.predict_proba(X_test)[::,1])\n",
    "boosting_auc = auc(boosting_fpr, boosting_tpr)\n",
    "\n",
    "plt.figure(figsize = (15, 6))\n",
    "\n",
    "ax= plt.subplot(1, 2, 1)\n",
    "sns.heatmap(boosting_cm, annot=True, fmt='g', ax=ax)\n",
    "\n",
    "ax.set_xlabel('Predicted labels')\n",
    "ax.set_ylabel('True labels') \n",
    "ax.set_title('Boosting Confusion Matrix')\n",
    "\n",
    "plt.subplot(1,2,2, title = \"ROC krivulja\")\n",
    "plt.plot(boosting_fpr, boosting_tpr, linestyle = \"-\", label = \"Boosting (auc) = %0.3f\" % boosting_auc)\n",
    "plt.legend()\n",
    "\n",
    "print(\"Classification report:\\n\", classification_report(y_test, boosting_predict))\n",
    "print(\"Matthews correlation coefficient:\\n\", matthews_corrcoef(y_test, boosting_predict))\n",
    "print(gsearch_opt.best_params_)\n",
    "\n",
    "plt.show()"
   ]
  }
 ],
 "metadata": {
  "colab": {
   "provenance": []
  },
  "kernelspec": {
   "display_name": "Python 3 (ipykernel)",
   "language": "python",
   "name": "python3"
  },
  "language_info": {
   "codemirror_mode": {
    "name": "ipython",
    "version": 3
   },
   "file_extension": ".py",
   "mimetype": "text/x-python",
   "name": "python",
   "nbconvert_exporter": "python",
   "pygments_lexer": "ipython3",
   "version": "3.9.12"
  }
 },
 "nbformat": 4,
 "nbformat_minor": 5
}
